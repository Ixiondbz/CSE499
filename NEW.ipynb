{
  "nbformat": 4,
  "nbformat_minor": 0,
  "metadata": {
    "colab": {
      "name": "Untitled1.ipynb",
      "provenance": [],
      "collapsed_sections": [],
      "include_colab_link": true
    },
    "kernelspec": {
      "name": "python3",
      "display_name": "Python 3"
    },
    "language_info": {
      "name": "python"
    },
    "accelerator": "GPU"
  },
  "cells": [
    {
      "cell_type": "markdown",
      "metadata": {
        "id": "view-in-github",
        "colab_type": "text"
      },
      "source": [
        "<a href=\"https://colab.research.google.com/github/Ixiondbz/CSE499/blob/main/NEW.ipynb\" target=\"_parent\"><img src=\"https://colab.research.google.com/assets/colab-badge.svg\" alt=\"Open In Colab\"/></a>"
      ]
    },
    {
      "cell_type": "code",
      "execution_count": 1,
      "metadata": {
        "id": "UqOA1MxA8npn",
        "colab": {
          "base_uri": "https://localhost:8080/"
        },
        "outputId": "98ff2b3c-470a-4844-8328-ac05ad91d136"
      },
      "outputs": [
        {
          "output_type": "stream",
          "name": "stdout",
          "text": [
            "Collecting albumentations==0.4.6\n",
            "  Downloading albumentations-0.4.6.tar.gz (117 kB)\n",
            "\u001b[?25l\r\u001b[K     |██▉                             | 10 kB 10.3 MB/s eta 0:00:01\r\u001b[K     |█████▋                          | 20 kB 12.0 MB/s eta 0:00:01\r\u001b[K     |████████▍                       | 30 kB 9.8 MB/s eta 0:00:01\r\u001b[K     |███████████▏                    | 40 kB 7.9 MB/s eta 0:00:01\r\u001b[K     |██████████████                  | 51 kB 6.2 MB/s eta 0:00:01\r\u001b[K     |████████████████▊               | 61 kB 6.2 MB/s eta 0:00:01\r\u001b[K     |███████████████████▋            | 71 kB 5.5 MB/s eta 0:00:01\r\u001b[K     |██████████████████████▍         | 81 kB 6.1 MB/s eta 0:00:01\r\u001b[K     |█████████████████████████▏      | 92 kB 6.4 MB/s eta 0:00:01\r\u001b[K     |████████████████████████████    | 102 kB 5.7 MB/s eta 0:00:01\r\u001b[K     |██████████████████████████████▊ | 112 kB 5.7 MB/s eta 0:00:01\r\u001b[K     |████████████████████████████████| 117 kB 5.7 MB/s \n",
            "\u001b[?25hRequirement already satisfied: numpy>=1.11.1 in /usr/local/lib/python3.7/dist-packages (from albumentations==0.4.6) (1.19.5)\n",
            "Requirement already satisfied: scipy in /usr/local/lib/python3.7/dist-packages (from albumentations==0.4.6) (1.4.1)\n",
            "Collecting imgaug>=0.4.0\n",
            "  Downloading imgaug-0.4.0-py2.py3-none-any.whl (948 kB)\n",
            "\u001b[K     |████████████████████████████████| 948 kB 17.7 MB/s \n",
            "\u001b[?25hRequirement already satisfied: PyYAML in /usr/local/lib/python3.7/dist-packages (from albumentations==0.4.6) (3.13)\n",
            "Requirement already satisfied: opencv-python>=4.1.1 in /usr/local/lib/python3.7/dist-packages (from albumentations==0.4.6) (4.1.2.30)\n",
            "Requirement already satisfied: Shapely in /usr/local/lib/python3.7/dist-packages (from imgaug>=0.4.0->albumentations==0.4.6) (1.8.0)\n",
            "Requirement already satisfied: matplotlib in /usr/local/lib/python3.7/dist-packages (from imgaug>=0.4.0->albumentations==0.4.6) (3.2.2)\n",
            "Requirement already satisfied: imageio in /usr/local/lib/python3.7/dist-packages (from imgaug>=0.4.0->albumentations==0.4.6) (2.4.1)\n",
            "Requirement already satisfied: Pillow in /usr/local/lib/python3.7/dist-packages (from imgaug>=0.4.0->albumentations==0.4.6) (7.1.2)\n",
            "Requirement already satisfied: six in /usr/local/lib/python3.7/dist-packages (from imgaug>=0.4.0->albumentations==0.4.6) (1.15.0)\n",
            "Requirement already satisfied: scikit-image>=0.14.2 in /usr/local/lib/python3.7/dist-packages (from imgaug>=0.4.0->albumentations==0.4.6) (0.18.3)\n",
            "Requirement already satisfied: networkx>=2.0 in /usr/local/lib/python3.7/dist-packages (from scikit-image>=0.14.2->imgaug>=0.4.0->albumentations==0.4.6) (2.6.3)\n",
            "Requirement already satisfied: tifffile>=2019.7.26 in /usr/local/lib/python3.7/dist-packages (from scikit-image>=0.14.2->imgaug>=0.4.0->albumentations==0.4.6) (2021.11.2)\n",
            "Requirement already satisfied: PyWavelets>=1.1.1 in /usr/local/lib/python3.7/dist-packages (from scikit-image>=0.14.2->imgaug>=0.4.0->albumentations==0.4.6) (1.2.0)\n",
            "Requirement already satisfied: kiwisolver>=1.0.1 in /usr/local/lib/python3.7/dist-packages (from matplotlib->imgaug>=0.4.0->albumentations==0.4.6) (1.3.2)\n",
            "Requirement already satisfied: cycler>=0.10 in /usr/local/lib/python3.7/dist-packages (from matplotlib->imgaug>=0.4.0->albumentations==0.4.6) (0.11.0)\n",
            "Requirement already satisfied: pyparsing!=2.0.4,!=2.1.2,!=2.1.6,>=2.0.1 in /usr/local/lib/python3.7/dist-packages (from matplotlib->imgaug>=0.4.0->albumentations==0.4.6) (3.0.6)\n",
            "Requirement already satisfied: python-dateutil>=2.1 in /usr/local/lib/python3.7/dist-packages (from matplotlib->imgaug>=0.4.0->albumentations==0.4.6) (2.8.2)\n",
            "Building wheels for collected packages: albumentations\n",
            "  Building wheel for albumentations (setup.py) ... \u001b[?25l\u001b[?25hdone\n",
            "  Created wheel for albumentations: filename=albumentations-0.4.6-py3-none-any.whl size=65172 sha256=c04839347ab7a1e85ab9e6ef704639b9dbd8503d94a0e278d7a728265465acd8\n",
            "  Stored in directory: /root/.cache/pip/wheels/cf/34/0f/cb2a5f93561a181a4bcc84847ad6aaceea8b5a3127469616cc\n",
            "Successfully built albumentations\n",
            "Installing collected packages: imgaug, albumentations\n",
            "  Attempting uninstall: imgaug\n",
            "    Found existing installation: imgaug 0.2.9\n",
            "    Uninstalling imgaug-0.2.9:\n",
            "      Successfully uninstalled imgaug-0.2.9\n",
            "  Attempting uninstall: albumentations\n",
            "    Found existing installation: albumentations 0.1.12\n",
            "    Uninstalling albumentations-0.1.12:\n",
            "      Successfully uninstalled albumentations-0.1.12\n",
            "Successfully installed albumentations-0.4.6 imgaug-0.4.0\n",
            "Cloning into 'vision'...\n",
            "remote: Enumerating objects: 73159, done.\u001b[K\n",
            "remote: Counting objects: 100% (8221/8221), done.\u001b[K\n",
            "remote: Compressing objects: 100% (669/669), done.\u001b[K\n",
            "remote: Total 73159 (delta 7583), reused 8075 (delta 7509), pack-reused 64938\u001b[K\n",
            "Receiving objects: 100% (73159/73159), 142.86 MiB | 25.00 MiB/s, done.\n",
            "Resolving deltas: 100% (60710/60710), done.\n",
            "/content/vision\n",
            "Note: checking out 'v0.3.0'.\n",
            "\n",
            "You are in 'detached HEAD' state. You can look around, make experimental\n",
            "changes and commit them, and you can discard any commits you make in this\n",
            "state without impacting any branches by performing another checkout.\n",
            "\n",
            "If you want to create a new branch to retain commits you create, you may\n",
            "do so (now or later) by using -b with the checkout command again. Example:\n",
            "\n",
            "  git checkout -b <new-branch-name>\n",
            "\n",
            "HEAD is now at be376084d version check against PyTorch's CUDA version\n",
            "/content\n",
            "Reading package lists... Done\n",
            "Building dependency tree       \n",
            "Reading state information... Done\n",
            "The following additional packages will be installed:\n",
            "  javascript-common libjs-jquery libopenslide0 python-asn1crypto\n",
            "  python-blinker python-cffi-backend python-click python-colorama\n",
            "  python-cryptography python-enum34 python-flask python-idna python-ipaddress\n",
            "  python-itsdangerous python-jinja2 python-markupsafe\n",
            "  python-openslide-examples python-openssl python-pkg-resources\n",
            "  python-pyinotify python-simplejson python-six python-werkzeug\n",
            "  python3-olefile python3-pil\n",
            "Suggested packages:\n",
            "  apache2 | lighttpd | httpd python-blinker-doc python-cryptography-doc\n",
            "  python-cryptography-vectors python-enum34-doc python-flask-doc\n",
            "  python-jinja2-doc python-openssl-doc python-openssl-dbg python-setuptools\n",
            "  python-pyinotify-doc ipython python-genshi python-lxml python-greenlet\n",
            "  python-redis python-pylibmc | python-memcache python-termcolor\n",
            "  python-watchdog python-werkzeug-doc python-pil-doc python3-pil-dbg\n",
            "The following NEW packages will be installed:\n",
            "  javascript-common libjs-jquery libopenslide0 python-asn1crypto\n",
            "  python-blinker python-cffi-backend python-click python-colorama\n",
            "  python-cryptography python-enum34 python-flask python-idna python-ipaddress\n",
            "  python-itsdangerous python-jinja2 python-markupsafe\n",
            "  python-openslide-examples python-openssl python-pkg-resources\n",
            "  python-pyinotify python-simplejson python-six python-werkzeug\n",
            "  python3-olefile python3-openslide python3-pil\n",
            "0 upgraded, 26 newly installed, 0 to remove and 37 not upgraded.\n",
            "Need to get 1,997 kB of archives.\n",
            "After this operation, 9,740 kB of additional disk space will be used.\n",
            "Get:1 http://archive.ubuntu.com/ubuntu bionic/main amd64 javascript-common all 11 [6,066 B]\n",
            "Get:2 http://archive.ubuntu.com/ubuntu bionic/main amd64 libjs-jquery all 3.2.1-1 [152 kB]\n",
            "Get:3 http://archive.ubuntu.com/ubuntu bionic/universe amd64 libopenslide0 amd64 3.4.1+dfsg-2 [79.8 kB]\n",
            "Get:4 http://archive.ubuntu.com/ubuntu bionic/main amd64 python-asn1crypto all 0.24.0-1 [72.7 kB]\n",
            "Get:5 http://archive.ubuntu.com/ubuntu bionic/main amd64 python-blinker all 1.4+dfsg1-0.1 [13.0 kB]\n",
            "Get:6 http://archive.ubuntu.com/ubuntu bionic/main amd64 python-cffi-backend amd64 1.11.5-1 [63.4 kB]\n",
            "Get:7 http://archive.ubuntu.com/ubuntu bionic/main amd64 python-colorama all 0.3.7-1 [22.6 kB]\n",
            "Get:8 http://archive.ubuntu.com/ubuntu bionic/main amd64 python-click all 6.7-3 [56.4 kB]\n",
            "Get:9 http://archive.ubuntu.com/ubuntu bionic/main amd64 python-enum34 all 1.1.6-2 [34.8 kB]\n",
            "Get:10 http://archive.ubuntu.com/ubuntu bionic/main amd64 python-idna all 2.6-1 [32.4 kB]\n",
            "Get:11 http://archive.ubuntu.com/ubuntu bionic/main amd64 python-ipaddress all 1.0.17-1 [18.2 kB]\n",
            "Get:12 http://archive.ubuntu.com/ubuntu bionic/main amd64 python-six all 1.11.0-2 [11.3 kB]\n",
            "Get:13 http://archive.ubuntu.com/ubuntu bionic-updates/main amd64 python-cryptography amd64 2.1.4-1ubuntu1.4 [276 kB]\n",
            "Get:14 http://archive.ubuntu.com/ubuntu bionic/main amd64 python-itsdangerous all 0.24+dfsg1-2 [11.9 kB]\n",
            "Get:15 http://archive.ubuntu.com/ubuntu bionic/main amd64 python-markupsafe amd64 1.0-1build1 [13.0 kB]\n",
            "Get:16 http://archive.ubuntu.com/ubuntu bionic-updates/main amd64 python-jinja2 all 2.10-1ubuntu0.18.04.1 [94.8 kB]\n",
            "Get:17 http://archive.ubuntu.com/ubuntu bionic-updates/main amd64 python-werkzeug all 0.14.1+dfsg1-1ubuntu0.1 [174 kB]\n",
            "Get:18 http://archive.ubuntu.com/ubuntu bionic-updates/main amd64 python-flask all 0.12.2-3ubuntu0.1 [62.4 kB]\n",
            "Get:19 http://archive.ubuntu.com/ubuntu bionic-updates/main amd64 python3-pil amd64 5.1.0-1ubuntu0.6 [330 kB]\n",
            "Get:20 http://archive.ubuntu.com/ubuntu bionic/universe amd64 python3-openslide amd64 1.1.1-2ubuntu4 [16.1 kB]\n",
            "Get:21 http://archive.ubuntu.com/ubuntu bionic/universe amd64 python-openslide-examples all 1.1.1-2ubuntu4 [168 kB]\n",
            "Get:22 http://archive.ubuntu.com/ubuntu bionic/main amd64 python-openssl all 17.5.0-1ubuntu1 [41.3 kB]\n",
            "Get:23 http://archive.ubuntu.com/ubuntu bionic/main amd64 python-pkg-resources all 39.0.1-2 [128 kB]\n",
            "Get:24 http://archive.ubuntu.com/ubuntu bionic/main amd64 python-pyinotify all 0.9.6-1 [24.6 kB]\n",
            "Get:25 http://archive.ubuntu.com/ubuntu bionic/main amd64 python-simplejson amd64 3.13.2-1 [61.2 kB]\n",
            "Get:26 http://archive.ubuntu.com/ubuntu bionic/main amd64 python3-olefile all 0.45.1-1 [33.3 kB]\n",
            "Fetched 1,997 kB in 1s (1,557 kB/s)\n",
            "Selecting previously unselected package javascript-common.\n",
            "(Reading database ... 155225 files and directories currently installed.)\n",
            "Preparing to unpack .../00-javascript-common_11_all.deb ...\n",
            "Unpacking javascript-common (11) ...\n",
            "Selecting previously unselected package libjs-jquery.\n",
            "Preparing to unpack .../01-libjs-jquery_3.2.1-1_all.deb ...\n",
            "Unpacking libjs-jquery (3.2.1-1) ...\n",
            "Selecting previously unselected package libopenslide0.\n",
            "Preparing to unpack .../02-libopenslide0_3.4.1+dfsg-2_amd64.deb ...\n",
            "Unpacking libopenslide0 (3.4.1+dfsg-2) ...\n",
            "Selecting previously unselected package python-asn1crypto.\n",
            "Preparing to unpack .../03-python-asn1crypto_0.24.0-1_all.deb ...\n",
            "Unpacking python-asn1crypto (0.24.0-1) ...\n",
            "Selecting previously unselected package python-blinker.\n",
            "Preparing to unpack .../04-python-blinker_1.4+dfsg1-0.1_all.deb ...\n",
            "Unpacking python-blinker (1.4+dfsg1-0.1) ...\n",
            "Selecting previously unselected package python-cffi-backend.\n",
            "Preparing to unpack .../05-python-cffi-backend_1.11.5-1_amd64.deb ...\n",
            "Unpacking python-cffi-backend (1.11.5-1) ...\n",
            "Selecting previously unselected package python-colorama.\n",
            "Preparing to unpack .../06-python-colorama_0.3.7-1_all.deb ...\n",
            "Unpacking python-colorama (0.3.7-1) ...\n",
            "Selecting previously unselected package python-click.\n",
            "Preparing to unpack .../07-python-click_6.7-3_all.deb ...\n",
            "Unpacking python-click (6.7-3) ...\n",
            "Selecting previously unselected package python-enum34.\n",
            "Preparing to unpack .../08-python-enum34_1.1.6-2_all.deb ...\n",
            "Unpacking python-enum34 (1.1.6-2) ...\n",
            "Selecting previously unselected package python-idna.\n",
            "Preparing to unpack .../09-python-idna_2.6-1_all.deb ...\n",
            "Unpacking python-idna (2.6-1) ...\n",
            "Selecting previously unselected package python-ipaddress.\n",
            "Preparing to unpack .../10-python-ipaddress_1.0.17-1_all.deb ...\n",
            "Unpacking python-ipaddress (1.0.17-1) ...\n",
            "Selecting previously unselected package python-six.\n",
            "Preparing to unpack .../11-python-six_1.11.0-2_all.deb ...\n",
            "Unpacking python-six (1.11.0-2) ...\n",
            "Selecting previously unselected package python-cryptography.\n",
            "Preparing to unpack .../12-python-cryptography_2.1.4-1ubuntu1.4_amd64.deb ...\n",
            "Unpacking python-cryptography (2.1.4-1ubuntu1.4) ...\n",
            "Selecting previously unselected package python-itsdangerous.\n",
            "Preparing to unpack .../13-python-itsdangerous_0.24+dfsg1-2_all.deb ...\n",
            "Unpacking python-itsdangerous (0.24+dfsg1-2) ...\n",
            "Selecting previously unselected package python-markupsafe.\n",
            "Preparing to unpack .../14-python-markupsafe_1.0-1build1_amd64.deb ...\n",
            "Unpacking python-markupsafe (1.0-1build1) ...\n",
            "Selecting previously unselected package python-jinja2.\n",
            "Preparing to unpack .../15-python-jinja2_2.10-1ubuntu0.18.04.1_all.deb ...\n",
            "Unpacking python-jinja2 (2.10-1ubuntu0.18.04.1) ...\n",
            "Selecting previously unselected package python-werkzeug.\n",
            "Preparing to unpack .../16-python-werkzeug_0.14.1+dfsg1-1ubuntu0.1_all.deb ...\n",
            "Unpacking python-werkzeug (0.14.1+dfsg1-1ubuntu0.1) ...\n",
            "Selecting previously unselected package python-flask.\n",
            "Preparing to unpack .../17-python-flask_0.12.2-3ubuntu0.1_all.deb ...\n",
            "Unpacking python-flask (0.12.2-3ubuntu0.1) ...\n",
            "Selecting previously unselected package python3-pil:amd64.\n",
            "Preparing to unpack .../18-python3-pil_5.1.0-1ubuntu0.6_amd64.deb ...\n",
            "Unpacking python3-pil:amd64 (5.1.0-1ubuntu0.6) ...\n",
            "Selecting previously unselected package python3-openslide.\n",
            "Preparing to unpack .../19-python3-openslide_1.1.1-2ubuntu4_amd64.deb ...\n",
            "Unpacking python3-openslide (1.1.1-2ubuntu4) ...\n",
            "Selecting previously unselected package python-openslide-examples.\n",
            "Preparing to unpack .../20-python-openslide-examples_1.1.1-2ubuntu4_all.deb ...\n",
            "Unpacking python-openslide-examples (1.1.1-2ubuntu4) ...\n",
            "Selecting previously unselected package python-openssl.\n",
            "Preparing to unpack .../21-python-openssl_17.5.0-1ubuntu1_all.deb ...\n",
            "Unpacking python-openssl (17.5.0-1ubuntu1) ...\n",
            "Selecting previously unselected package python-pkg-resources.\n",
            "Preparing to unpack .../22-python-pkg-resources_39.0.1-2_all.deb ...\n",
            "Unpacking python-pkg-resources (39.0.1-2) ...\n",
            "Selecting previously unselected package python-pyinotify.\n",
            "Preparing to unpack .../23-python-pyinotify_0.9.6-1_all.deb ...\n",
            "Unpacking python-pyinotify (0.9.6-1) ...\n",
            "Selecting previously unselected package python-simplejson.\n",
            "Preparing to unpack .../24-python-simplejson_3.13.2-1_amd64.deb ...\n",
            "Unpacking python-simplejson (3.13.2-1) ...\n",
            "Selecting previously unselected package python3-olefile.\n",
            "Preparing to unpack .../25-python3-olefile_0.45.1-1_all.deb ...\n",
            "Unpacking python3-olefile (0.45.1-1) ...\n",
            "Setting up python-idna (2.6-1) ...\n",
            "Setting up python-simplejson (3.13.2-1) ...\n",
            "Setting up libjs-jquery (3.2.1-1) ...\n",
            "Setting up python-asn1crypto (0.24.0-1) ...\n",
            "Setting up python3-pil:amd64 (5.1.0-1ubuntu0.6) ...\n",
            "Setting up python-blinker (1.4+dfsg1-0.1) ...\n",
            "Setting up python3-olefile (0.45.1-1) ...\n",
            "Setting up python-colorama (0.3.7-1) ...\n",
            "Setting up python-pkg-resources (39.0.1-2) ...\n",
            "Setting up python-markupsafe (1.0-1build1) ...\n",
            "Setting up python-werkzeug (0.14.1+dfsg1-1ubuntu0.1) ...\n",
            "Setting up python-pyinotify (0.9.6-1) ...\n",
            "Setting up python-cffi-backend (1.11.5-1) ...\n",
            "Setting up python-six (1.11.0-2) ...\n",
            "Setting up libopenslide0 (3.4.1+dfsg-2) ...\n",
            "Setting up python-enum34 (1.1.6-2) ...\n",
            "Setting up javascript-common (11) ...\n",
            "Setting up python-itsdangerous (0.24+dfsg1-2) ...\n",
            "Setting up python-ipaddress (1.0.17-1) ...\n",
            "Setting up python-jinja2 (2.10-1ubuntu0.18.04.1) ...\n",
            "Setting up python-click (6.7-3) ...\n",
            "Setting up python3-openslide (1.1.1-2ubuntu4) ...\n",
            "Setting up python-cryptography (2.1.4-1ubuntu1.4) ...\n",
            "Setting up python-flask (0.12.2-3ubuntu0.1) ...\n",
            "Setting up python-openssl (17.5.0-1ubuntu1) ...\n",
            "Setting up python-openslide-examples (1.1.1-2ubuntu4) ...\n",
            "Processing triggers for libc-bin (2.27-3ubuntu1.3) ...\n",
            "/sbin/ldconfig.real: /usr/local/lib/python3.7/dist-packages/ideep4py/lib/libmkldnn.so.0 is not a symbolic link\n",
            "\n"
          ]
        }
      ],
      "source": [
        "# Install dependencies and \n",
        "!pip install albumentations==0.4.6\n",
        "!pip install pycocotools --quiet\n",
        "\n",
        "# Clone TorchVision repo and copy helper files\n",
        "!git clone https://github.com/pytorch/vision.git\n",
        "%cd vision\n",
        "!git checkout v0.3.0\n",
        "%cd ..\n",
        "!cp vision/references/detection/utils.py ./\n",
        "!cp vision/references/detection/transforms.py ./\n",
        "!cp vision/references/detection/coco_eval.py ./\n",
        "!cp vision/references/detection/engine.py ./\n",
        "!cp vision/references/detection/coco_utils.py ./\n",
        "\n",
        "\n",
        "# basic python and ML Libraries\n",
        "import os\n",
        "import random\n",
        "import numpy as np\n",
        "import pandas as pd\n",
        "\n",
        "# for ignoring warnings\n",
        "import warnings\n",
        "warnings.filterwarnings('ignore')\n",
        "\n",
        "# We will be reading images using OpenCV\n",
        "import cv2\n",
        "\n",
        "# matplotlib for visualization\n",
        "import matplotlib.pyplot as plt\n",
        "import matplotlib.patches as patches\n",
        "\n",
        "# torchvision libraries\n",
        "import torch\n",
        "import torchvision\n",
        "from torchvision import transforms as torchtrans  \n",
        "from torchvision.models.detection.faster_rcnn import FastRCNNPredictor\n",
        "\n",
        "# helper libraries\n",
        "from engine import train_one_epoch, evaluate\n",
        "import utils\n",
        "import transforms as T\n",
        "\n",
        "# for image augmentations\n",
        "import albumentations as A\n",
        "from albumentations.pytorch.transforms import ToTensorV2\n",
        "\n",
        "!apt-get install python3-openslide\n",
        "from openslide import open_slide\n",
        "\n",
        "import plotly.express as px\n",
        "\n",
        "from torchvision.models.detection import FasterRCNN\n",
        "from torch.utils.data import DataLoader, Dataset"
      ]
    },
    {
      "cell_type": "code",
      "source": [
        "import json\n",
        "from pathlib import Path\n",
        "\n",
        "from google.colab import drive\n",
        "drive.mount('/drive')\n",
        "\n",
        "folder = \"MyDrive/MIDOG_Challenge\"\n",
        "midog_folder = Path(\"/drive\") / Path(folder)\n",
        "print(list(midog_folder.glob(\"*.*\")))\n",
        "\n",
        "image_folder = Path(\"/content/drive/MyDrive/CSE499 Project/train_images\")\n",
        "\n",
        "hamamatsu_rx_ids = list(range(0, 51))\n",
        "hamamatsu_360_ids = list(range(51, 101))\n",
        "aperio_ids = list(range(101, 151))\n",
        "leica_ids = list(range(151, 201))\n",
        "\n",
        "\n",
        "annotation_file = midog_folder / \"MIDOG.json\"\n",
        "rows = []"
      ],
      "metadata": {
        "colab": {
          "base_uri": "https://localhost:8080/"
        },
        "id": "1KVq-8YZGGjt",
        "outputId": "756d0591-7fa0-470f-edbc-2a5f217769a1"
      },
      "execution_count": 2,
      "outputs": [
        {
          "output_type": "stream",
          "name": "stdout",
          "text": [
            "Mounted at /drive\n",
            "[PosixPath('/drive/MyDrive/MIDOG_Challenge/MIDOG.sqlite'), PosixPath('/drive/MyDrive/MIDOG_Challenge/MIDOG.json')]\n"
          ]
        }
      ]
    },
    {
      "cell_type": "code",
      "source": [
        "with open(annotation_file) as f:\n",
        "    data = json.load(f)\n",
        "\n",
        "    categories = {1: 'mitotic figure', 2: 'hard negative'}\n",
        "\n",
        "    for row in data[\"images\"]:\n",
        "        file_name = row[\"file_name\"]\n",
        "        image_id = row[\"id\"]\n",
        "        width = row[\"width\"]\n",
        "        height = row[\"height\"]\n",
        "\n",
        "        scanner  = \"Hamamatsu XR\"\n",
        "        if image_id in hamamatsu_360_ids:\n",
        "            scanner  = \"Hamamatsu S360\"\n",
        "        if image_id in aperio_ids:\n",
        "            scanner  = \"Aperio CS\"\n",
        "        if image_id in leica_ids:\n",
        "            scanner  = \"Leica GT450\"\n",
        "         \n",
        "        for annotation in [anno for anno in data['annotations'] if anno[\"image_id\"] == image_id]:\n",
        "            box = annotation[\"bbox\"]\n",
        "            cat = categories[annotation[\"category_id\"]]\n",
        "\n",
        "            rows.append([file_name, image_id, width, height, box, cat, scanner])\n",
        "        \n",
        "df = pd.DataFrame(rows, columns=[\"file_name\", \"image_id\", \"width\", \"height\", \"box\", \"cat\", \"scanner\"])"
      ],
      "metadata": {
        "id": "KxbqTWLURrVA"
      },
      "execution_count": null,
      "outputs": []
    },
    {
      "cell_type": "code",
      "source": [
        "df[df['cat']=='hard negative'].index"
      ],
      "metadata": {
        "colab": {
          "base_uri": "https://localhost:8080/"
        },
        "id": "THjCrABr2Z77",
        "outputId": "31b20672-0e4b-4b20-bba7-703a7ca2d74e"
      },
      "execution_count": null,
      "outputs": [
        {
          "output_type": "execute_result",
          "data": {
            "text/plain": [
              "Int64Index([   0,    1,    2,    3,    4,    7,   10,   11,   14,   15,\n",
              "            ...\n",
              "            4420, 4422, 4423, 4424, 4425, 4426, 4430, 4432, 4433, 4434],\n",
              "           dtype='int64', length=2714)"
            ]
          },
          "metadata": {},
          "execution_count": 4
        }
      ]
    },
    {
      "cell_type": "code",
      "source": [
        "df.drop(df[df['cat']=='hard negative'].index,inplace=True)"
      ],
      "metadata": {
        "id": "PLhQKSb8XOtD"
      },
      "execution_count": null,
      "outputs": []
    },
    {
      "cell_type": "code",
      "source": [
        "df"
      ],
      "metadata": {
        "colab": {
          "base_uri": "https://localhost:8080/",
          "height": 414
        },
        "id": "VEsVe0ozYMhc",
        "outputId": "d591a4e6-abcd-4b66-b318-c1ca07113679"
      },
      "execution_count": null,
      "outputs": [
        {
          "output_type": "execute_result",
          "data": {
            "text/html": [
              "\n",
              "  <div id=\"df-4916c81d-f398-4088-a80a-c006f12f6e92\">\n",
              "    <div class=\"colab-df-container\">\n",
              "      <div>\n",
              "<style scoped>\n",
              "    .dataframe tbody tr th:only-of-type {\n",
              "        vertical-align: middle;\n",
              "    }\n",
              "\n",
              "    .dataframe tbody tr th {\n",
              "        vertical-align: top;\n",
              "    }\n",
              "\n",
              "    .dataframe thead th {\n",
              "        text-align: right;\n",
              "    }\n",
              "</style>\n",
              "<table border=\"1\" class=\"dataframe\">\n",
              "  <thead>\n",
              "    <tr style=\"text-align: right;\">\n",
              "      <th></th>\n",
              "      <th>file_name</th>\n",
              "      <th>image_id</th>\n",
              "      <th>width</th>\n",
              "      <th>height</th>\n",
              "      <th>box</th>\n",
              "      <th>cat</th>\n",
              "      <th>scanner</th>\n",
              "    </tr>\n",
              "  </thead>\n",
              "  <tbody>\n",
              "    <tr>\n",
              "      <th>5</th>\n",
              "      <td>002.tiff</td>\n",
              "      <td>2</td>\n",
              "      <td>7215</td>\n",
              "      <td>5412</td>\n",
              "      <td>[4397, 191, 4447, 241]</td>\n",
              "      <td>mitotic figure</td>\n",
              "      <td>Hamamatsu XR</td>\n",
              "    </tr>\n",
              "    <tr>\n",
              "      <th>6</th>\n",
              "      <td>002.tiff</td>\n",
              "      <td>2</td>\n",
              "      <td>7215</td>\n",
              "      <td>5412</td>\n",
              "      <td>[1842, 1558, 1892, 1608]</td>\n",
              "      <td>mitotic figure</td>\n",
              "      <td>Hamamatsu XR</td>\n",
              "    </tr>\n",
              "    <tr>\n",
              "      <th>8</th>\n",
              "      <td>002.tiff</td>\n",
              "      <td>2</td>\n",
              "      <td>7215</td>\n",
              "      <td>5412</td>\n",
              "      <td>[5319, 3252, 5369, 3302]</td>\n",
              "      <td>mitotic figure</td>\n",
              "      <td>Hamamatsu XR</td>\n",
              "    </tr>\n",
              "    <tr>\n",
              "      <th>9</th>\n",
              "      <td>002.tiff</td>\n",
              "      <td>2</td>\n",
              "      <td>7215</td>\n",
              "      <td>5412</td>\n",
              "      <td>[6242, 3193, 6292, 3243]</td>\n",
              "      <td>mitotic figure</td>\n",
              "      <td>Hamamatsu XR</td>\n",
              "    </tr>\n",
              "    <tr>\n",
              "      <th>12</th>\n",
              "      <td>002.tiff</td>\n",
              "      <td>2</td>\n",
              "      <td>7215</td>\n",
              "      <td>5412</td>\n",
              "      <td>[4636, 4294, 4686, 4344]</td>\n",
              "      <td>mitotic figure</td>\n",
              "      <td>Hamamatsu XR</td>\n",
              "    </tr>\n",
              "    <tr>\n",
              "      <th>...</th>\n",
              "      <td>...</td>\n",
              "      <td>...</td>\n",
              "      <td>...</td>\n",
              "      <td>...</td>\n",
              "      <td>...</td>\n",
              "      <td>...</td>\n",
              "      <td>...</td>\n",
              "    </tr>\n",
              "    <tr>\n",
              "      <th>4421</th>\n",
              "      <td>150.tiff</td>\n",
              "      <td>150</td>\n",
              "      <td>6467</td>\n",
              "      <td>4862</td>\n",
              "      <td>[5373, 2398, 5423, 2448]</td>\n",
              "      <td>mitotic figure</td>\n",
              "      <td>Aperio CS</td>\n",
              "    </tr>\n",
              "    <tr>\n",
              "      <th>4427</th>\n",
              "      <td>150.tiff</td>\n",
              "      <td>150</td>\n",
              "      <td>6467</td>\n",
              "      <td>4862</td>\n",
              "      <td>[3698, 3258, 3748, 3308]</td>\n",
              "      <td>mitotic figure</td>\n",
              "      <td>Aperio CS</td>\n",
              "    </tr>\n",
              "    <tr>\n",
              "      <th>4428</th>\n",
              "      <td>150.tiff</td>\n",
              "      <td>150</td>\n",
              "      <td>6467</td>\n",
              "      <td>4862</td>\n",
              "      <td>[308, 4254, 358, 4304]</td>\n",
              "      <td>mitotic figure</td>\n",
              "      <td>Aperio CS</td>\n",
              "    </tr>\n",
              "    <tr>\n",
              "      <th>4429</th>\n",
              "      <td>150.tiff</td>\n",
              "      <td>150</td>\n",
              "      <td>6467</td>\n",
              "      <td>4862</td>\n",
              "      <td>[553, 4394, 603, 4444]</td>\n",
              "      <td>mitotic figure</td>\n",
              "      <td>Aperio CS</td>\n",
              "    </tr>\n",
              "    <tr>\n",
              "      <th>4431</th>\n",
              "      <td>150.tiff</td>\n",
              "      <td>150</td>\n",
              "      <td>6467</td>\n",
              "      <td>4862</td>\n",
              "      <td>[3730, 4538, 3780, 4588]</td>\n",
              "      <td>mitotic figure</td>\n",
              "      <td>Aperio CS</td>\n",
              "    </tr>\n",
              "  </tbody>\n",
              "</table>\n",
              "<p>1721 rows × 7 columns</p>\n",
              "</div>\n",
              "      <button class=\"colab-df-convert\" onclick=\"convertToInteractive('df-4916c81d-f398-4088-a80a-c006f12f6e92')\"\n",
              "              title=\"Convert this dataframe to an interactive table.\"\n",
              "              style=\"display:none;\">\n",
              "        \n",
              "  <svg xmlns=\"http://www.w3.org/2000/svg\" height=\"24px\"viewBox=\"0 0 24 24\"\n",
              "       width=\"24px\">\n",
              "    <path d=\"M0 0h24v24H0V0z\" fill=\"none\"/>\n",
              "    <path d=\"M18.56 5.44l.94 2.06.94-2.06 2.06-.94-2.06-.94-.94-2.06-.94 2.06-2.06.94zm-11 1L8.5 8.5l.94-2.06 2.06-.94-2.06-.94L8.5 2.5l-.94 2.06-2.06.94zm10 10l.94 2.06.94-2.06 2.06-.94-2.06-.94-.94-2.06-.94 2.06-2.06.94z\"/><path d=\"M17.41 7.96l-1.37-1.37c-.4-.4-.92-.59-1.43-.59-.52 0-1.04.2-1.43.59L10.3 9.45l-7.72 7.72c-.78.78-.78 2.05 0 2.83L4 21.41c.39.39.9.59 1.41.59.51 0 1.02-.2 1.41-.59l7.78-7.78 2.81-2.81c.8-.78.8-2.07 0-2.86zM5.41 20L4 18.59l7.72-7.72 1.47 1.35L5.41 20z\"/>\n",
              "  </svg>\n",
              "      </button>\n",
              "      \n",
              "  <style>\n",
              "    .colab-df-container {\n",
              "      display:flex;\n",
              "      flex-wrap:wrap;\n",
              "      gap: 12px;\n",
              "    }\n",
              "\n",
              "    .colab-df-convert {\n",
              "      background-color: #E8F0FE;\n",
              "      border: none;\n",
              "      border-radius: 50%;\n",
              "      cursor: pointer;\n",
              "      display: none;\n",
              "      fill: #1967D2;\n",
              "      height: 32px;\n",
              "      padding: 0 0 0 0;\n",
              "      width: 32px;\n",
              "    }\n",
              "\n",
              "    .colab-df-convert:hover {\n",
              "      background-color: #E2EBFA;\n",
              "      box-shadow: 0px 1px 2px rgba(60, 64, 67, 0.3), 0px 1px 3px 1px rgba(60, 64, 67, 0.15);\n",
              "      fill: #174EA6;\n",
              "    }\n",
              "\n",
              "    [theme=dark] .colab-df-convert {\n",
              "      background-color: #3B4455;\n",
              "      fill: #D2E3FC;\n",
              "    }\n",
              "\n",
              "    [theme=dark] .colab-df-convert:hover {\n",
              "      background-color: #434B5C;\n",
              "      box-shadow: 0px 1px 3px 1px rgba(0, 0, 0, 0.15);\n",
              "      filter: drop-shadow(0px 1px 2px rgba(0, 0, 0, 0.3));\n",
              "      fill: #FFFFFF;\n",
              "    }\n",
              "  </style>\n",
              "\n",
              "      <script>\n",
              "        const buttonEl =\n",
              "          document.querySelector('#df-4916c81d-f398-4088-a80a-c006f12f6e92 button.colab-df-convert');\n",
              "        buttonEl.style.display =\n",
              "          google.colab.kernel.accessAllowed ? 'block' : 'none';\n",
              "\n",
              "        async function convertToInteractive(key) {\n",
              "          const element = document.querySelector('#df-4916c81d-f398-4088-a80a-c006f12f6e92');\n",
              "          const dataTable =\n",
              "            await google.colab.kernel.invokeFunction('convertToInteractive',\n",
              "                                                     [key], {});\n",
              "          if (!dataTable) return;\n",
              "\n",
              "          const docLinkHtml = 'Like what you see? Visit the ' +\n",
              "            '<a target=\"_blank\" href=https://colab.research.google.com/notebooks/data_table.ipynb>data table notebook</a>'\n",
              "            + ' to learn more about interactive tables.';\n",
              "          element.innerHTML = '';\n",
              "          dataTable['output_type'] = 'display_data';\n",
              "          await google.colab.output.renderOutput(dataTable, element);\n",
              "          const docLink = document.createElement('div');\n",
              "          docLink.innerHTML = docLinkHtml;\n",
              "          element.appendChild(docLink);\n",
              "        }\n",
              "      </script>\n",
              "    </div>\n",
              "  </div>\n",
              "  "
            ],
            "text/plain": [
              "     file_name  image_id  ...             cat       scanner\n",
              "5     002.tiff         2  ...  mitotic figure  Hamamatsu XR\n",
              "6     002.tiff         2  ...  mitotic figure  Hamamatsu XR\n",
              "8     002.tiff         2  ...  mitotic figure  Hamamatsu XR\n",
              "9     002.tiff         2  ...  mitotic figure  Hamamatsu XR\n",
              "12    002.tiff         2  ...  mitotic figure  Hamamatsu XR\n",
              "...        ...       ...  ...             ...           ...\n",
              "4421  150.tiff       150  ...  mitotic figure     Aperio CS\n",
              "4427  150.tiff       150  ...  mitotic figure     Aperio CS\n",
              "4428  150.tiff       150  ...  mitotic figure     Aperio CS\n",
              "4429  150.tiff       150  ...  mitotic figure     Aperio CS\n",
              "4431  150.tiff       150  ...  mitotic figure     Aperio CS\n",
              "\n",
              "[1721 rows x 7 columns]"
            ]
          },
          "metadata": {},
          "execution_count": 6
        }
      ]
    },
    {
      "cell_type": "code",
      "source": [
        "dataset_1 = df[df['scanner']=='Hamamatsu XR']\n",
        "dataset_2 = df[df['scanner']=='Hamamatsu S360']\n",
        "dataset_3 = df[df['scanner']=='Aperio CS']\n",
        "#dataset_4 = df[df['scanner']=='Leica GT450']"
      ],
      "metadata": {
        "id": "fPa3c1CrYTuq"
      },
      "execution_count": null,
      "outputs": []
    },
    {
      "cell_type": "code",
      "source": [
        "len(dataset_1['image_id'].unique())+len(dataset_2['image_id'].unique())+len(dataset_3['image_id'].unique())"
      ],
      "metadata": {
        "colab": {
          "base_uri": "https://localhost:8080/"
        },
        "id": "MbWOj6jFYiw6",
        "outputId": "6cdc5ca6-05be-47a3-80fd-3294241214b2"
      },
      "execution_count": null,
      "outputs": [
        {
          "output_type": "execute_result",
          "data": {
            "text/plain": [
              "135"
            ]
          },
          "metadata": {},
          "execution_count": 8
        }
      ]
    },
    {
      "cell_type": "code",
      "source": [
        "image_folder = Path(\"/content/drive/MyDrive/CSE499 Project/train_images\")"
      ],
      "metadata": {
        "id": "x4ST5yE3dK_U"
      },
      "execution_count": null,
      "outputs": []
    },
    {
      "cell_type": "code",
      "source": [
        "drive.mount('/content/drive')"
      ],
      "metadata": {
        "colab": {
          "base_uri": "https://localhost:8080/"
        },
        "id": "iJDxlw5o12pL",
        "outputId": "7a4e4a11-27d1-4427-a0b4-9d1b249c87f5"
      },
      "execution_count": null,
      "outputs": [
        {
          "output_type": "stream",
          "name": "stdout",
          "text": [
            "Mounted at /content/drive\n"
          ]
        }
      ]
    },
    {
      "cell_type": "code",
      "source": [
        "# img_id = 2\n",
        "# thumbail_size_big = 1024\n",
        "# slide = open_slide( str(image_folder / f\"{img_id:03d}.tiff\") )\n",
        "\n",
        "# image = slide.get_thumbnail((1443, 1082))\n",
        "\n",
        "# fig = px.imshow(image)\n",
        "\n",
        "# scale_x = slide.level_dimensions[0][0] / image.size[0]\n",
        "# scale_y = slide.level_dimensions[0][1] / image.size[1]\n",
        "\n",
        "# for id, anno in dataset_1[dataset_1[\"image_id\"] == img_id].iterrows():\n",
        "\n",
        "#     x0, y0, x1, y1 = anno.box[0] / scale_x, anno.box[1] / scale_y, anno.box[2] / scale_x, anno.box[3] / scale_y\n",
        "\n",
        "\n",
        "#     fig.add_shape(\n",
        "#         type='rect',\n",
        "#         x0=x0, x1=x1, y0=y0, y1=y1,\n",
        "#         xref='x', yref='y',\n",
        "#         line_color='red' if \"mitotic\" in anno[\"cat\"] else \"blue\"\n",
        "#     )\n",
        "\n",
        "# fig.update_layout(\n",
        "#     autosize=False,\n",
        "#     width=image.size[0],\n",
        "#     height=image.size[1],\n",
        "#     )\n",
        "\n",
        "# fig.show()    "
      ],
      "metadata": {
        "id": "A2B2IfB0SfwA"
      },
      "execution_count": null,
      "outputs": []
    },
    {
      "cell_type": "code",
      "source": [
        "DataFrame = pd.read_pickle('/drive/MyDrive/CSE499 Project/Patch Datasets/Hamamatsu XR/DataFrame.pkl')"
      ],
      "metadata": {
        "id": "X6NNUGYFkzUq"
      },
      "execution_count": 3,
      "outputs": []
    },
    {
      "cell_type": "code",
      "source": [
        "for i in range(541):\n",
        "  xmin,ymin,xmax,ymax = DataFrame.box[i]\n",
        "  if xmin>=xmax or ymin>=ymax:\n",
        "    print(i)\n",
        "    break"
      ],
      "metadata": {
        "id": "DEfyx0e_lqCg"
      },
      "execution_count": 4,
      "outputs": []
    },
    {
      "cell_type": "code",
      "source": [
        "class MitosisImagesDataset(torch.utils.data.Dataset):\n",
        "  def __init__(self, files_dir, width, height,transforms=None):\n",
        "    self.transforms = transforms\n",
        "    self.files_dir  = files_dir\n",
        "    self.height     = height\n",
        "    self.width      = width\n",
        "\n",
        "    self.imgs = [image for image in sorted(os.listdir(files_dir)) if image[-5:]=='.tiff']\n",
        "    \n",
        "    self.classes = [_, 'mitotic figure']\n",
        "\n",
        "  def __getitem__(self, idx):\n",
        "    img_name   = self.imgs[idx]\n",
        "    image_path = os.path.join(self.files_dir, img_name)\n",
        "\n",
        "    img     = cv2.imread(image_path)\n",
        "    img_rgb = cv2.cvtColor(img, cv2.COLOR_BGR2RGB).astype(np.float32)\n",
        "    img_res = cv2.resize(img_rgb, (self.width, self.height), cv2.INTER_AREA)\n",
        "\n",
        "    img_res /= 255.0\n",
        "    \n",
        "    \n",
        "    dataframe = DataFrame[DataFrame['file_name']==img_name].copy()\n",
        "    \n",
        "    boxes = []\n",
        "    labels = []\n",
        "\n",
        "    wt = img.shape[1]\n",
        "    ht = img.shape[0]\n",
        "    \n",
        "    for index in dataframe.index:\n",
        "      labels.append(1)\n",
        "      \n",
        "      List = dataframe['box'][index]\n",
        "      \n",
        "      scale_x = 7215/self.width\n",
        "      scale_y = 5412/self.height\n",
        "\n",
        "      xmin = List[0]#/scale_x\n",
        "      xmax = List[2]#/scale_x\n",
        "      ymin = List[1]#/scale_y\n",
        "      ymax = List[3]#/scale_y\n",
        "        \n",
        "      xmin_corr = (xmin)\n",
        "      xmax_corr = (xmax)\n",
        "      ymin_corr = (ymin)\n",
        "      ymax_corr = (ymax)\n",
        "          \n",
        "      boxes.append([xmin_corr, ymin_corr, xmax_corr, ymax_corr])\n",
        "    \n",
        "\n",
        "\n",
        "    boxes = torch.as_tensor(boxes, dtype=torch.float32)\n",
        "    labels = torch.as_tensor(labels, dtype=torch.int64)\n",
        "    area = (boxes[:, 3] - boxes[:, 1]) * (boxes[:, 2] - boxes[:, 0])\n",
        "    #area = torch.as_tensor(area, dtype=torch.float32)\n",
        "    iscrowd = torch.zeros((boxes.shape[0],), dtype=torch.int64)\n",
        "    \n",
        "    target = {}\n",
        "    target[\"boxes\"] = boxes\n",
        "    target[\"labels\"] = labels\n",
        "    target[\"image_id\"] = torch.tensor([idx])\n",
        "    target[\"area\"] = area\n",
        "    target[\"iscrowd\"] = iscrowd\n",
        "    \n",
        "    if self.transforms:\n",
        "      sample = self.transforms(image = img_res,\n",
        "                                bboxes = target['boxes'],\n",
        "                                labels = labels)\n",
        "      img_res = sample['image']\n",
        "      target['boxes'] = torch.Tensor(sample['bboxes'])\n",
        "\n",
        "    return img_res, target\n",
        "    \n",
        "  def __len__(self):\n",
        "    return len(self.imgs)"
      ],
      "metadata": {
        "id": "V3Fo2gNUGb1S"
      },
      "execution_count": 53,
      "outputs": []
    },
    {
      "cell_type": "code",
      "source": [
        "# Function to visualize bounding boxes in the image\n",
        "def plot_img_bbox(img, target):\n",
        "  # plot the image and bboxes\n",
        "  # Bounding boxes are defined as follows: x-min y-min width height\n",
        "  fig, a = plt.subplots(1,1)\n",
        "  fig.set_size_inches(5,5)\n",
        "  a.imshow(img)\n",
        "  for box in (target['boxes']):\n",
        "    x, y, width, height  = box[0], box[1], box[2]-box[0], box[3]-box[1]\n",
        "    rect = patches.Rectangle(\n",
        "      (x, y),\n",
        "      width, height,\n",
        "      linewidth = 2,\n",
        "      edgecolor = 'r',\n",
        "      facecolor = 'none'\n",
        "    )\n",
        "    # Draw the bounding box on top of the image\n",
        "    a.add_patch(rect)\n",
        "  plt.show()"
      ],
      "metadata": {
        "id": "96v8DtQta1al"
      },
      "execution_count": 54,
      "outputs": []
    },
    {
      "cell_type": "code",
      "source": [
        "# Send train=True for training transforms and False for val/test transforms\n",
        "def get_transform(train):\n",
        "  if train:\n",
        "    return A.Compose(\n",
        "      [\n",
        "        A.HorizontalFlip(0.5),\n",
        "        # ToTensorV2 converts image to pytorch tensor without div by 255\n",
        "        ToTensorV2(p=1.0) \n",
        "      ],\n",
        "      bbox_params={'format': 'pascal_voc', 'label_fields': ['labels']}\n",
        "    )\n",
        "  else:\n",
        "    return A.Compose(\n",
        "      [ToTensorV2(p=1.0)],\n",
        "      bbox_params={'format': 'pascal_voc', 'label_fields': ['labels']}\n",
        "    )"
      ],
      "metadata": {
        "id": "CMBIlwdRShFx"
      },
      "execution_count": 45,
      "outputs": []
    },
    {
      "cell_type": "code",
      "source": [
        "files_dir = '/drive/MyDrive/CSE499 Project/Patch Datasets/Hamamatsu XR'\n",
        "test_dir = '/drive/MyDrive/CSE499 Project/Patch Datasets/Hamamatsu XR'"
      ],
      "metadata": {
        "id": "KDuLWW4lOH9p"
      },
      "execution_count": 55,
      "outputs": []
    },
    {
      "cell_type": "code",
      "source": [
        "dataset =      MitosisImagesDataset(files_dir, 481, 451)\n",
        "dataset_test = MitosisImagesDataset(files_dir, 481, 451)"
      ],
      "metadata": {
        "id": "XubkG2cR6Pkr"
      },
      "execution_count": 61,
      "outputs": []
    },
    {
      "cell_type": "code",
      "source": [
        "target"
      ],
      "metadata": {
        "colab": {
          "base_uri": "https://localhost:8080/"
        },
        "id": "gHXlQif8emAp",
        "outputId": "074bec42-db8f-4c92-cc30-a6b24d5dd036"
      },
      "execution_count": 60,
      "outputs": [
        {
          "output_type": "execute_result",
          "data": {
            "text/plain": [
              "{'area': tensor([2500.]),\n",
              " 'boxes': tensor([[399., 205., 449., 255.]]),\n",
              " 'image_id': tensor([1]),\n",
              " 'iscrowd': tensor([0]),\n",
              " 'labels': tensor([1])}"
            ]
          },
          "metadata": {},
          "execution_count": 60
        }
      ]
    },
    {
      "cell_type": "code",
      "source": [
        "# plotting the image with bboxes. Feel free to change the index\n",
        "img, target = dataset[1]\n",
        "plot_img_bbox(img, target)"
      ],
      "metadata": {
        "colab": {
          "base_uri": "https://localhost:8080/",
          "height": 313
        },
        "id": "ZIbG0M74bBwy",
        "outputId": "917c068c-7936-465e-fa6b-8f27727369f5"
      },
      "execution_count": 59,
      "outputs": [
        {
          "output_type": "display_data",
          "data": {
            "image/png": "[encoded data removed]",
            "text/plain": [
              "<Figure size 360x360 with 1 Axes>"
            ]
          },
          "metadata": {
            "needs_background": "light"
          }
        }
      ]
    },
    {
      "cell_type": "code",
      "source": [
        "dataset[28]"
      ],
      "metadata": {
        "id": "eknoiscY6RTk",
        "colab": {
          "base_uri": "https://localhost:8080/"
        },
        "outputId": "3a7a9f83-15d8-470e-c3ef-d12d3fbb7470"
      },
      "execution_count": 62,
      "outputs": [
        {
          "output_type": "execute_result",
          "data": {
            "text/plain": [
              "(tensor([[[0.7922, 0.8314, 0.8667,  ..., 0.7961, 0.7216, 0.8039],\n",
              "          [0.7804, 0.8196, 0.8314,  ..., 0.7765, 0.7333, 0.7490],\n",
              "          [0.7882, 0.8078, 0.8157,  ..., 0.8314, 0.7725, 0.7608],\n",
              "          ...,\n",
              "          [0.8353, 0.8824, 0.9294,  ..., 0.7490, 0.8627, 0.7765],\n",
              "          [0.9059, 0.9020, 0.8863,  ..., 0.7098, 0.7294, 0.7686],\n",
              "          [0.9098, 0.8902, 0.8627,  ..., 0.7020, 0.7451, 0.7686]],\n",
              " \n",
              "         [[0.3490, 0.3647, 0.3804,  ..., 0.5216, 0.5686, 0.6863],\n",
              "          [0.3686, 0.3961, 0.3922,  ..., 0.5882, 0.5059, 0.5569],\n",
              "          [0.3922, 0.4000, 0.3961,  ..., 0.6196, 0.5294, 0.5333],\n",
              "          ...,\n",
              "          [0.6039, 0.6588, 0.7137,  ..., 0.4078, 0.4118, 0.4275],\n",
              "          [0.6667, 0.6588, 0.6431,  ..., 0.3216, 0.4000, 0.4235],\n",
              "          [0.6863, 0.6627, 0.6235,  ..., 0.3137, 0.3608, 0.3882]],\n",
              " \n",
              "         [[0.6549, 0.6784, 0.7098,  ..., 0.8078, 0.8157, 0.8902],\n",
              "          [0.7333, 0.7333, 0.7137,  ..., 0.6902, 0.7333, 0.8118],\n",
              "          [0.7529, 0.7333, 0.7176,  ..., 0.7451, 0.7216, 0.7608],\n",
              "          ...,\n",
              "          [0.8235, 0.8353, 0.8706,  ..., 0.7176, 0.6745, 0.6863],\n",
              "          [0.8392, 0.8196, 0.7961,  ..., 0.6745, 0.7333, 0.7216],\n",
              "          [0.8549, 0.8235, 0.7843,  ..., 0.6706, 0.7020, 0.6902]]]),\n",
              " {'area': tensor([2500.]),\n",
              "  'boxes': tensor([[ 32., 269.,  82., 319.]]),\n",
              "  'image_id': tensor([28]),\n",
              "  'iscrowd': tensor([0]),\n",
              "  'labels': tensor([1])})"
            ]
          },
          "metadata": {},
          "execution_count": 62
        }
      ]
    },
    {
      "cell_type": "code",
      "source": [
        "train_dataset =      MitosisImagesDataset(files_dir, 481, 451,transforms=get_transform(train=False))\n",
        "\n",
        "def collate_fn(batch):\n",
        "    return tuple(zip(*batch))\n",
        "\n",
        "train_data_loader  = DataLoader(train_dataset,batch_size=10,shuffle=True,num_workers=4,collate_fn=utils.collate_fn)"
      ],
      "metadata": {
        "id": "XKrOjJhgxZdP"
      },
      "execution_count": 63,
      "outputs": []
    },
    {
      "cell_type": "code",
      "source": [
        "device = torch.device('cuda') if torch.cuda.is_available() else torch.device('cpu')"
      ],
      "metadata": {
        "id": "-qPRofeYzrOa"
      },
      "execution_count": 64,
      "outputs": []
    },
    {
      "cell_type": "code",
      "source": [
        "device"
      ],
      "metadata": {
        "colab": {
          "base_uri": "https://localhost:8080/"
        },
        "id": "cBuRsJ3X0uTn",
        "outputId": "c229f87e-2d52-4e96-dee1-5ab2c41d86df"
      },
      "execution_count": 65,
      "outputs": [
        {
          "output_type": "execute_result",
          "data": {
            "text/plain": [
              "device(type='cuda')"
            ]
          },
          "metadata": {},
          "execution_count": 65
        }
      ]
    },
    {
      "cell_type": "code",
      "source": [
        "# from matplotlib import pyplot as plt \n",
        "\n",
        "# images,targets = next(iter(train_data_loader))\n",
        "# images = list(image.to(device) for image in images)\n",
        "# targets = [{k: v.to(device) for k,v in t.items()} for t in targets]\n",
        "\n",
        "# boxes = targets[0]['boxes'].cpu().numpy().astype(np.int32)\n",
        "# img = images[0].permute(1,2,0).cpu().numpy()\n",
        "# fig,ax = plt.subplots(1, 1, figsize=(50,30))\n",
        "\n",
        "# for box in boxes:\n",
        "#   cv2.rectangle(img,\n",
        "#                 (box[0],box[1]),\n",
        "#                 (box[2],box[3]),\n",
        "#                 (220,0,0), 1)\n",
        "\n",
        "# ax.set_axis_off()\n",
        "# ax.imshow(img)"
      ],
      "metadata": {
        "id": "EAQerS6L9ND3"
      },
      "execution_count": null,
      "outputs": []
    },
    {
      "cell_type": "code",
      "source": [
        "model = torchvision.models.detection.fasterrcnn_resnet50_fpn(pretrained=True)\n",
        "num_classes=2\n",
        "in_features = model.roi_heads.box_predictor.cls_score.in_features\n",
        "model.roi_heads.box_predictor = FastRCNNPredictor(in_features, num_classes) "
      ],
      "metadata": {
        "id": "tLhwVd903q9f"
      },
      "execution_count": 67,
      "outputs": []
    },
    {
      "cell_type": "code",
      "source": [
        "model = model.to(device)"
      ],
      "metadata": {
        "id": "k3_Mn0GmAJEw"
      },
      "execution_count": 68,
      "outputs": []
    },
    {
      "cell_type": "code",
      "source": [
        "params = [p for p in model.parameters() if p.requires_grad]\n",
        "optimizer = torch.optim.SGD(params, lr=0.005, momentum=0.9, weight_decay=0.0005)\n",
        "lr_scheduler = torch.optim.lr_scheduler.StepLR(optimizer, step_size=3, gamma=0.1)\n",
        "num_epochs = 10"
      ],
      "metadata": {
        "id": "_pU8uhDI3w4r"
      },
      "execution_count": 69,
      "outputs": []
    },
    {
      "cell_type": "code",
      "source": [
        "itr = 1\n",
        "\n",
        "for epoch in range(num_epochs):\n",
        "  for images,targets in train_data_loader:\n",
        "    images = list(image.to(device) for image in images)\n",
        "    targets = [{k: v.to(device) for k,v in t.items()} for t in targets]\n",
        "\n",
        "    loss_dict = model(images,targets)\n",
        "\n",
        "    losses = sum(loss for loss in loss_dict.values())\n",
        "    loss_value = losses.item()\n",
        "\n",
        "    optimizer.zero_grad()\n",
        "    losses.backward()\n",
        "    optimizer.step()\n",
        "\n",
        "    if itr % 50 == 0:\n",
        "      print(f\"Iteration #{itr} loss: {loss_value}\")\n",
        "\n",
        "    itr+=1\n",
        "\n",
        "    lr_scheduler.step()\n",
        "\n",
        "  print(f\"Epoch #{epoch} loss: {loss_value}\")"
      ],
      "metadata": {
        "colab": {
          "base_uri": "https://localhost:8080/"
        },
        "id": "yVeM4q-K37xj",
        "outputId": "2a137e54-a986-4602-eea0-b821d18c59a2"
      },
      "execution_count": null,
      "outputs": [
        {
          "output_type": "stream",
          "name": "stdout",
          "text": [
            "Epoch #0 loss: 1.278481364250183\n",
            "Epoch #1 loss: 1.038503646850586\n",
            "Epoch #2 loss: 0.7167458534240723\n",
            "Epoch #3 loss: 1.0711729526519775\n",
            "Epoch #4 loss: 0.8949969410896301\n",
            "Epoch #5 loss: 0.8229814767837524\n",
            "Epoch #6 loss: 0.8153839707374573\n",
            "Epoch #7 loss: 0.9438090324401855\n",
            "Epoch #8 loss: 0.7520048022270203\n",
            "Iteration #50 loss: 1.083060622215271\n",
            "Epoch #9 loss: 1.083060622215271\n",
            "Epoch #10 loss: 0.8516127467155457\n",
            "Epoch #11 loss: 0.8825467824935913\n",
            "Epoch #12 loss: 1.0694729089736938\n",
            "Epoch #13 loss: 0.6851437091827393\n",
            "Epoch #14 loss: 1.135145664215088\n",
            "Epoch #15 loss: 0.8707451820373535\n",
            "Epoch #16 loss: 0.98777174949646\n",
            "Epoch #17 loss: 0.7367779016494751\n",
            "Epoch #18 loss: 0.7707308530807495\n",
            "Iteration #100 loss: 0.9232560396194458\n",
            "Epoch #19 loss: 0.9232560396194458\n"
          ]
        }
      ]
    },
    {
      "cell_type": "code",
      "source": [
        "num_epochs = 20\n",
        "\n",
        "for epoch in range(num_epochs):\n",
        "    # training for one epoch\n",
        "    train_one_epoch(model, optimizer, train_data_loader, device, epoch, print_freq=10)\n",
        "    # update the learning rate\n",
        "    lr_scheduler.step()\n",
        "    # evaluate on the test dataset\n",
        "    #evaluate(model, data_loader_test, device=device)"
      ],
      "metadata": {
        "colab": {
          "base_uri": "https://localhost:8080/"
        },
        "id": "TPUUbUbj1lXS",
        "outputId": "431886de-9fa2-4490-913a-ca11098fa3a8"
      },
      "execution_count": 70,
      "outputs": [
        {
          "output_type": "stream",
          "name": "stdout",
          "text": [
            "Epoch: [0]  [ 0/50]  eta: 0:06:24  lr: 0.000107  loss: 1.7411 (1.7411)  loss_classifier: 0.9350 (0.9350)  loss_box_reg: 0.0189 (0.0189)  loss_objectness: 0.7413 (0.7413)  loss_rpn_box_reg: 0.0459 (0.0459)  time: 7.6817  data: 1.7389  max mem: 8840\n",
            "Epoch: [0]  [10/50]  eta: 0:03:57  lr: 0.001126  loss: 0.6820 (0.7665)  loss_classifier: 0.2297 (0.4058)  loss_box_reg: 0.0296 (0.0306)  loss_objectness: 0.2147 (0.3036)  loss_rpn_box_reg: 0.0220 (0.0265)  time: 5.9496  data: 0.2140  max mem: 8840\n",
            "Epoch: [0]  [20/50]  eta: 0:02:56  lr: 0.002146  loss: 0.3353 (0.5554)  loss_classifier: 0.1218 (0.2768)  loss_box_reg: 0.0500 (0.0455)  loss_objectness: 0.1276 (0.2099)  loss_rpn_box_reg: 0.0185 (0.0232)  time: 5.7790  data: 0.0707  max mem: 8840\n",
            "Epoch: [0]  [30/50]  eta: 0:01:56  lr: 0.003165  loss: 0.2813 (0.4642)  loss_classifier: 0.1205 (0.2243)  loss_box_reg: 0.0620 (0.0532)  loss_objectness: 0.0758 (0.1645)  loss_rpn_box_reg: 0.0141 (0.0222)  time: 5.7705  data: 0.0788  max mem: 8840\n",
            "Epoch: [0]  [40/50]  eta: 0:00:58  lr: 0.004184  loss: 0.2403 (0.4061)  loss_classifier: 0.0861 (0.1901)  loss_box_reg: 0.0786 (0.0623)  loss_objectness: 0.0519 (0.1346)  loss_rpn_box_reg: 0.0062 (0.0191)  time: 5.7580  data: 0.0764  max mem: 8840\n",
            "Epoch: [0]  [49/50]  eta: 0:00:05  lr: 0.005000  loss: 0.2416 (0.3805)  loss_classifier: 0.0807 (0.1700)  loss_box_reg: 0.0955 (0.0727)  loss_objectness: 0.0493 (0.1203)  loss_rpn_box_reg: 0.0065 (0.0175)  time: 5.6342  data: 0.0754  max mem: 8840\n",
            "Epoch: [0] Total time: 0:04:47 (5.7579 s / it)\n",
            "Epoch: [1]  [ 0/50]  eta: 0:05:52  lr: 0.005000  loss: 0.2502 (0.2502)  loss_classifier: 0.0710 (0.0710)  loss_box_reg: 0.1379 (0.1379)  loss_objectness: 0.0379 (0.0379)  loss_rpn_box_reg: 0.0033 (0.0033)  time: 7.0405  data: 1.3042  max mem: 8840\n",
            "Epoch: [1]  [10/50]  eta: 0:03:55  lr: 0.005000  loss: 0.2474 (0.2472)  loss_classifier: 0.0694 (0.0707)  loss_box_reg: 0.1263 (0.1309)  loss_objectness: 0.0379 (0.0362)  loss_rpn_box_reg: 0.0065 (0.0094)  time: 5.8912  data: 0.1897  max mem: 8840\n",
            "Epoch: [1]  [20/50]  eta: 0:02:55  lr: 0.005000  loss: 0.2342 (0.2421)  loss_classifier: 0.0689 (0.0691)  loss_box_reg: 0.1264 (0.1339)  loss_objectness: 0.0271 (0.0307)  loss_rpn_box_reg: 0.0033 (0.0084)  time: 5.7845  data: 0.0812  max mem: 8840\n",
            "Epoch: [1]  [30/50]  eta: 0:01:56  lr: 0.005000  loss: 0.2201 (0.2292)  loss_classifier: 0.0619 (0.0648)  loss_box_reg: 0.1264 (0.1275)  loss_objectness: 0.0158 (0.0279)  loss_rpn_box_reg: 0.0031 (0.0089)  time: 5.7802  data: 0.0802  max mem: 8840\n",
            "Epoch: [1]  [40/50]  eta: 0:00:58  lr: 0.005000  loss: 0.1816 (0.2189)  loss_classifier: 0.0502 (0.0615)  loss_box_reg: 0.1065 (0.1194)  loss_objectness: 0.0218 (0.0273)  loss_rpn_box_reg: 0.0060 (0.0106)  time: 5.7753  data: 0.0782  max mem: 8840\n",
            "Epoch: [1]  [49/50]  eta: 0:00:05  lr: 0.005000  loss: 0.1818 (0.2146)  loss_classifier: 0.0518 (0.0619)  loss_box_reg: 0.0963 (0.1158)  loss_objectness: 0.0196 (0.0267)  loss_rpn_box_reg: 0.0088 (0.0102)  time: 5.6548  data: 0.0802  max mem: 8840\n",
            "Epoch: [1] Total time: 0:04:47 (5.7585 s / it)\n",
            "Epoch: [2]  [ 0/50]  eta: 0:06:22  lr: 0.005000  loss: 0.1820 (0.1820)  loss_classifier: 0.0665 (0.0665)  loss_box_reg: 0.0808 (0.0808)  loss_objectness: 0.0224 (0.0224)  loss_rpn_box_reg: 0.0124 (0.0124)  time: 7.6435  data: 1.8290  max mem: 8840\n",
            "Epoch: [2]  [10/50]  eta: 0:03:56  lr: 0.005000  loss: 0.1820 (0.1752)  loss_classifier: 0.0595 (0.0576)  loss_box_reg: 0.0898 (0.0912)  loss_objectness: 0.0198 (0.0201)  loss_rpn_box_reg: 0.0049 (0.0063)  time: 5.9213  data: 0.2207  max mem: 8840\n",
            "Epoch: [2]  [20/50]  eta: 0:02:55  lr: 0.005000  loss: 0.1614 (0.1712)  loss_classifier: 0.0511 (0.0547)  loss_box_reg: 0.0898 (0.0924)  loss_objectness: 0.0139 (0.0168)  loss_rpn_box_reg: 0.0048 (0.0073)  time: 5.7544  data: 0.0714  max mem: 8840\n",
            "Epoch: [2]  [30/50]  eta: 0:01:56  lr: 0.005000  loss: 0.1515 (0.1647)  loss_classifier: 0.0462 (0.0518)  loss_box_reg: 0.0886 (0.0902)  loss_objectness: 0.0125 (0.0161)  loss_rpn_box_reg: 0.0050 (0.0066)  time: 5.7663  data: 0.0806  max mem: 8840\n",
            "Epoch: [2]  [40/50]  eta: 0:00:58  lr: 0.005000  loss: 0.1487 (0.1639)  loss_classifier: 0.0455 (0.0504)  loss_box_reg: 0.0812 (0.0887)  loss_objectness: 0.0122 (0.0162)  loss_rpn_box_reg: 0.0053 (0.0086)  time: 5.7693  data: 0.0784  max mem: 8840\n",
            "Epoch: [2]  [49/50]  eta: 0:00:05  lr: 0.005000  loss: 0.1515 (0.1622)  loss_classifier: 0.0481 (0.0501)  loss_box_reg: 0.0810 (0.0878)  loss_objectness: 0.0123 (0.0156)  loss_rpn_box_reg: 0.0058 (0.0087)  time: 5.6330  data: 0.0767  max mem: 8840\n",
            "Epoch: [2] Total time: 0:04:47 (5.7495 s / it)\n",
            "Epoch: [3]  [ 0/50]  eta: 0:05:48  lr: 0.000500  loss: 0.1349 (0.1349)  loss_classifier: 0.0310 (0.0310)  loss_box_reg: 0.0686 (0.0686)  loss_objectness: 0.0116 (0.0116)  loss_rpn_box_reg: 0.0237 (0.0237)  time: 6.9782  data: 1.1574  max mem: 8840\n",
            "Epoch: [3]  [10/50]  eta: 0:03:55  lr: 0.000500  loss: 0.1349 (0.1452)  loss_classifier: 0.0426 (0.0462)  loss_box_reg: 0.0818 (0.0802)  loss_objectness: 0.0095 (0.0099)  loss_rpn_box_reg: 0.0062 (0.0089)  time: 5.8852  data: 0.1810  max mem: 8840\n",
            "Epoch: [3]  [20/50]  eta: 0:02:55  lr: 0.000500  loss: 0.1356 (0.1412)  loss_classifier: 0.0469 (0.0451)  loss_box_reg: 0.0745 (0.0778)  loss_objectness: 0.0089 (0.0109)  loss_rpn_box_reg: 0.0048 (0.0074)  time: 5.7877  data: 0.0927  max mem: 8840\n",
            "Epoch: [3]  [30/50]  eta: 0:01:56  lr: 0.000500  loss: 0.1305 (0.1387)  loss_classifier: 0.0433 (0.0441)  loss_box_reg: 0.0736 (0.0775)  loss_objectness: 0.0084 (0.0100)  loss_rpn_box_reg: 0.0044 (0.0071)  time: 5.7796  data: 0.0930  max mem: 8840\n",
            "Epoch: [3]  [40/50]  eta: 0:00:58  lr: 0.000500  loss: 0.1293 (0.1375)  loss_classifier: 0.0398 (0.0434)  loss_box_reg: 0.0745 (0.0766)  loss_objectness: 0.0084 (0.0101)  loss_rpn_box_reg: 0.0039 (0.0075)  time: 5.7580  data: 0.0810  max mem: 8840\n",
            "Epoch: [3]  [49/50]  eta: 0:00:05  lr: 0.000500  loss: 0.1277 (0.1356)  loss_classifier: 0.0398 (0.0427)  loss_box_reg: 0.0718 (0.0755)  loss_objectness: 0.0077 (0.0099)  loss_rpn_box_reg: 0.0035 (0.0075)  time: 5.6307  data: 0.0774  max mem: 8840\n",
            "Epoch: [3] Total time: 0:04:47 (5.7464 s / it)\n",
            "Epoch: [4]  [ 0/50]  eta: 0:05:57  lr: 0.000500  loss: 0.1270 (0.1270)  loss_classifier: 0.0317 (0.0317)  loss_box_reg: 0.0575 (0.0575)  loss_objectness: 0.0131 (0.0131)  loss_rpn_box_reg: 0.0247 (0.0247)  time: 7.1485  data: 1.4684  max mem: 8840\n",
            "Epoch: [4]  [10/50]  eta: 0:03:56  lr: 0.000500  loss: 0.1211 (0.1252)  loss_classifier: 0.0377 (0.0392)  loss_box_reg: 0.0665 (0.0661)  loss_objectness: 0.0082 (0.0088)  loss_rpn_box_reg: 0.0080 (0.0112)  time: 5.9001  data: 0.2022  max mem: 8840\n",
            "Epoch: [4]  [20/50]  eta: 0:02:55  lr: 0.000500  loss: 0.1246 (0.1309)  loss_classifier: 0.0377 (0.0395)  loss_box_reg: 0.0720 (0.0717)  loss_objectness: 0.0081 (0.0084)  loss_rpn_box_reg: 0.0059 (0.0113)  time: 5.7892  data: 0.0822  max mem: 8840\n",
            "Epoch: [4]  [30/50]  eta: 0:01:56  lr: 0.000500  loss: 0.1323 (0.1296)  loss_classifier: 0.0388 (0.0398)  loss_box_reg: 0.0747 (0.0723)  loss_objectness: 0.0073 (0.0087)  loss_rpn_box_reg: 0.0047 (0.0089)  time: 5.7956  data: 0.0877  max mem: 8840\n",
            "Epoch: [4]  [40/50]  eta: 0:00:58  lr: 0.000500  loss: 0.1284 (0.1287)  loss_classifier: 0.0388 (0.0404)  loss_box_reg: 0.0675 (0.0715)  loss_objectness: 0.0077 (0.0089)  loss_rpn_box_reg: 0.0022 (0.0080)  time: 5.7885  data: 0.0834  max mem: 8840\n",
            "Epoch: [4]  [49/50]  eta: 0:00:05  lr: 0.000500  loss: 0.1284 (0.1284)  loss_classifier: 0.0388 (0.0407)  loss_box_reg: 0.0679 (0.0717)  loss_objectness: 0.0070 (0.0087)  loss_rpn_box_reg: 0.0030 (0.0073)  time: 5.6461  data: 0.0781  max mem: 8840\n",
            "Epoch: [4] Total time: 0:04:48 (5.7626 s / it)\n",
            "Epoch: [5]  [ 0/50]  eta: 0:05:59  lr: 0.000500  loss: 0.1081 (0.1081)  loss_classifier: 0.0304 (0.0304)  loss_box_reg: 0.0714 (0.0714)  loss_objectness: 0.0048 (0.0048)  loss_rpn_box_reg: 0.0015 (0.0015)  time: 7.1820  data: 1.4823  max mem: 8840\n",
            "Epoch: [5]  [10/50]  eta: 0:03:58  lr: 0.000500  loss: 0.1499 (0.1406)  loss_classifier: 0.0481 (0.0442)  loss_box_reg: 0.0812 (0.0793)  loss_objectness: 0.0060 (0.0084)  loss_rpn_box_reg: 0.0067 (0.0088)  time: 5.9557  data: 0.2036  max mem: 8840\n",
            "Epoch: [5]  [20/50]  eta: 0:02:57  lr: 0.000500  loss: 0.1340 (0.1321)  loss_classifier: 0.0465 (0.0421)  loss_box_reg: 0.0701 (0.0716)  loss_objectness: 0.0067 (0.0094)  loss_rpn_box_reg: 0.0055 (0.0091)  time: 5.8447  data: 0.0788  max mem: 8840\n",
            "Epoch: [5]  [30/50]  eta: 0:01:57  lr: 0.000500  loss: 0.1093 (0.1246)  loss_classifier: 0.0347 (0.0394)  loss_box_reg: 0.0624 (0.0696)  loss_objectness: 0.0059 (0.0081)  loss_rpn_box_reg: 0.0038 (0.0075)  time: 5.8472  data: 0.0800  max mem: 8840\n",
            "Epoch: [5]  [40/50]  eta: 0:00:58  lr: 0.000500  loss: 0.1109 (0.1269)  loss_classifier: 0.0350 (0.0406)  loss_box_reg: 0.0652 (0.0694)  loss_objectness: 0.0056 (0.0087)  loss_rpn_box_reg: 0.0047 (0.0082)  time: 5.8404  data: 0.0775  max mem: 8840\n",
            "Epoch: [5]  [49/50]  eta: 0:00:05  lr: 0.000500  loss: 0.1211 (0.1255)  loss_classifier: 0.0370 (0.0404)  loss_box_reg: 0.0694 (0.0698)  loss_objectness: 0.0058 (0.0081)  loss_rpn_box_reg: 0.0036 (0.0072)  time: 5.7060  data: 0.0758  max mem: 8840\n",
            "Epoch: [5] Total time: 0:04:50 (5.8179 s / it)\n",
            "Epoch: [6]  [ 0/50]  eta: 0:06:05  lr: 0.000050  loss: 0.1413 (0.1413)  loss_classifier: 0.0520 (0.0520)  loss_box_reg: 0.0722 (0.0722)  loss_objectness: 0.0119 (0.0119)  loss_rpn_box_reg: 0.0052 (0.0052)  time: 7.3040  data: 1.5338  max mem: 8840\n",
            "Epoch: [6]  [10/50]  eta: 0:03:58  lr: 0.000050  loss: 0.1257 (0.1288)  loss_classifier: 0.0401 (0.0431)  loss_box_reg: 0.0673 (0.0662)  loss_objectness: 0.0096 (0.0092)  loss_rpn_box_reg: 0.0066 (0.0104)  time: 5.9722  data: 0.2040  max mem: 8840\n",
            "Epoch: [6]  [20/50]  eta: 0:02:57  lr: 0.000050  loss: 0.1191 (0.1244)  loss_classifier: 0.0394 (0.0410)  loss_box_reg: 0.0673 (0.0685)  loss_objectness: 0.0058 (0.0080)  loss_rpn_box_reg: 0.0044 (0.0070)  time: 5.8470  data: 0.0769  max mem: 8840\n",
            "Epoch: [6]  [30/50]  eta: 0:01:57  lr: 0.000050  loss: 0.1191 (0.1220)  loss_classifier: 0.0381 (0.0403)  loss_box_reg: 0.0673 (0.0683)  loss_objectness: 0.0058 (0.0075)  loss_rpn_box_reg: 0.0027 (0.0059)  time: 5.8601  data: 0.0842  max mem: 8840\n",
            "Epoch: [6]  [40/50]  eta: 0:00:58  lr: 0.000050  loss: 0.1183 (0.1213)  loss_classifier: 0.0368 (0.0395)  loss_box_reg: 0.0655 (0.0682)  loss_objectness: 0.0062 (0.0073)  loss_rpn_box_reg: 0.0028 (0.0062)  time: 5.8592  data: 0.0837  max mem: 8840\n",
            "Epoch: [6]  [49/50]  eta: 0:00:05  lr: 0.000050  loss: 0.1183 (0.1212)  loss_classifier: 0.0361 (0.0389)  loss_box_reg: 0.0636 (0.0676)  loss_objectness: 0.0070 (0.0076)  loss_rpn_box_reg: 0.0036 (0.0071)  time: 5.7208  data: 0.0805  max mem: 8840\n",
            "Epoch: [6] Total time: 0:04:51 (5.8318 s / it)\n",
            "Epoch: [7]  [ 0/50]  eta: 0:06:16  lr: 0.000050  loss: 0.1294 (0.1294)  loss_classifier: 0.0394 (0.0394)  loss_box_reg: 0.0795 (0.0795)  loss_objectness: 0.0064 (0.0064)  loss_rpn_box_reg: 0.0040 (0.0040)  time: 7.5218  data: 1.7005  max mem: 8840\n",
            "Epoch: [7]  [10/50]  eta: 0:03:59  lr: 0.000050  loss: 0.1150 (0.1185)  loss_classifier: 0.0394 (0.0390)  loss_box_reg: 0.0622 (0.0652)  loss_objectness: 0.0067 (0.0075)  loss_rpn_box_reg: 0.0047 (0.0067)  time: 5.9910  data: 0.2214  max mem: 8840\n",
            "Epoch: [7]  [20/50]  eta: 0:02:57  lr: 0.000050  loss: 0.1145 (0.1171)  loss_classifier: 0.0354 (0.0370)  loss_box_reg: 0.0622 (0.0657)  loss_objectness: 0.0076 (0.0076)  loss_rpn_box_reg: 0.0047 (0.0068)  time: 5.8525  data: 0.0804  max mem: 8840\n",
            "Epoch: [7]  [30/50]  eta: 0:01:58  lr: 0.000050  loss: 0.1156 (0.1186)  loss_classifier: 0.0354 (0.0373)  loss_box_reg: 0.0657 (0.0666)  loss_objectness: 0.0063 (0.0073)  loss_rpn_box_reg: 0.0063 (0.0074)  time: 5.8574  data: 0.0854  max mem: 8840\n",
            "Epoch: [7]  [40/50]  eta: 0:00:58  lr: 0.000050  loss: 0.1210 (0.1197)  loss_classifier: 0.0374 (0.0383)  loss_box_reg: 0.0653 (0.0672)  loss_objectness: 0.0063 (0.0077)  loss_rpn_box_reg: 0.0037 (0.0065)  time: 5.8437  data: 0.0882  max mem: 8840\n",
            "Epoch: [7]  [49/50]  eta: 0:00:05  lr: 0.000050  loss: 0.1221 (0.1208)  loss_classifier: 0.0378 (0.0387)  loss_box_reg: 0.0647 (0.0674)  loss_objectness: 0.0076 (0.0078)  loss_rpn_box_reg: 0.0043 (0.0070)  time: 5.7163  data: 0.0869  max mem: 8840\n",
            "Epoch: [7] Total time: 0:04:51 (5.8336 s / it)\n",
            "Epoch: [8]  [ 0/50]  eta: 0:06:01  lr: 0.000050  loss: 0.1165 (0.1165)  loss_classifier: 0.0324 (0.0324)  loss_box_reg: 0.0651 (0.0651)  loss_objectness: 0.0081 (0.0081)  loss_rpn_box_reg: 0.0109 (0.0109)  time: 7.2239  data: 1.3773  max mem: 8840\n",
            "Epoch: [8]  [10/50]  eta: 0:03:59  lr: 0.000050  loss: 0.1125 (0.1091)  loss_classifier: 0.0347 (0.0347)  loss_box_reg: 0.0609 (0.0608)  loss_objectness: 0.0066 (0.0076)  loss_rpn_box_reg: 0.0020 (0.0061)  time: 5.9833  data: 0.2023  max mem: 8840\n",
            "Epoch: [8]  [20/50]  eta: 0:02:57  lr: 0.000050  loss: 0.1055 (0.1129)  loss_classifier: 0.0341 (0.0355)  loss_box_reg: 0.0643 (0.0662)  loss_objectness: 0.0045 (0.0067)  loss_rpn_box_reg: 0.0017 (0.0044)  time: 5.8625  data: 0.0839  max mem: 8840\n",
            "Epoch: [8]  [30/50]  eta: 0:01:58  lr: 0.000050  loss: 0.1183 (0.1143)  loss_classifier: 0.0349 (0.0369)  loss_box_reg: 0.0670 (0.0653)  loss_objectness: 0.0045 (0.0068)  loss_rpn_box_reg: 0.0019 (0.0053)  time: 5.8671  data: 0.0894  max mem: 8840\n",
            "Epoch: [8]  [40/50]  eta: 0:00:58  lr: 0.000050  loss: 0.1292 (0.1179)  loss_classifier: 0.0416 (0.0386)  loss_box_reg: 0.0647 (0.0663)  loss_objectness: 0.0062 (0.0071)  loss_rpn_box_reg: 0.0039 (0.0059)  time: 5.8685  data: 0.0934  max mem: 8840\n",
            "Epoch: [8]  [49/50]  eta: 0:00:05  lr: 0.000050  loss: 0.1357 (0.1210)  loss_classifier: 0.0439 (0.0393)  loss_box_reg: 0.0735 (0.0673)  loss_objectness: 0.0076 (0.0073)  loss_rpn_box_reg: 0.0057 (0.0071)  time: 5.7348  data: 0.0880  max mem: 8840\n",
            "Epoch: [8] Total time: 0:04:52 (5.8433 s / it)\n",
            "Epoch: [9]  [ 0/50]  eta: 0:06:05  lr: 0.000005  loss: 0.1090 (0.1090)  loss_classifier: 0.0442 (0.0442)  loss_box_reg: 0.0498 (0.0498)  loss_objectness: 0.0084 (0.0084)  loss_rpn_box_reg: 0.0067 (0.0067)  time: 7.3105  data: 1.4736  max mem: 8840\n",
            "Epoch: [9]  [10/50]  eta: 0:03:59  lr: 0.000005  loss: 0.1093 (0.1136)  loss_classifier: 0.0391 (0.0376)  loss_box_reg: 0.0638 (0.0644)  loss_objectness: 0.0070 (0.0080)  loss_rpn_box_reg: 0.0025 (0.0036)  time: 5.9890  data: 0.2165  max mem: 8840\n",
            "Epoch: [9]  [20/50]  eta: 0:02:57  lr: 0.000005  loss: 0.1153 (0.1169)  loss_classifier: 0.0391 (0.0374)  loss_box_reg: 0.0625 (0.0648)  loss_objectness: 0.0080 (0.0083)  loss_rpn_box_reg: 0.0030 (0.0064)  time: 5.8628  data: 0.0883  max mem: 8840\n",
            "Epoch: [9]  [30/50]  eta: 0:01:58  lr: 0.000005  loss: 0.1236 (0.1180)  loss_classifier: 0.0396 (0.0372)  loss_box_reg: 0.0625 (0.0664)  loss_objectness: 0.0065 (0.0075)  loss_rpn_box_reg: 0.0049 (0.0069)  time: 5.8681  data: 0.0865  max mem: 8840\n",
            "Epoch: [9]  [40/50]  eta: 0:00:59  lr: 0.000005  loss: 0.1255 (0.1214)  loss_classifier: 0.0396 (0.0393)  loss_box_reg: 0.0674 (0.0674)  loss_objectness: 0.0065 (0.0075)  loss_rpn_box_reg: 0.0041 (0.0073)  time: 5.8746  data: 0.0871  max mem: 8840\n",
            "Epoch: [9]  [49/50]  eta: 0:00:05  lr: 0.000005  loss: 0.1204 (0.1203)  loss_classifier: 0.0396 (0.0388)  loss_box_reg: 0.0662 (0.0669)  loss_objectness: 0.0073 (0.0075)  loss_rpn_box_reg: 0.0047 (0.0070)  time: 5.7449  data: 0.0860  max mem: 8840\n",
            "Epoch: [9] Total time: 0:04:52 (5.8485 s / it)\n",
            "Epoch: [10]  [ 0/50]  eta: 0:06:16  lr: 0.000005  loss: 0.1186 (0.1186)  loss_classifier: 0.0288 (0.0288)  loss_box_reg: 0.0560 (0.0560)  loss_objectness: 0.0082 (0.0082)  loss_rpn_box_reg: 0.0257 (0.0257)  time: 7.5360  data: 1.6671  max mem: 8840\n",
            "Epoch: [10]  [10/50]  eta: 0:04:00  lr: 0.000005  loss: 0.1169 (0.1212)  loss_classifier: 0.0386 (0.0387)  loss_box_reg: 0.0655 (0.0695)  loss_objectness: 0.0072 (0.0069)  loss_rpn_box_reg: 0.0041 (0.0061)  time: 6.0021  data: 0.2217  max mem: 8840\n",
            "Epoch: [10]  [20/50]  eta: 0:02:58  lr: 0.000005  loss: 0.1169 (0.1220)  loss_classifier: 0.0386 (0.0387)  loss_box_reg: 0.0707 (0.0689)  loss_objectness: 0.0067 (0.0074)  loss_rpn_box_reg: 0.0040 (0.0070)  time: 5.8600  data: 0.0843  max mem: 8840\n",
            "Epoch: [10]  [30/50]  eta: 0:01:58  lr: 0.000005  loss: 0.1255 (0.1227)  loss_classifier: 0.0390 (0.0393)  loss_box_reg: 0.0650 (0.0677)  loss_objectness: 0.0069 (0.0081)  loss_rpn_box_reg: 0.0049 (0.0076)  time: 5.8752  data: 0.0898  max mem: 8840\n",
            "Epoch: [10]  [40/50]  eta: 0:00:59  lr: 0.000005  loss: 0.1184 (0.1207)  loss_classifier: 0.0357 (0.0385)  loss_box_reg: 0.0629 (0.0677)  loss_objectness: 0.0050 (0.0074)  loss_rpn_box_reg: 0.0042 (0.0071)  time: 5.8725  data: 0.0867  max mem: 8840\n",
            "Epoch: [10]  [49/50]  eta: 0:00:05  lr: 0.000005  loss: 0.1149 (0.1202)  loss_classifier: 0.0335 (0.0388)  loss_box_reg: 0.0622 (0.0669)  loss_objectness: 0.0050 (0.0074)  loss_rpn_box_reg: 0.0037 (0.0071)  time: 5.7321  data: 0.0825  max mem: 8840\n",
            "Epoch: [10] Total time: 0:04:52 (5.8492 s / it)\n",
            "Epoch: [11]  [ 0/50]  eta: 0:05:56  lr: 0.000005  loss: 0.1176 (0.1176)  loss_classifier: 0.0372 (0.0372)  loss_box_reg: 0.0752 (0.0752)  loss_objectness: 0.0033 (0.0033)  loss_rpn_box_reg: 0.0019 (0.0019)  time: 7.1235  data: 1.3457  max mem: 8840\n",
            "Epoch: [11]  [10/50]  eta: 0:03:58  lr: 0.000005  loss: 0.1080 (0.1085)  loss_classifier: 0.0353 (0.0357)  loss_box_reg: 0.0573 (0.0583)  loss_objectness: 0.0052 (0.0067)  loss_rpn_box_reg: 0.0034 (0.0079)  time: 5.9711  data: 0.1998  max mem: 8840\n",
            "Epoch: [11]  [20/50]  eta: 0:02:57  lr: 0.000005  loss: 0.1079 (0.1146)  loss_classifier: 0.0339 (0.0367)  loss_box_reg: 0.0590 (0.0620)  loss_objectness: 0.0063 (0.0075)  loss_rpn_box_reg: 0.0034 (0.0084)  time: 5.8583  data: 0.0861  max mem: 8840\n",
            "Epoch: [11]  [30/50]  eta: 0:01:58  lr: 0.000005  loss: 0.1200 (0.1188)  loss_classifier: 0.0386 (0.0384)  loss_box_reg: 0.0681 (0.0654)  loss_objectness: 0.0063 (0.0076)  loss_rpn_box_reg: 0.0043 (0.0074)  time: 5.8662  data: 0.0876  max mem: 8840\n",
            "Epoch: [11]  [40/50]  eta: 0:00:58  lr: 0.000005  loss: 0.1258 (0.1192)  loss_classifier: 0.0398 (0.0385)  loss_box_reg: 0.0715 (0.0655)  loss_objectness: 0.0063 (0.0077)  loss_rpn_box_reg: 0.0043 (0.0076)  time: 5.8695  data: 0.0875  max mem: 8840\n",
            "Epoch: [11]  [49/50]  eta: 0:00:05  lr: 0.000005  loss: 0.1258 (0.1200)  loss_classifier: 0.0407 (0.0386)  loss_box_reg: 0.0729 (0.0670)  loss_objectness: 0.0070 (0.0074)  loss_rpn_box_reg: 0.0033 (0.0070)  time: 5.7322  data: 0.0867  max mem: 8840\n",
            "Epoch: [11] Total time: 0:04:51 (5.8387 s / it)\n",
            "Epoch: [12]  [ 0/50]  eta: 0:06:09  lr: 0.000001  loss: 0.1319 (0.1319)  loss_classifier: 0.0381 (0.0381)  loss_box_reg: 0.0551 (0.0551)  loss_objectness: 0.0146 (0.0146)  loss_rpn_box_reg: 0.0240 (0.0240)  time: 7.3967  data: 1.5520  max mem: 8840\n",
            "Epoch: [12]  [10/50]  eta: 0:03:59  lr: 0.000001  loss: 0.1285 (0.1199)  loss_classifier: 0.0381 (0.0374)  loss_box_reg: 0.0643 (0.0649)  loss_objectness: 0.0070 (0.0077)  loss_rpn_box_reg: 0.0045 (0.0099)  time: 5.9925  data: 0.2242  max mem: 8840\n",
            "Epoch: [12]  [20/50]  eta: 0:02:57  lr: 0.000001  loss: 0.1220 (0.1196)  loss_classifier: 0.0342 (0.0360)  loss_box_reg: 0.0644 (0.0672)  loss_objectness: 0.0070 (0.0076)  loss_rpn_box_reg: 0.0039 (0.0088)  time: 5.8523  data: 0.0903  max mem: 8840\n",
            "Epoch: [12]  [30/50]  eta: 0:01:58  lr: 0.000001  loss: 0.1220 (0.1183)  loss_classifier: 0.0342 (0.0361)  loss_box_reg: 0.0711 (0.0668)  loss_objectness: 0.0056 (0.0073)  loss_rpn_box_reg: 0.0039 (0.0082)  time: 5.8594  data: 0.0960  max mem: 8840\n",
            "Epoch: [12]  [40/50]  eta: 0:00:58  lr: 0.000001  loss: 0.1178 (0.1200)  loss_classifier: 0.0353 (0.0377)  loss_box_reg: 0.0711 (0.0672)  loss_objectness: 0.0057 (0.0073)  loss_rpn_box_reg: 0.0042 (0.0078)  time: 5.8664  data: 0.0929  max mem: 8840\n",
            "Epoch: [12]  [49/50]  eta: 0:00:05  lr: 0.000001  loss: 0.1148 (0.1199)  loss_classifier: 0.0390 (0.0383)  loss_box_reg: 0.0652 (0.0671)  loss_objectness: 0.0064 (0.0074)  loss_rpn_box_reg: 0.0039 (0.0071)  time: 5.7223  data: 0.0828  max mem: 8840\n",
            "Epoch: [12] Total time: 0:04:51 (5.8375 s / it)\n",
            "Epoch: [13]  [ 0/50]  eta: 0:06:04  lr: 0.000001  loss: 0.1065 (0.1065)  loss_classifier: 0.0503 (0.0503)  loss_box_reg: 0.0511 (0.0511)  loss_objectness: 0.0040 (0.0040)  loss_rpn_box_reg: 0.0011 (0.0011)  time: 7.2934  data: 1.4077  max mem: 8840\n",
            "Epoch: [13]  [10/50]  eta: 0:03:58  lr: 0.000001  loss: 0.1271 (0.1259)  loss_classifier: 0.0411 (0.0410)  loss_box_reg: 0.0670 (0.0661)  loss_objectness: 0.0083 (0.0084)  loss_rpn_box_reg: 0.0051 (0.0103)  time: 5.9645  data: 0.2066  max mem: 8840\n",
            "Epoch: [13]  [20/50]  eta: 0:02:57  lr: 0.000001  loss: 0.1229 (0.1249)  loss_classifier: 0.0392 (0.0403)  loss_box_reg: 0.0637 (0.0669)  loss_objectness: 0.0080 (0.0085)  loss_rpn_box_reg: 0.0051 (0.0092)  time: 5.8389  data: 0.0860  max mem: 8840\n",
            "Epoch: [13]  [30/50]  eta: 0:01:57  lr: 0.000001  loss: 0.1111 (0.1224)  loss_classifier: 0.0354 (0.0399)  loss_box_reg: 0.0637 (0.0668)  loss_objectness: 0.0069 (0.0080)  loss_rpn_box_reg: 0.0043 (0.0077)  time: 5.8452  data: 0.0845  max mem: 8840\n",
            "Epoch: [13]  [40/50]  eta: 0:00:58  lr: 0.000001  loss: 0.1103 (0.1198)  loss_classifier: 0.0349 (0.0386)  loss_box_reg: 0.0653 (0.0667)  loss_objectness: 0.0046 (0.0072)  loss_rpn_box_reg: 0.0037 (0.0073)  time: 5.8543  data: 0.0845  max mem: 8840\n",
            "Epoch: [13]  [49/50]  eta: 0:00:05  lr: 0.000001  loss: 0.1170 (0.1199)  loss_classifier: 0.0364 (0.0387)  loss_box_reg: 0.0664 (0.0669)  loss_objectness: 0.0061 (0.0074)  loss_rpn_box_reg: 0.0045 (0.0070)  time: 5.7293  data: 0.0829  max mem: 8840\n",
            "Epoch: [13] Total time: 0:04:51 (5.8287 s / it)\n",
            "Epoch: [14]  [ 0/50]  eta: 0:06:08  lr: 0.000001  loss: 0.0911 (0.0911)  loss_classifier: 0.0286 (0.0286)  loss_box_reg: 0.0594 (0.0594)  loss_objectness: 0.0020 (0.0020)  loss_rpn_box_reg: 0.0011 (0.0011)  time: 7.3619  data: 1.5803  max mem: 8840\n",
            "Epoch: [14]  [10/50]  eta: 0:04:00  lr: 0.000001  loss: 0.1222 (0.1206)  loss_classifier: 0.0377 (0.0393)  loss_box_reg: 0.0655 (0.0665)  loss_objectness: 0.0067 (0.0091)  loss_rpn_box_reg: 0.0043 (0.0057)  time: 6.0119  data: 0.2244  max mem: 8840\n",
            "Epoch: [14]  [20/50]  eta: 0:02:58  lr: 0.000001  loss: 0.1208 (0.1181)  loss_classifier: 0.0369 (0.0382)  loss_box_reg: 0.0677 (0.0680)  loss_objectness: 0.0054 (0.0072)  loss_rpn_box_reg: 0.0036 (0.0047)  time: 5.8787  data: 0.0876  max mem: 8840\n",
            "Epoch: [14]  [30/50]  eta: 0:01:58  lr: 0.000001  loss: 0.1222 (0.1225)  loss_classifier: 0.0377 (0.0392)  loss_box_reg: 0.0687 (0.0694)  loss_objectness: 0.0064 (0.0077)  loss_rpn_box_reg: 0.0039 (0.0061)  time: 5.8750  data: 0.0875  max mem: 8840\n",
            "Epoch: [14]  [40/50]  eta: 0:00:59  lr: 0.000001  loss: 0.1223 (0.1208)  loss_classifier: 0.0404 (0.0387)  loss_box_reg: 0.0639 (0.0676)  loss_objectness: 0.0090 (0.0078)  loss_rpn_box_reg: 0.0046 (0.0066)  time: 5.8686  data: 0.0865  max mem: 8840\n",
            "Epoch: [14]  [49/50]  eta: 0:00:05  lr: 0.000001  loss: 0.1154 (0.1199)  loss_classifier: 0.0335 (0.0381)  loss_box_reg: 0.0612 (0.0669)  loss_objectness: 0.0079 (0.0078)  loss_rpn_box_reg: 0.0048 (0.0071)  time: 5.7349  data: 0.0835  max mem: 8840\n",
            "Epoch: [14] Total time: 0:04:52 (5.8521 s / it)\n",
            "Epoch: [15]  [ 0/50]  eta: 0:06:09  lr: 0.000000  loss: 0.0935 (0.0935)  loss_classifier: 0.0303 (0.0303)  loss_box_reg: 0.0584 (0.0584)  loss_objectness: 0.0036 (0.0036)  loss_rpn_box_reg: 0.0013 (0.0013)  time: 7.3881  data: 1.5555  max mem: 8840\n",
            "Epoch: [15]  [10/50]  eta: 0:03:59  lr: 0.000000  loss: 0.1064 (0.1081)  loss_classifier: 0.0324 (0.0348)  loss_box_reg: 0.0627 (0.0649)  loss_objectness: 0.0048 (0.0054)  loss_rpn_box_reg: 0.0026 (0.0030)  time: 5.9971  data: 0.2148  max mem: 8840\n",
            "Epoch: [15]  [20/50]  eta: 0:02:57  lr: 0.000000  loss: 0.1079 (0.1082)  loss_classifier: 0.0337 (0.0342)  loss_box_reg: 0.0636 (0.0660)  loss_objectness: 0.0045 (0.0050)  loss_rpn_box_reg: 0.0019 (0.0030)  time: 5.8593  data: 0.0829  max mem: 8840\n",
            "Epoch: [15]  [30/50]  eta: 0:01:58  lr: 0.000000  loss: 0.1121 (0.1140)  loss_classifier: 0.0349 (0.0368)  loss_box_reg: 0.0665 (0.0660)  loss_objectness: 0.0057 (0.0063)  loss_rpn_box_reg: 0.0042 (0.0048)  time: 5.8576  data: 0.0847  max mem: 8840\n",
            "Epoch: [15]  [40/50]  eta: 0:00:58  lr: 0.000000  loss: 0.1228 (0.1179)  loss_classifier: 0.0364 (0.0375)  loss_box_reg: 0.0665 (0.0659)  loss_objectness: 0.0097 (0.0076)  loss_rpn_box_reg: 0.0069 (0.0069)  time: 5.8570  data: 0.0821  max mem: 8840\n",
            "Epoch: [15]  [49/50]  eta: 0:00:05  lr: 0.000000  loss: 0.1213 (0.1194)  loss_classifier: 0.0364 (0.0381)  loss_box_reg: 0.0683 (0.0668)  loss_objectness: 0.0095 (0.0075)  loss_rpn_box_reg: 0.0051 (0.0070)  time: 5.7200  data: 0.0800  max mem: 8840\n",
            "Epoch: [15] Total time: 0:04:51 (5.8370 s / it)\n",
            "Epoch: [16]  [ 0/50]  eta: 0:06:29  lr: 0.000000  loss: 0.1611 (0.1611)  loss_classifier: 0.0602 (0.0602)  loss_box_reg: 0.0696 (0.0696)  loss_objectness: 0.0268 (0.0268)  loss_rpn_box_reg: 0.0045 (0.0045)  time: 7.7980  data: 2.0207  max mem: 8840\n",
            "Epoch: [16]  [10/50]  eta: 0:03:59  lr: 0.000000  loss: 0.1223 (0.1221)  loss_classifier: 0.0396 (0.0394)  loss_box_reg: 0.0654 (0.0659)  loss_objectness: 0.0081 (0.0091)  loss_rpn_box_reg: 0.0045 (0.0077)  time: 5.9992  data: 0.2376  max mem: 8840\n",
            "Epoch: [16]  [20/50]  eta: 0:02:58  lr: 0.000000  loss: 0.1223 (0.1221)  loss_classifier: 0.0377 (0.0389)  loss_box_reg: 0.0643 (0.0661)  loss_objectness: 0.0073 (0.0084)  loss_rpn_box_reg: 0.0044 (0.0087)  time: 5.8409  data: 0.0715  max mem: 8840\n",
            "Epoch: [16]  [30/50]  eta: 0:01:58  lr: 0.000000  loss: 0.1202 (0.1183)  loss_classifier: 0.0365 (0.0382)  loss_box_reg: 0.0630 (0.0649)  loss_objectness: 0.0073 (0.0078)  loss_rpn_box_reg: 0.0039 (0.0074)  time: 5.8602  data: 0.0832  max mem: 8840\n",
            "Epoch: [16]  [40/50]  eta: 0:00:59  lr: 0.000000  loss: 0.1202 (0.1198)  loss_classifier: 0.0390 (0.0390)  loss_box_reg: 0.0646 (0.0668)  loss_objectness: 0.0055 (0.0073)  loss_rpn_box_reg: 0.0039 (0.0067)  time: 5.8687  data: 0.0935  max mem: 8840\n",
            "Epoch: [16]  [49/50]  eta: 0:00:05  lr: 0.000000  loss: 0.1157 (0.1199)  loss_classifier: 0.0379 (0.0387)  loss_box_reg: 0.0643 (0.0668)  loss_objectness: 0.0055 (0.0074)  loss_rpn_box_reg: 0.0028 (0.0070)  time: 5.7333  data: 0.0930  max mem: 8840\n",
            "Epoch: [16] Total time: 0:04:52 (5.8436 s / it)\n",
            "Epoch: [17]  [ 0/50]  eta: 0:06:33  lr: 0.000000  loss: 0.1361 (0.1361)  loss_classifier: 0.0374 (0.0374)  loss_box_reg: 0.0602 (0.0602)  loss_objectness: 0.0135 (0.0135)  loss_rpn_box_reg: 0.0251 (0.0251)  time: 7.8613  data: 2.1095  max mem: 8840\n",
            "Epoch: [17]  [10/50]  eta: 0:04:00  lr: 0.000000  loss: 0.1238 (0.1288)  loss_classifier: 0.0386 (0.0423)  loss_box_reg: 0.0672 (0.0690)  loss_objectness: 0.0101 (0.0098)  loss_rpn_box_reg: 0.0047 (0.0077)  time: 6.0177  data: 0.2447  max mem: 8840\n",
            "Epoch: [17]  [20/50]  eta: 0:02:58  lr: 0.000000  loss: 0.1198 (0.1254)  loss_classifier: 0.0374 (0.0400)  loss_box_reg: 0.0672 (0.0685)  loss_objectness: 0.0066 (0.0087)  loss_rpn_box_reg: 0.0047 (0.0082)  time: 5.8431  data: 0.0700  max mem: 8840\n",
            "Epoch: [17]  [30/50]  eta: 0:01:58  lr: 0.000000  loss: 0.1174 (0.1220)  loss_classifier: 0.0374 (0.0386)  loss_box_reg: 0.0656 (0.0687)  loss_objectness: 0.0057 (0.0078)  loss_rpn_box_reg: 0.0045 (0.0069)  time: 5.8499  data: 0.0826  max mem: 8840\n",
            "Epoch: [17]  [40/50]  eta: 0:00:58  lr: 0.000000  loss: 0.1158 (0.1199)  loss_classifier: 0.0344 (0.0377)  loss_box_reg: 0.0628 (0.0675)  loss_objectness: 0.0053 (0.0075)  loss_rpn_box_reg: 0.0042 (0.0072)  time: 5.8508  data: 0.0834  max mem: 8840\n",
            "Epoch: [17]  [49/50]  eta: 0:00:05  lr: 0.000000  loss: 0.1195 (0.1200)  loss_classifier: 0.0344 (0.0387)  loss_box_reg: 0.0627 (0.0668)  loss_objectness: 0.0047 (0.0075)  loss_rpn_box_reg: 0.0021 (0.0070)  time: 5.7162  data: 0.0798  max mem: 8840\n",
            "Epoch: [17] Total time: 0:04:51 (5.8366 s / it)\n",
            "Epoch: [18]  [ 0/50]  eta: 0:05:59  lr: 0.000000  loss: 0.1345 (0.1345)  loss_classifier: 0.0464 (0.0464)  loss_box_reg: 0.0758 (0.0758)  loss_objectness: 0.0063 (0.0063)  loss_rpn_box_reg: 0.0061 (0.0061)  time: 7.1924  data: 1.3950  max mem: 8840\n",
            "Epoch: [18]  [10/50]  eta: 0:03:58  lr: 0.000000  loss: 0.1146 (0.1213)  loss_classifier: 0.0354 (0.0374)  loss_box_reg: 0.0682 (0.0684)  loss_objectness: 0.0063 (0.0067)  loss_rpn_box_reg: 0.0061 (0.0088)  time: 5.9621  data: 0.2032  max mem: 8840\n",
            "Epoch: [18]  [20/50]  eta: 0:02:57  lr: 0.000000  loss: 0.1095 (0.1161)  loss_classifier: 0.0330 (0.0360)  loss_box_reg: 0.0663 (0.0659)  loss_objectness: 0.0055 (0.0071)  loss_rpn_box_reg: 0.0019 (0.0070)  time: 5.8419  data: 0.0848  max mem: 8840\n",
            "Epoch: [18]  [30/50]  eta: 0:01:57  lr: 0.000000  loss: 0.1158 (0.1191)  loss_classifier: 0.0377 (0.0378)  loss_box_reg: 0.0672 (0.0674)  loss_objectness: 0.0055 (0.0072)  loss_rpn_box_reg: 0.0031 (0.0068)  time: 5.8519  data: 0.0864  max mem: 8840\n",
            "Epoch: [18]  [40/50]  eta: 0:00:58  lr: 0.000000  loss: 0.1216 (0.1196)  loss_classifier: 0.0393 (0.0382)  loss_box_reg: 0.0672 (0.0669)  loss_objectness: 0.0065 (0.0073)  loss_rpn_box_reg: 0.0048 (0.0072)  time: 5.8543  data: 0.0868  max mem: 8840\n",
            "Epoch: [18]  [49/50]  eta: 0:00:05  lr: 0.000000  loss: 0.1233 (0.1196)  loss_classifier: 0.0365 (0.0384)  loss_box_reg: 0.0646 (0.0669)  loss_objectness: 0.0069 (0.0073)  loss_rpn_box_reg: 0.0051 (0.0070)  time: 5.7116  data: 0.0862  max mem: 8840\n",
            "Epoch: [18] Total time: 0:04:51 (5.8217 s / it)\n",
            "Epoch: [19]  [ 0/50]  eta: 0:06:09  lr: 0.000000  loss: 0.1578 (0.1578)  loss_classifier: 0.0422 (0.0422)  loss_box_reg: 0.0711 (0.0711)  loss_objectness: 0.0130 (0.0130)  loss_rpn_box_reg: 0.0315 (0.0315)  time: 7.3920  data: 1.5770  max mem: 8840\n",
            "Epoch: [19]  [10/50]  eta: 0:03:59  lr: 0.000000  loss: 0.1286 (0.1289)  loss_classifier: 0.0409 (0.0415)  loss_box_reg: 0.0702 (0.0736)  loss_objectness: 0.0079 (0.0076)  loss_rpn_box_reg: 0.0041 (0.0061)  time: 5.9774  data: 0.2217  max mem: 8840\n",
            "Epoch: [19]  [20/50]  eta: 0:02:57  lr: 0.000000  loss: 0.1227 (0.1242)  loss_classifier: 0.0372 (0.0399)  loss_box_reg: 0.0657 (0.0675)  loss_objectness: 0.0057 (0.0081)  loss_rpn_box_reg: 0.0044 (0.0087)  time: 5.8402  data: 0.0851  max mem: 8840\n",
            "Epoch: [19]  [30/50]  eta: 0:01:57  lr: 0.000000  loss: 0.1093 (0.1241)  loss_classifier: 0.0361 (0.0398)  loss_box_reg: 0.0612 (0.0681)  loss_objectness: 0.0059 (0.0080)  loss_rpn_box_reg: 0.0041 (0.0082)  time: 5.8490  data: 0.0829  max mem: 8840\n",
            "Epoch: [19]  [40/50]  eta: 0:00:58  lr: 0.000000  loss: 0.1112 (0.1223)  loss_classifier: 0.0348 (0.0389)  loss_box_reg: 0.0617 (0.0678)  loss_objectness: 0.0063 (0.0078)  loss_rpn_box_reg: 0.0037 (0.0077)  time: 5.8607  data: 0.0832  max mem: 8840\n",
            "Epoch: [19]  [49/50]  eta: 0:00:05  lr: 0.000000  loss: 0.1098 (0.1199)  loss_classifier: 0.0348 (0.0385)  loss_box_reg: 0.0640 (0.0670)  loss_objectness: 0.0043 (0.0074)  loss_rpn_box_reg: 0.0021 (0.0070)  time: 5.7292  data: 0.0832  max mem: 8840\n",
            "Epoch: [19] Total time: 0:04:51 (5.8326 s / it)\n"
          ]
        }
      ]
    },
    {
      "cell_type": "code",
      "source": [
        "evaluate(model, data_loader_test, device=device)"
      ],
      "metadata": {
        "id": "1bsTH5vJ2udK",
        "colab": {
          "base_uri": "https://localhost:8080/",
          "height": 165
        },
        "outputId": "6c4032ec-8ec5-46b1-9d20-7f36d18411b1"
      },
      "execution_count": 21,
      "outputs": [
        {
          "output_type": "error",
          "ename": "NameError",
          "evalue": "ignored",
          "traceback": [
            "\u001b[0;31m---------------------------------------------------------------------------\u001b[0m",
            "\u001b[0;31mNameError\u001b[0m                                 Traceback (most recent call last)",
            "\u001b[0;32m<ipython-input-21-2c45b9985d64>\u001b[0m in \u001b[0;36m<module>\u001b[0;34m()\u001b[0m\n\u001b[0;32m----> 1\u001b[0;31m \u001b[0mevaluate\u001b[0m\u001b[0;34m(\u001b[0m\u001b[0mmodel\u001b[0m\u001b[0;34m,\u001b[0m \u001b[0mdata_loader_test\u001b[0m\u001b[0;34m,\u001b[0m \u001b[0mdevice\u001b[0m\u001b[0;34m=\u001b[0m\u001b[0mdevice\u001b[0m\u001b[0;34m)\u001b[0m\u001b[0;34m\u001b[0m\u001b[0;34m\u001b[0m\u001b[0m\n\u001b[0m",
            "\u001b[0;31mNameError\u001b[0m: name 'data_loader_test' is not defined"
          ]
        }
      ]
    },
    {
      "cell_type": "code",
      "source": [
        "%cd '/drive/MyDrive/CSE499 Project/modelSaves'"
      ],
      "metadata": {
        "id": "do0bu-pRs3xF",
        "outputId": "d70cb91a-63f5-4093-aa1d-71fcdb64578c",
        "colab": {
          "base_uri": "https://localhost:8080/"
        }
      },
      "execution_count": 22,
      "outputs": [
        {
          "output_type": "stream",
          "name": "stdout",
          "text": [
            "/drive/MyDrive/CSE499 Project/modelSaves\n"
          ]
        }
      ]
    },
    {
      "cell_type": "code",
      "source": [
        "!ls -al"
      ],
      "metadata": {
        "id": "Ee4TWXB-s86G",
        "outputId": "9dd87d37-e47f-41b9-a38e-52fdea6ee951",
        "colab": {
          "base_uri": "https://localhost:8080/"
        }
      },
      "execution_count": 24,
      "outputs": [
        {
          "output_type": "stream",
          "name": "stdout",
          "text": [
            "total 484161\n",
            "-rw------- 1 root root 330055011 Jan  6 07:50 ckpt.pth\n",
            "-rw------- 1 root root 165725683 Jan  6 07:50 model.pth\n"
          ]
        }
      ]
    },
    {
      "cell_type": "code",
      "source": [
        "torch.save(model.state_dict(), 'model.pth')\n",
        "\n",
        "torch.save({\n",
        "'epoch':epoch,\n",
        "'model_state_dict':model.state_dict(),\n",
        "'optimizer_state_dict':optimizer.state_dict(),\n",
        "},'ckpt.pth')"
      ],
      "metadata": {
        "id": "dyIUjkYUsQrB"
      },
      "execution_count": 23,
      "outputs": []
    },
    {
      "cell_type": "code",
      "source": [
        "image = cv2.imread('/drive/MyDrive/CSE499 Project/Patch Datasets/Hamamatsu XR/001.tiff')\n",
        "image.shape"
      ],
      "metadata": {
        "id": "mYdXyghRu7lw",
        "outputId": "c7c92ee1-5b14-48ab-ae39-4d91e2877fff",
        "colab": {
          "base_uri": "https://localhost:8080/"
        }
      },
      "execution_count": null,
      "outputs": [
        {
          "output_type": "execute_result",
          "data": {
            "text/plain": [
              "(451, 481, 3)"
            ]
          },
          "metadata": {},
          "execution_count": 32
        }
      ]
    },
    {
      "cell_type": "code",
      "source": [
        "image = torchvision.transforms.ToTensor()(image)"
      ],
      "metadata": {
        "id": "dwgZK8NF72-J"
      },
      "execution_count": null,
      "outputs": []
    },
    {
      "cell_type": "code",
      "source": [
        "model.eval()"
      ],
      "metadata": {
        "id": "BpFU14Lb8PFA"
      },
      "execution_count": null,
      "outputs": []
    },
    {
      "cell_type": "code",
      "source": [
        "image"
      ],
      "metadata": {
        "id": "vOeuNwaS9GFT",
        "outputId": "2556cd2e-8ed8-42c8-b4c4-ce22235c1e02",
        "colab": {
          "base_uri": "https://localhost:8080/"
        }
      },
      "execution_count": null,
      "outputs": [
        {
          "output_type": "execute_result",
          "data": {
            "text/plain": [
              "tensor([[[0.9020, 0.9059, 0.9098,  ..., 0.8667, 0.8980, 0.8745],\n",
              "         [0.8824, 0.8980, 0.9176,  ..., 0.8471, 0.8667, 0.8588],\n",
              "         [0.8863, 0.9059, 0.9255,  ..., 0.8275, 0.8078, 0.8314],\n",
              "         ...,\n",
              "         [0.7725, 0.7882, 0.8000,  ..., 0.9647, 0.8980, 0.8941],\n",
              "         [0.7804, 0.7882, 0.7922,  ..., 0.9686, 0.8824, 0.8902],\n",
              "         [0.7569, 0.7647, 0.7843,  ..., 0.9647, 0.9216, 0.8510]],\n",
              "\n",
              "        [[0.8824, 0.8784, 0.8824,  ..., 0.7373, 0.7647, 0.7647],\n",
              "         [0.8706, 0.8706, 0.8784,  ..., 0.7176, 0.7137, 0.7373],\n",
              "         [0.8824, 0.8824, 0.8784,  ..., 0.7059, 0.6784, 0.6941],\n",
              "         ...,\n",
              "         [0.4824, 0.4980, 0.5176,  ..., 0.7843, 0.7961, 0.7569],\n",
              "         [0.4902, 0.4980, 0.5098,  ..., 0.8000, 0.8039, 0.7647],\n",
              "         [0.4706, 0.4784, 0.5059,  ..., 0.7804, 0.7725, 0.7608]],\n",
              "\n",
              "        [[0.9176, 0.9059, 0.9020,  ..., 0.8706, 0.8824, 0.9059],\n",
              "         [0.9059, 0.8980, 0.9020,  ..., 0.8510, 0.8392, 0.8824],\n",
              "         [0.8902, 0.9020, 0.9020,  ..., 0.8353, 0.8157, 0.8275],\n",
              "         ...,\n",
              "         [0.8275, 0.8431, 0.8706,  ..., 0.9529, 0.9373, 0.9529],\n",
              "         [0.8353, 0.8431, 0.8627,  ..., 0.9686, 0.9412, 0.9569],\n",
              "         [0.8078, 0.8157, 0.8431,  ..., 0.9608, 0.9373, 0.9333]]])"
            ]
          },
          "metadata": {},
          "execution_count": 48
        }
      ]
    },
    {
      "cell_type": "code",
      "source": [
        "output = model(list(image))"
      ],
      "metadata": {
        "id": "mD5-RubY8Uz3",
        "outputId": "f52a08cd-c7f7-43eb-fa4e-59790048b400",
        "colab": {
          "base_uri": "https://localhost:8080/",
          "height": 311
        }
      },
      "execution_count": null,
      "outputs": [
        {
          "output_type": "error",
          "ename": "ValueError",
          "evalue": "ignored",
          "traceback": [
            "\u001b[0;31m---------------------------------------------------------------------------\u001b[0m",
            "\u001b[0;31mValueError\u001b[0m                                Traceback (most recent call last)",
            "\u001b[0;32m<ipython-input-49-b43c09b6250f>\u001b[0m in \u001b[0;36m<module>\u001b[0;34m()\u001b[0m\n\u001b[0;32m----> 1\u001b[0;31m \u001b[0moutput\u001b[0m \u001b[0;34m=\u001b[0m \u001b[0mmodel\u001b[0m\u001b[0;34m(\u001b[0m\u001b[0mlist\u001b[0m\u001b[0;34m(\u001b[0m\u001b[0mimage\u001b[0m\u001b[0;34m)\u001b[0m\u001b[0;34m)\u001b[0m\u001b[0;34m\u001b[0m\u001b[0;34m\u001b[0m\u001b[0m\n\u001b[0m",
            "\u001b[0;32m/usr/local/lib/python3.7/dist-packages/torch/nn/modules/module.py\u001b[0m in \u001b[0;36m_call_impl\u001b[0;34m(self, *input, **kwargs)\u001b[0m\n\u001b[1;32m   1100\u001b[0m         if not (self._backward_hooks or self._forward_hooks or self._forward_pre_hooks or _global_backward_hooks\n\u001b[1;32m   1101\u001b[0m                 or _global_forward_hooks or _global_forward_pre_hooks):\n\u001b[0;32m-> 1102\u001b[0;31m             \u001b[0;32mreturn\u001b[0m \u001b[0mforward_call\u001b[0m\u001b[0;34m(\u001b[0m\u001b[0;34m*\u001b[0m\u001b[0minput\u001b[0m\u001b[0;34m,\u001b[0m \u001b[0;34m**\u001b[0m\u001b[0mkwargs\u001b[0m\u001b[0;34m)\u001b[0m\u001b[0;34m\u001b[0m\u001b[0;34m\u001b[0m\u001b[0m\n\u001b[0m\u001b[1;32m   1103\u001b[0m         \u001b[0;31m# Do not call functions when jit is used\u001b[0m\u001b[0;34m\u001b[0m\u001b[0;34m\u001b[0m\u001b[0;34m\u001b[0m\u001b[0m\n\u001b[1;32m   1104\u001b[0m         \u001b[0mfull_backward_hooks\u001b[0m\u001b[0;34m,\u001b[0m \u001b[0mnon_full_backward_hooks\u001b[0m \u001b[0;34m=\u001b[0m \u001b[0;34m[\u001b[0m\u001b[0;34m]\u001b[0m\u001b[0;34m,\u001b[0m \u001b[0;34m[\u001b[0m\u001b[0;34m]\u001b[0m\u001b[0;34m\u001b[0m\u001b[0;34m\u001b[0m\u001b[0m\n",
            "\u001b[0;32m/usr/local/lib/python3.7/dist-packages/torchvision/models/detection/generalized_rcnn.py\u001b[0m in \u001b[0;36mforward\u001b[0;34m(self, images, targets)\u001b[0m\n\u001b[1;32m     75\u001b[0m             \u001b[0moriginal_image_sizes\u001b[0m\u001b[0;34m.\u001b[0m\u001b[0mappend\u001b[0m\u001b[0;34m(\u001b[0m\u001b[0;34m(\u001b[0m\u001b[0mval\u001b[0m\u001b[0;34m[\u001b[0m\u001b[0;36m0\u001b[0m\u001b[0;34m]\u001b[0m\u001b[0;34m,\u001b[0m \u001b[0mval\u001b[0m\u001b[0;34m[\u001b[0m\u001b[0;36m1\u001b[0m\u001b[0;34m]\u001b[0m\u001b[0;34m)\u001b[0m\u001b[0;34m)\u001b[0m\u001b[0;34m\u001b[0m\u001b[0;34m\u001b[0m\u001b[0m\n\u001b[1;32m     76\u001b[0m \u001b[0;34m\u001b[0m\u001b[0m\n\u001b[0;32m---> 77\u001b[0;31m         \u001b[0mimages\u001b[0m\u001b[0;34m,\u001b[0m \u001b[0mtargets\u001b[0m \u001b[0;34m=\u001b[0m \u001b[0mself\u001b[0m\u001b[0;34m.\u001b[0m\u001b[0mtransform\u001b[0m\u001b[0;34m(\u001b[0m\u001b[0mimages\u001b[0m\u001b[0;34m,\u001b[0m \u001b[0mtargets\u001b[0m\u001b[0;34m)\u001b[0m\u001b[0;34m\u001b[0m\u001b[0;34m\u001b[0m\u001b[0m\n\u001b[0m\u001b[1;32m     78\u001b[0m \u001b[0;34m\u001b[0m\u001b[0m\n\u001b[1;32m     79\u001b[0m         \u001b[0;31m# Check for degenerate boxes\u001b[0m\u001b[0;34m\u001b[0m\u001b[0;34m\u001b[0m\u001b[0;34m\u001b[0m\u001b[0m\n",
            "\u001b[0;32m/usr/local/lib/python3.7/dist-packages/torch/nn/modules/module.py\u001b[0m in \u001b[0;36m_call_impl\u001b[0;34m(self, *input, **kwargs)\u001b[0m\n\u001b[1;32m   1100\u001b[0m         if not (self._backward_hooks or self._forward_hooks or self._forward_pre_hooks or _global_backward_hooks\n\u001b[1;32m   1101\u001b[0m                 or _global_forward_hooks or _global_forward_pre_hooks):\n\u001b[0;32m-> 1102\u001b[0;31m             \u001b[0;32mreturn\u001b[0m \u001b[0mforward_call\u001b[0m\u001b[0;34m(\u001b[0m\u001b[0;34m*\u001b[0m\u001b[0minput\u001b[0m\u001b[0;34m,\u001b[0m \u001b[0;34m**\u001b[0m\u001b[0mkwargs\u001b[0m\u001b[0;34m)\u001b[0m\u001b[0;34m\u001b[0m\u001b[0;34m\u001b[0m\u001b[0m\n\u001b[0m\u001b[1;32m   1103\u001b[0m         \u001b[0;31m# Do not call functions when jit is used\u001b[0m\u001b[0;34m\u001b[0m\u001b[0;34m\u001b[0m\u001b[0;34m\u001b[0m\u001b[0m\n\u001b[1;32m   1104\u001b[0m         \u001b[0mfull_backward_hooks\u001b[0m\u001b[0;34m,\u001b[0m \u001b[0mnon_full_backward_hooks\u001b[0m \u001b[0;34m=\u001b[0m \u001b[0;34m[\u001b[0m\u001b[0;34m]\u001b[0m\u001b[0;34m,\u001b[0m \u001b[0;34m[\u001b[0m\u001b[0;34m]\u001b[0m\u001b[0;34m\u001b[0m\u001b[0;34m\u001b[0m\u001b[0m\n",
            "\u001b[0;32m/usr/local/lib/python3.7/dist-packages/torchvision/models/detection/transform.py\u001b[0m in \u001b[0;36mforward\u001b[0;34m(self, images, targets)\u001b[0m\n\u001b[1;32m    108\u001b[0m             \u001b[0;32mif\u001b[0m \u001b[0mimage\u001b[0m\u001b[0;34m.\u001b[0m\u001b[0mdim\u001b[0m\u001b[0;34m(\u001b[0m\u001b[0;34m)\u001b[0m \u001b[0;34m!=\u001b[0m \u001b[0;36m3\u001b[0m\u001b[0;34m:\u001b[0m\u001b[0;34m\u001b[0m\u001b[0;34m\u001b[0m\u001b[0m\n\u001b[1;32m    109\u001b[0m                 raise ValueError(\"images is expected to be a list of 3d tensors \"\n\u001b[0;32m--> 110\u001b[0;31m                                  \"of shape [C, H, W], got {}\".format(image.shape))\n\u001b[0m\u001b[1;32m    111\u001b[0m             \u001b[0mimage\u001b[0m \u001b[0;34m=\u001b[0m \u001b[0mself\u001b[0m\u001b[0;34m.\u001b[0m\u001b[0mnormalize\u001b[0m\u001b[0;34m(\u001b[0m\u001b[0mimage\u001b[0m\u001b[0;34m)\u001b[0m\u001b[0;34m\u001b[0m\u001b[0;34m\u001b[0m\u001b[0m\n\u001b[1;32m    112\u001b[0m             \u001b[0mimage\u001b[0m\u001b[0;34m,\u001b[0m \u001b[0mtarget_index\u001b[0m \u001b[0;34m=\u001b[0m \u001b[0mself\u001b[0m\u001b[0;34m.\u001b[0m\u001b[0mresize\u001b[0m\u001b[0;34m(\u001b[0m\u001b[0mimage\u001b[0m\u001b[0;34m,\u001b[0m \u001b[0mtarget_index\u001b[0m\u001b[0;34m)\u001b[0m\u001b[0;34m\u001b[0m\u001b[0;34m\u001b[0m\u001b[0m\n",
            "\u001b[0;31mValueError\u001b[0m: images is expected to be a list of 3d tensors of shape [C, H, W], got torch.Size([451, 481])"
          ]
        }
      ]
    },
    {
      "cell_type": "code",
      "source": [
        "model.load_state_dict(torch.load('./model.pth'))\n",
        "model = model.to(device)"
      ],
      "metadata": {
        "id": "_ng_I6SMF3w9"
      },
      "execution_count": null,
      "outputs": []
    },
    {
      "cell_type": "code",
      "source": [
        "test_dataset = MitosisImagesDataset(files_dir, 481, 451,transforms=get_transform(train=False))\n",
        "\n",
        "torch.manual_seed(1)\n",
        "indices = torch.randperm(len(dataset)).tolist()\n",
        "\n",
        "test_split = 0.2\n",
        "tsize = int(len(test_dataset)*test_split)\n",
        "\n",
        "test_dataset = torch.utils.data.Subset(test_dataset, indices[-tsize:])\n",
        "\n",
        "test_data_loader = torch.utils.data.DataLoader(\n",
        "  test_dataset,\n",
        "  batch_size=10,\n",
        "  shuffle=False,\n",
        "  num_workers=4,\n",
        "  collate_fn=utils.collate_fn,\n",
        ")"
      ],
      "metadata": {
        "id": "rUq5rCuJXfq8"
      },
      "execution_count": 25,
      "outputs": []
    },
    {
      "cell_type": "code",
      "source": [
        "evaluate(model, train_data_loader, device=device)"
      ],
      "metadata": {
        "id": "fx_qQJYitko2",
        "outputId": "77e7ecee-e525-474a-87df-82384e28422f",
        "colab": {
          "base_uri": "https://localhost:8080/"
        }
      },
      "execution_count": 27,
      "outputs": [
        {
          "output_type": "stream",
          "name": "stdout",
          "text": [
            "creating index...\n",
            "index created!\n",
            "Test:  [ 0/50]  eta: 0:02:59  model_time: 2.5067 (2.5067)  evaluator_time: 0.0069 (0.0069)  time: 3.5978  data: 1.0425  max mem: 8840\n",
            "Test:  [49/50]  eta: 0:00:02  model_time: 2.3666 (2.3567)  evaluator_time: 0.0039 (0.0043)  time: 2.4102  data: 0.0697  max mem: 8840\n",
            "Test: Total time: 0:02:03 (2.4691 s / it)\n",
            "Averaged stats: model_time: 2.3666 (2.3567)  evaluator_time: 0.0039 (0.0043)\n",
            "Accumulating evaluation results...\n",
            "DONE (t=0.03s).\n",
            "IoU metric: bbox\n",
            " Average Precision  (AP) @[ IoU=0.50:0.95 | area=   all | maxDets=100 ] = 0.000\n",
            " Average Precision  (AP) @[ IoU=0.50      | area=   all | maxDets=100 ] = 0.000\n",
            " Average Precision  (AP) @[ IoU=0.75      | area=   all | maxDets=100 ] = 0.000\n",
            " Average Precision  (AP) @[ IoU=0.50:0.95 | area= small | maxDets=100 ] = 0.000\n",
            " Average Precision  (AP) @[ IoU=0.50:0.95 | area=medium | maxDets=100 ] = -1.000\n",
            " Average Precision  (AP) @[ IoU=0.50:0.95 | area= large | maxDets=100 ] = -1.000\n",
            " Average Recall     (AR) @[ IoU=0.50:0.95 | area=   all | maxDets=  1 ] = 0.000\n",
            " Average Recall     (AR) @[ IoU=0.50:0.95 | area=   all | maxDets= 10 ] = 0.000\n",
            " Average Recall     (AR) @[ IoU=0.50:0.95 | area=   all | maxDets=100 ] = 0.000\n",
            " Average Recall     (AR) @[ IoU=0.50:0.95 | area= small | maxDets=100 ] = 0.000\n",
            " Average Recall     (AR) @[ IoU=0.50:0.95 | area=medium | maxDets=100 ] = -1.000\n",
            " Average Recall     (AR) @[ IoU=0.50:0.95 | area= large | maxDets=100 ] = -1.000\n"
          ]
        },
        {
          "output_type": "execute_result",
          "data": {
            "text/plain": [
              "<coco_eval.CocoEvaluator at 0x7fe51667f2d0>"
            ]
          },
          "metadata": {},
          "execution_count": 27
        }
      ]
    },
    {
      "cell_type": "code",
      "source": [
        "from coco_utils import get_coco_api_from_dataset\n",
        "from coco_eval import CocoEvaluator\n",
        "import time\n",
        "\n",
        "def _get_iou_types(model):\n",
        "    model_without_ddp = model\n",
        "    if isinstance(model, torch.nn.parallel.DistributedDataParallel):\n",
        "        model_without_ddp = model.module\n",
        "    iou_types = [\"bbox\"]\n",
        "    if isinstance(model_without_ddp, torchvision.models.detection.MaskRCNN):\n",
        "        iou_types.append(\"segm\")\n",
        "    if isinstance(model_without_ddp, torchvision.models.detection.KeypointRCNN):\n",
        "        iou_types.append(\"keypoints\")\n",
        "    return iou_types\n"
      ],
      "metadata": {
        "id": "Pe5NhN9vqvZy"
      },
      "execution_count": null,
      "outputs": []
    },
    {
      "cell_type": "code",
      "source": [
        "def evaluate(model, data_loader, device):\n",
        "    n_threads = torch.get_num_threads()\n",
        "    # FIXME remove this and make paste_masks_in_image run on the GPU\n",
        "    torch.set_num_threads(1)\n",
        "    cpu_device = torch.device(\"cpu\")\n",
        "    model.eval()\n",
        "    metric_logger = utils.MetricLogger(delimiter=\"  \")\n",
        "    header = \"Test:\"\n",
        "\n",
        "    coco = get_coco_api_from_dataset(data_loader.dataset)\n",
        "    iou_types = _get_iou_types(model)\n",
        "    coco_evaluator = CocoEvaluator(coco, iou_types)\n",
        "\n",
        "    for images, targets in metric_logger.log_every(data_loader, 100, header):\n",
        "        images = list(img.to(device) for img in images)\n",
        "\n",
        "        if torch.cuda.is_available():\n",
        "            torch.cuda.synchronize()\n",
        "        model_time = time.time()\n",
        "        outputs = model(images)\n",
        "\n",
        "        outputs = [{k: v.to(cpu_device) for k, v in t.items()} for t in outputs]\n",
        "        model_time = time.time() - model_time\n",
        "\n",
        "        res = {target[\"image_id\"].item(): output for target, output in zip(targets, outputs)}\n",
        "        evaluator_time = time.time()\n",
        "        coco_evaluator.update(res)\n",
        "        evaluator_time = time.time() - evaluator_time\n",
        "        metric_logger.update(model_time=model_time, evaluator_time=evaluator_time)\n",
        "\n",
        "    # gather the stats from all processes\n",
        "    metric_logger.synchronize_between_processes()\n",
        "    print(\"Averaged stats:\", metric_logger)\n",
        "    coco_evaluator.synchronize_between_processes()\n",
        "\n",
        "    # accumulate predictions from all images\n",
        "    coco_evaluator.accumulate()\n",
        "    coco_evaluator.summarize()\n",
        "    torch.set_num_threads(n_threads)\n",
        "    return coco_evaluator"
      ],
      "metadata": {
        "id": "ub0hvADTpsaf"
      },
      "execution_count": null,
      "outputs": []
    },
    {
      "cell_type": "code",
      "source": [
        "evaluate(model,test_data_loader,device)"
      ],
      "metadata": {
        "id": "Ilr9aW6Cq76v"
      },
      "execution_count": null,
      "outputs": []
    },
    {
      "cell_type": "code",
      "source": [
        "_get_iou_types(model)"
      ],
      "metadata": {
        "colab": {
          "base_uri": "https://localhost:8080/"
        },
        "id": "Qf2J5yI_rAqv",
        "outputId": "0ebdf70b-2b14-4ad8-e621-491ff814d74d"
      },
      "execution_count": null,
      "outputs": [
        {
          "output_type": "execute_result",
          "data": {
            "text/plain": [
              "['bbox']"
            ]
          },
          "metadata": {},
          "execution_count": 41
        }
      ]
    },
    {
      "cell_type": "code",
      "source": [
        "metric_logger = utils.MetricLogger(delimiter=\"  \")"
      ],
      "metadata": {
        "id": "QXkAfuJbsccM"
      },
      "execution_count": null,
      "outputs": []
    },
    {
      "cell_type": "code",
      "source": [
        "model.eval()"
      ],
      "metadata": {
        "id": "HaRfPP_Hu8Ke"
      },
      "execution_count": null,
      "outputs": []
    },
    {
      "cell_type": "code",
      "source": [
        "for images,targets in metric_logger.log_every(test_data_loader, 20, \"Test:\"):\n",
        "  images = list(img.to(device) for img in images)\n",
        "  outputs = model(images)"
      ],
      "metadata": {
        "colab": {
          "base_uri": "https://localhost:8080/",
          "height": 380
        },
        "id": "uhkDUBXqr7Hp",
        "outputId": "d1fade32-9517-486e-dadd-a27cf05c1372"
      },
      "execution_count": null,
      "outputs": [
        {
          "output_type": "error",
          "ename": "RuntimeError",
          "evalue": "ignored",
          "traceback": [
            "\u001b[0;31m---------------------------------------------------------------------------\u001b[0m",
            "\u001b[0;31mRuntimeError\u001b[0m                              Traceback (most recent call last)",
            "\u001b[0;32m<ipython-input-45-b9a9cdd3f9aa>\u001b[0m in \u001b[0;36m<module>\u001b[0;34m()\u001b[0m\n\u001b[1;32m      1\u001b[0m \u001b[0;32mfor\u001b[0m \u001b[0mimages\u001b[0m\u001b[0;34m,\u001b[0m\u001b[0mtargets\u001b[0m \u001b[0;32min\u001b[0m \u001b[0mmetric_logger\u001b[0m\u001b[0;34m.\u001b[0m\u001b[0mlog_every\u001b[0m\u001b[0;34m(\u001b[0m\u001b[0mtest_data_loader\u001b[0m\u001b[0;34m,\u001b[0m \u001b[0;36m20\u001b[0m\u001b[0;34m,\u001b[0m \u001b[0;34m\"Test:\"\u001b[0m\u001b[0;34m)\u001b[0m\u001b[0;34m:\u001b[0m\u001b[0;34m\u001b[0m\u001b[0;34m\u001b[0m\u001b[0m\n\u001b[1;32m      2\u001b[0m   \u001b[0mimages\u001b[0m \u001b[0;34m=\u001b[0m \u001b[0mlist\u001b[0m\u001b[0;34m(\u001b[0m\u001b[0mimg\u001b[0m\u001b[0;34m.\u001b[0m\u001b[0mto\u001b[0m\u001b[0;34m(\u001b[0m\u001b[0mdevice\u001b[0m\u001b[0;34m)\u001b[0m \u001b[0;32mfor\u001b[0m \u001b[0mimg\u001b[0m \u001b[0;32min\u001b[0m \u001b[0mimages\u001b[0m\u001b[0;34m)\u001b[0m\u001b[0;34m\u001b[0m\u001b[0;34m\u001b[0m\u001b[0m\n\u001b[0;32m----> 3\u001b[0;31m   \u001b[0moutputs\u001b[0m \u001b[0;34m=\u001b[0m \u001b[0mmodel\u001b[0m\u001b[0;34m(\u001b[0m\u001b[0mimages\u001b[0m\u001b[0;34m)\u001b[0m\u001b[0;34m\u001b[0m\u001b[0;34m\u001b[0m\u001b[0m\n\u001b[0m",
            "\u001b[0;32m/usr/local/lib/python3.7/dist-packages/torch/nn/modules/module.py\u001b[0m in \u001b[0;36m_call_impl\u001b[0;34m(self, *input, **kwargs)\u001b[0m\n\u001b[1;32m   1100\u001b[0m         if not (self._backward_hooks or self._forward_hooks or self._forward_pre_hooks or _global_backward_hooks\n\u001b[1;32m   1101\u001b[0m                 or _global_forward_hooks or _global_forward_pre_hooks):\n\u001b[0;32m-> 1102\u001b[0;31m             \u001b[0;32mreturn\u001b[0m \u001b[0mforward_call\u001b[0m\u001b[0;34m(\u001b[0m\u001b[0;34m*\u001b[0m\u001b[0minput\u001b[0m\u001b[0;34m,\u001b[0m \u001b[0;34m**\u001b[0m\u001b[0mkwargs\u001b[0m\u001b[0;34m)\u001b[0m\u001b[0;34m\u001b[0m\u001b[0;34m\u001b[0m\u001b[0m\n\u001b[0m\u001b[1;32m   1103\u001b[0m         \u001b[0;31m# Do not call functions when jit is used\u001b[0m\u001b[0;34m\u001b[0m\u001b[0;34m\u001b[0m\u001b[0;34m\u001b[0m\u001b[0m\n\u001b[1;32m   1104\u001b[0m         \u001b[0mfull_backward_hooks\u001b[0m\u001b[0;34m,\u001b[0m \u001b[0mnon_full_backward_hooks\u001b[0m \u001b[0;34m=\u001b[0m \u001b[0;34m[\u001b[0m\u001b[0;34m]\u001b[0m\u001b[0;34m,\u001b[0m \u001b[0;34m[\u001b[0m\u001b[0;34m]\u001b[0m\u001b[0;34m\u001b[0m\u001b[0;34m\u001b[0m\u001b[0m\n",
            "\u001b[0;32m/usr/local/lib/python3.7/dist-packages/torchvision/models/detection/generalized_rcnn.py\u001b[0m in \u001b[0;36mforward\u001b[0;34m(self, images, targets)\u001b[0m\n\u001b[1;32m     91\u001b[0m                                      .format(degen_bb, target_idx))\n\u001b[1;32m     92\u001b[0m \u001b[0;34m\u001b[0m\u001b[0m\n\u001b[0;32m---> 93\u001b[0;31m         \u001b[0mfeatures\u001b[0m \u001b[0;34m=\u001b[0m \u001b[0mself\u001b[0m\u001b[0;34m.\u001b[0m\u001b[0mbackbone\u001b[0m\u001b[0;34m(\u001b[0m\u001b[0mimages\u001b[0m\u001b[0;34m.\u001b[0m\u001b[0mtensors\u001b[0m\u001b[0;34m)\u001b[0m\u001b[0;34m\u001b[0m\u001b[0;34m\u001b[0m\u001b[0m\n\u001b[0m\u001b[1;32m     94\u001b[0m         \u001b[0;32mif\u001b[0m \u001b[0misinstance\u001b[0m\u001b[0;34m(\u001b[0m\u001b[0mfeatures\u001b[0m\u001b[0;34m,\u001b[0m \u001b[0mtorch\u001b[0m\u001b[0;34m.\u001b[0m\u001b[0mTensor\u001b[0m\u001b[0;34m)\u001b[0m\u001b[0;34m:\u001b[0m\u001b[0;34m\u001b[0m\u001b[0;34m\u001b[0m\u001b[0m\n\u001b[1;32m     95\u001b[0m             \u001b[0mfeatures\u001b[0m \u001b[0;34m=\u001b[0m \u001b[0mOrderedDict\u001b[0m\u001b[0;34m(\u001b[0m\u001b[0;34m[\u001b[0m\u001b[0;34m(\u001b[0m\u001b[0;34m'0'\u001b[0m\u001b[0;34m,\u001b[0m \u001b[0mfeatures\u001b[0m\u001b[0;34m)\u001b[0m\u001b[0;34m]\u001b[0m\u001b[0;34m)\u001b[0m\u001b[0;34m\u001b[0m\u001b[0;34m\u001b[0m\u001b[0m\n",
            "\u001b[0;32m/usr/local/lib/python3.7/dist-packages/torch/nn/modules/module.py\u001b[0m in \u001b[0;36m_call_impl\u001b[0;34m(self, *input, **kwargs)\u001b[0m\n\u001b[1;32m   1100\u001b[0m         if not (self._backward_hooks or self._forward_hooks or self._forward_pre_hooks or _global_backward_hooks\n\u001b[1;32m   1101\u001b[0m                 or _global_forward_hooks or _global_forward_pre_hooks):\n\u001b[0;32m-> 1102\u001b[0;31m             \u001b[0;32mreturn\u001b[0m \u001b[0mforward_call\u001b[0m\u001b[0;34m(\u001b[0m\u001b[0;34m*\u001b[0m\u001b[0minput\u001b[0m\u001b[0;34m,\u001b[0m \u001b[0;34m**\u001b[0m\u001b[0mkwargs\u001b[0m\u001b[0;34m)\u001b[0m\u001b[0;34m\u001b[0m\u001b[0;34m\u001b[0m\u001b[0m\n\u001b[0m\u001b[1;32m   1103\u001b[0m         \u001b[0;31m# Do not call functions when jit is used\u001b[0m\u001b[0;34m\u001b[0m\u001b[0;34m\u001b[0m\u001b[0;34m\u001b[0m\u001b[0m\n\u001b[1;32m   1104\u001b[0m         \u001b[0mfull_backward_hooks\u001b[0m\u001b[0;34m,\u001b[0m \u001b[0mnon_full_backward_hooks\u001b[0m \u001b[0;34m=\u001b[0m \u001b[0;34m[\u001b[0m\u001b[0;34m]\u001b[0m\u001b[0;34m,\u001b[0m \u001b[0;34m[\u001b[0m\u001b[0;34m]\u001b[0m\u001b[0;34m\u001b[0m\u001b[0;34m\u001b[0m\u001b[0m\n",
            "\u001b[0;32m/usr/local/lib/python3.7/dist-packages/torchvision/models/detection/backbone_utils.py\u001b[0m in \u001b[0;36mforward\u001b[0;34m(self, x)\u001b[0m\n\u001b[1;32m     43\u001b[0m     \u001b[0;32mdef\u001b[0m \u001b[0mforward\u001b[0m\u001b[0;34m(\u001b[0m\u001b[0mself\u001b[0m\u001b[0;34m,\u001b[0m \u001b[0mx\u001b[0m\u001b[0;34m)\u001b[0m\u001b[0;34m:\u001b[0m\u001b[0;34m\u001b[0m\u001b[0;34m\u001b[0m\u001b[0m\n\u001b[1;32m     44\u001b[0m         \u001b[0mx\u001b[0m \u001b[0;34m=\u001b[0m \u001b[0mself\u001b[0m\u001b[0;34m.\u001b[0m\u001b[0mbody\u001b[0m\u001b[0;34m(\u001b[0m\u001b[0mx\u001b[0m\u001b[0;34m)\u001b[0m\u001b[0;34m\u001b[0m\u001b[0;34m\u001b[0m\u001b[0m\n\u001b[0;32m---> 45\u001b[0;31m         \u001b[0mx\u001b[0m \u001b[0;34m=\u001b[0m \u001b[0mself\u001b[0m\u001b[0;34m.\u001b[0m\u001b[0mfpn\u001b[0m\u001b[0;34m(\u001b[0m\u001b[0mx\u001b[0m\u001b[0;34m)\u001b[0m\u001b[0;34m\u001b[0m\u001b[0;34m\u001b[0m\u001b[0m\n\u001b[0m\u001b[1;32m     46\u001b[0m         \u001b[0;32mreturn\u001b[0m \u001b[0mx\u001b[0m\u001b[0;34m\u001b[0m\u001b[0;34m\u001b[0m\u001b[0m\n\u001b[1;32m     47\u001b[0m \u001b[0;34m\u001b[0m\u001b[0m\n",
            "\u001b[0;32m/usr/local/lib/python3.7/dist-packages/torch/nn/modules/module.py\u001b[0m in \u001b[0;36m_call_impl\u001b[0;34m(self, *input, **kwargs)\u001b[0m\n\u001b[1;32m   1100\u001b[0m         if not (self._backward_hooks or self._forward_hooks or self._forward_pre_hooks or _global_backward_hooks\n\u001b[1;32m   1101\u001b[0m                 or _global_forward_hooks or _global_forward_pre_hooks):\n\u001b[0;32m-> 1102\u001b[0;31m             \u001b[0;32mreturn\u001b[0m \u001b[0mforward_call\u001b[0m\u001b[0;34m(\u001b[0m\u001b[0;34m*\u001b[0m\u001b[0minput\u001b[0m\u001b[0;34m,\u001b[0m \u001b[0;34m**\u001b[0m\u001b[0mkwargs\u001b[0m\u001b[0;34m)\u001b[0m\u001b[0;34m\u001b[0m\u001b[0;34m\u001b[0m\u001b[0m\n\u001b[0m\u001b[1;32m   1103\u001b[0m         \u001b[0;31m# Do not call functions when jit is used\u001b[0m\u001b[0;34m\u001b[0m\u001b[0;34m\u001b[0m\u001b[0;34m\u001b[0m\u001b[0m\n\u001b[1;32m   1104\u001b[0m         \u001b[0mfull_backward_hooks\u001b[0m\u001b[0;34m,\u001b[0m \u001b[0mnon_full_backward_hooks\u001b[0m \u001b[0;34m=\u001b[0m \u001b[0;34m[\u001b[0m\u001b[0;34m]\u001b[0m\u001b[0;34m,\u001b[0m \u001b[0;34m[\u001b[0m\u001b[0;34m]\u001b[0m\u001b[0;34m\u001b[0m\u001b[0;34m\u001b[0m\u001b[0m\n",
            "\u001b[0;32m/usr/local/lib/python3.7/dist-packages/torchvision/ops/feature_pyramid_network.py\u001b[0m in \u001b[0;36mforward\u001b[0;34m(self, x)\u001b[0m\n\u001b[1;32m    151\u001b[0m             \u001b[0minner_top_down\u001b[0m \u001b[0;34m=\u001b[0m \u001b[0mF\u001b[0m\u001b[0;34m.\u001b[0m\u001b[0minterpolate\u001b[0m\u001b[0;34m(\u001b[0m\u001b[0mlast_inner\u001b[0m\u001b[0;34m,\u001b[0m \u001b[0msize\u001b[0m\u001b[0;34m=\u001b[0m\u001b[0mfeat_shape\u001b[0m\u001b[0;34m,\u001b[0m \u001b[0mmode\u001b[0m\u001b[0;34m=\u001b[0m\u001b[0;34m\"nearest\"\u001b[0m\u001b[0;34m)\u001b[0m\u001b[0;34m\u001b[0m\u001b[0;34m\u001b[0m\u001b[0m\n\u001b[1;32m    152\u001b[0m             \u001b[0mlast_inner\u001b[0m \u001b[0;34m=\u001b[0m \u001b[0minner_lateral\u001b[0m \u001b[0;34m+\u001b[0m \u001b[0minner_top_down\u001b[0m\u001b[0;34m\u001b[0m\u001b[0;34m\u001b[0m\u001b[0m\n\u001b[0;32m--> 153\u001b[0;31m             \u001b[0mresults\u001b[0m\u001b[0;34m.\u001b[0m\u001b[0minsert\u001b[0m\u001b[0;34m(\u001b[0m\u001b[0;36m0\u001b[0m\u001b[0;34m,\u001b[0m \u001b[0mself\u001b[0m\u001b[0;34m.\u001b[0m\u001b[0mget_result_from_layer_blocks\u001b[0m\u001b[0;34m(\u001b[0m\u001b[0mlast_inner\u001b[0m\u001b[0;34m,\u001b[0m \u001b[0midx\u001b[0m\u001b[0;34m)\u001b[0m\u001b[0;34m)\u001b[0m\u001b[0;34m\u001b[0m\u001b[0;34m\u001b[0m\u001b[0m\n\u001b[0m\u001b[1;32m    154\u001b[0m \u001b[0;34m\u001b[0m\u001b[0m\n\u001b[1;32m    155\u001b[0m         \u001b[0;32mif\u001b[0m \u001b[0mself\u001b[0m\u001b[0;34m.\u001b[0m\u001b[0mextra_blocks\u001b[0m \u001b[0;32mis\u001b[0m \u001b[0;32mnot\u001b[0m \u001b[0;32mNone\u001b[0m\u001b[0;34m:\u001b[0m\u001b[0;34m\u001b[0m\u001b[0;34m\u001b[0m\u001b[0m\n",
            "\u001b[0;32m/usr/local/lib/python3.7/dist-packages/torchvision/ops/feature_pyramid_network.py\u001b[0m in \u001b[0;36mget_result_from_layer_blocks\u001b[0;34m(self, x, idx)\u001b[0m\n\u001b[1;32m    123\u001b[0m         \u001b[0;32mfor\u001b[0m \u001b[0mmodule\u001b[0m \u001b[0;32min\u001b[0m \u001b[0mself\u001b[0m\u001b[0;34m.\u001b[0m\u001b[0mlayer_blocks\u001b[0m\u001b[0;34m:\u001b[0m\u001b[0;34m\u001b[0m\u001b[0;34m\u001b[0m\u001b[0m\n\u001b[1;32m    124\u001b[0m             \u001b[0;32mif\u001b[0m \u001b[0mi\u001b[0m \u001b[0;34m==\u001b[0m \u001b[0midx\u001b[0m\u001b[0;34m:\u001b[0m\u001b[0;34m\u001b[0m\u001b[0;34m\u001b[0m\u001b[0m\n\u001b[0;32m--> 125\u001b[0;31m                 \u001b[0mout\u001b[0m \u001b[0;34m=\u001b[0m \u001b[0mmodule\u001b[0m\u001b[0;34m(\u001b[0m\u001b[0mx\u001b[0m\u001b[0;34m)\u001b[0m\u001b[0;34m\u001b[0m\u001b[0;34m\u001b[0m\u001b[0m\n\u001b[0m\u001b[1;32m    126\u001b[0m             \u001b[0mi\u001b[0m \u001b[0;34m+=\u001b[0m \u001b[0;36m1\u001b[0m\u001b[0;34m\u001b[0m\u001b[0;34m\u001b[0m\u001b[0m\n\u001b[1;32m    127\u001b[0m         \u001b[0;32mreturn\u001b[0m \u001b[0mout\u001b[0m\u001b[0;34m\u001b[0m\u001b[0;34m\u001b[0m\u001b[0m\n",
            "\u001b[0;32m/usr/local/lib/python3.7/dist-packages/torch/nn/modules/module.py\u001b[0m in \u001b[0;36m_call_impl\u001b[0;34m(self, *input, **kwargs)\u001b[0m\n\u001b[1;32m   1100\u001b[0m         if not (self._backward_hooks or self._forward_hooks or self._forward_pre_hooks or _global_backward_hooks\n\u001b[1;32m   1101\u001b[0m                 or _global_forward_hooks or _global_forward_pre_hooks):\n\u001b[0;32m-> 1102\u001b[0;31m             \u001b[0;32mreturn\u001b[0m \u001b[0mforward_call\u001b[0m\u001b[0;34m(\u001b[0m\u001b[0;34m*\u001b[0m\u001b[0minput\u001b[0m\u001b[0;34m,\u001b[0m \u001b[0;34m**\u001b[0m\u001b[0mkwargs\u001b[0m\u001b[0;34m)\u001b[0m\u001b[0;34m\u001b[0m\u001b[0;34m\u001b[0m\u001b[0m\n\u001b[0m\u001b[1;32m   1103\u001b[0m         \u001b[0;31m# Do not call functions when jit is used\u001b[0m\u001b[0;34m\u001b[0m\u001b[0;34m\u001b[0m\u001b[0;34m\u001b[0m\u001b[0m\n\u001b[1;32m   1104\u001b[0m         \u001b[0mfull_backward_hooks\u001b[0m\u001b[0;34m,\u001b[0m \u001b[0mnon_full_backward_hooks\u001b[0m \u001b[0;34m=\u001b[0m \u001b[0;34m[\u001b[0m\u001b[0;34m]\u001b[0m\u001b[0;34m,\u001b[0m \u001b[0;34m[\u001b[0m\u001b[0;34m]\u001b[0m\u001b[0;34m\u001b[0m\u001b[0;34m\u001b[0m\u001b[0m\n",
            "\u001b[0;32m/usr/local/lib/python3.7/dist-packages/torch/nn/modules/conv.py\u001b[0m in \u001b[0;36mforward\u001b[0;34m(self, input)\u001b[0m\n\u001b[1;32m    444\u001b[0m \u001b[0;34m\u001b[0m\u001b[0m\n\u001b[1;32m    445\u001b[0m     \u001b[0;32mdef\u001b[0m \u001b[0mforward\u001b[0m\u001b[0;34m(\u001b[0m\u001b[0mself\u001b[0m\u001b[0;34m,\u001b[0m \u001b[0minput\u001b[0m\u001b[0;34m:\u001b[0m \u001b[0mTensor\u001b[0m\u001b[0;34m)\u001b[0m \u001b[0;34m->\u001b[0m \u001b[0mTensor\u001b[0m\u001b[0;34m:\u001b[0m\u001b[0;34m\u001b[0m\u001b[0;34m\u001b[0m\u001b[0m\n\u001b[0;32m--> 446\u001b[0;31m         \u001b[0;32mreturn\u001b[0m \u001b[0mself\u001b[0m\u001b[0;34m.\u001b[0m\u001b[0m_conv_forward\u001b[0m\u001b[0;34m(\u001b[0m\u001b[0minput\u001b[0m\u001b[0;34m,\u001b[0m \u001b[0mself\u001b[0m\u001b[0;34m.\u001b[0m\u001b[0mweight\u001b[0m\u001b[0;34m,\u001b[0m \u001b[0mself\u001b[0m\u001b[0;34m.\u001b[0m\u001b[0mbias\u001b[0m\u001b[0;34m)\u001b[0m\u001b[0;34m\u001b[0m\u001b[0;34m\u001b[0m\u001b[0m\n\u001b[0m\u001b[1;32m    447\u001b[0m \u001b[0;34m\u001b[0m\u001b[0m\n\u001b[1;32m    448\u001b[0m \u001b[0;32mclass\u001b[0m \u001b[0mConv3d\u001b[0m\u001b[0;34m(\u001b[0m\u001b[0m_ConvNd\u001b[0m\u001b[0;34m)\u001b[0m\u001b[0;34m:\u001b[0m\u001b[0;34m\u001b[0m\u001b[0;34m\u001b[0m\u001b[0m\n",
            "\u001b[0;32m/usr/local/lib/python3.7/dist-packages/torch/nn/modules/conv.py\u001b[0m in \u001b[0;36m_conv_forward\u001b[0;34m(self, input, weight, bias)\u001b[0m\n\u001b[1;32m    441\u001b[0m                             _pair(0), self.dilation, self.groups)\n\u001b[1;32m    442\u001b[0m         return F.conv2d(input, weight, bias, self.stride,\n\u001b[0;32m--> 443\u001b[0;31m                         self.padding, self.dilation, self.groups)\n\u001b[0m\u001b[1;32m    444\u001b[0m \u001b[0;34m\u001b[0m\u001b[0m\n\u001b[1;32m    445\u001b[0m     \u001b[0;32mdef\u001b[0m \u001b[0mforward\u001b[0m\u001b[0;34m(\u001b[0m\u001b[0mself\u001b[0m\u001b[0;34m,\u001b[0m \u001b[0minput\u001b[0m\u001b[0;34m:\u001b[0m \u001b[0mTensor\u001b[0m\u001b[0;34m)\u001b[0m \u001b[0;34m->\u001b[0m \u001b[0mTensor\u001b[0m\u001b[0;34m:\u001b[0m\u001b[0;34m\u001b[0m\u001b[0;34m\u001b[0m\u001b[0m\n",
            "\u001b[0;31mRuntimeError\u001b[0m: CUDA out of memory. Tried to allocate 422.00 MiB (GPU 0; 15.90 GiB total capacity; 14.02 GiB already allocated; 405.75 MiB free; 14.49 GiB reserved in total by PyTorch) If reserved memory is >> allocated memory try setting max_split_size_mb to avoid fragmentation.  See documentation for Memory Management and PYTORCH_CUDA_ALLOC_CONF"
          ]
        }
      ]
    },
    {
      "cell_type": "code",
      "source": [
        "images[0]"
      ],
      "metadata": {
        "colab": {
          "base_uri": "https://localhost:8080/"
        },
        "id": "V5GMsYEKseeY",
        "outputId": "8a91034d-c621-4a89-edfd-cc173607ff7a"
      },
      "execution_count": null,
      "outputs": [
        {
          "output_type": "execute_result",
          "data": {
            "text/plain": [
              "tensor([[[0.6902, 0.6588, 0.6588,  ..., 0.4353, 0.4549, 0.5059],\n",
              "         [0.7020, 0.6431, 0.6471,  ..., 0.5020, 0.5098, 0.5569],\n",
              "         [0.6902, 0.6510, 0.6549,  ..., 0.5608, 0.5647, 0.6039],\n",
              "         ...,\n",
              "         [0.4392, 0.4353, 0.5059,  ..., 0.6235, 0.5294, 0.4275],\n",
              "         [0.4824, 0.4941, 0.5647,  ..., 0.6275, 0.5333, 0.4431],\n",
              "         [0.5020, 0.5647, 0.6314,  ..., 0.6118, 0.5176, 0.4353]],\n",
              "\n",
              "        [[0.4235, 0.4471, 0.4431,  ..., 0.3843, 0.3216, 0.2863],\n",
              "         [0.4627, 0.4431, 0.4431,  ..., 0.4353, 0.3804, 0.3451],\n",
              "         [0.4863, 0.4667, 0.4588,  ..., 0.4667, 0.4196, 0.3882],\n",
              "         ...,\n",
              "         [0.3333, 0.2863, 0.2824,  ..., 0.5216, 0.4745, 0.4157],\n",
              "         [0.3490, 0.3059, 0.3137,  ..., 0.5098, 0.4588, 0.4118],\n",
              "         [0.3529, 0.3255, 0.3412,  ..., 0.4863, 0.4353, 0.3961]],\n",
              "\n",
              "        [[0.7647, 0.7765, 0.7725,  ..., 0.6549, 0.6510, 0.6667],\n",
              "         [0.7765, 0.7373, 0.7373,  ..., 0.7098, 0.6902, 0.6902],\n",
              "         [0.7765, 0.7412, 0.7373,  ..., 0.7569, 0.7216, 0.7137],\n",
              "         ...,\n",
              "         [0.6510, 0.6745, 0.6627,  ..., 0.7765, 0.7176, 0.6314],\n",
              "         [0.6510, 0.6980, 0.6941,  ..., 0.7843, 0.7176, 0.6471],\n",
              "         [0.6471, 0.7294, 0.7294,  ..., 0.7725, 0.7059, 0.6431]]],\n",
              "       device='cuda:0')"
            ]
          },
          "metadata": {},
          "execution_count": 47
        }
      ]
    },
    {
      "cell_type": "code",
      "source": [
        "outputs[0]"
      ],
      "metadata": {
        "colab": {
          "base_uri": "https://localhost:8080/"
        },
        "id": "uh1T9QZ4s9ah",
        "outputId": "9dad4cc4-5455-4fe0-f62d-52c2e40a347c"
      },
      "execution_count": null,
      "outputs": [
        {
          "output_type": "execute_result",
          "data": {
            "text/plain": [
              "{'boxes': tensor([], device='cuda:0', size=(0, 4), grad_fn=<StackBackward0>),\n",
              " 'labels': tensor([], device='cuda:0', dtype=torch.int64),\n",
              " 'scores': tensor([], device='cuda:0', grad_fn=<IndexBackward0>)}"
            ]
          },
          "metadata": {},
          "execution_count": 74
        }
      ]
    },
    {
      "cell_type": "code",
      "source": [
        ""
      ],
      "metadata": {
        "id": "JTehr_YRyuNZ"
      },
      "execution_count": null,
      "outputs": []
    }
  ]
}