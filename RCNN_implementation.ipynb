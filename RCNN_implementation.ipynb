{
  "nbformat": 4,
  "nbformat_minor": 0,
  "metadata": {
    "colab": {
      "name": "RCNN implementation.ipynb",
      "provenance": [],
      "authorship_tag": "ABX9TyPN1NQ1D22+TExoFVMiNUSY",
      "include_colab_link": true
    },
    "kernelspec": {
      "name": "python3",
      "display_name": "Python 3"
    },
    "language_info": {
      "name": "python"
    }
  },
  "cells": [
    {
      "cell_type": "markdown",
      "metadata": {
        "id": "view-in-github",
        "colab_type": "text"
      },
      "source": [
        "<a href=\"https://colab.research.google.com/github/Ixiondbz/CSE499/blob/main/RCNN_implementation.ipynb\" target=\"_parent\"><img src=\"https://colab.research.google.com/assets/colab-badge.svg\" alt=\"Open In Colab\"/></a>"
      ]
    },
    {
      "cell_type": "code",
      "metadata": {
        "colab": {
          "base_uri": "https://localhost:8080/"
        },
        "id": "nBK6o0bPmh6L",
        "outputId": "0f7710d9-9bfc-4be7-fc82-aac1396aa2f7"
      },
      "source": [
        "%reload_ext autoreload\n",
        "%autoreload 2\n",
        "%matplotlib inline\n",
        "\n",
        "!pip install -U plotly\n",
        "\n",
        "import json\n",
        "from pathlib import Path\n",
        "import plotly\n",
        "import plotly.graph_objects as go\n",
        "import plotly.express as px\n",
        "from plotly.subplots import make_subplots\n",
        "from tqdm import tqdm\n",
        "import pandas as pd\n",
        "import random\n",
        "import cv2"
      ],
      "execution_count": 1,
      "outputs": [
        {
          "output_type": "stream",
          "name": "stdout",
          "text": [
            "Requirement already satisfied: plotly in /usr/local/lib/python3.7/dist-packages (5.3.1)\n",
            "Requirement already satisfied: six in /usr/local/lib/python3.7/dist-packages (from plotly) (1.15.0)\n",
            "Requirement already satisfied: tenacity>=6.2.0 in /usr/local/lib/python3.7/dist-packages (from plotly) (8.0.1)\n"
          ]
        }
      ]
    },
    {
      "cell_type": "code",
      "metadata": {
        "colab": {
          "base_uri": "https://localhost:8080/"
        },
        "id": "XDNPG5s0mnM5",
        "outputId": "0c5f672e-aec7-4acc-ab4a-bb567b6a291e"
      },
      "source": [
        "from google.colab import drive\n",
        "drive.mount('/drive')\n",
        "\n",
        "folder = \"MyDrive/MIDOG_Challenge\" #@param {type:\"string\"}\n",
        "midog_folder = Path(\"/drive\") / Path(folder)\n",
        "\n",
        "print(list(midog_folder.glob(\"*.*\")))"
      ],
      "execution_count": 2,
      "outputs": [
        {
          "output_type": "stream",
          "name": "stdout",
          "text": [
            "Drive already mounted at /drive; to attempt to forcibly remount, call drive.mount(\"/drive\", force_remount=True).\n",
            "[PosixPath('/drive/MyDrive/MIDOG_Challenge/MIDOG.sqlite'), PosixPath('/drive/MyDrive/MIDOG_Challenge/MIDOG.json')]\n"
          ]
        }
      ]
    },
    {
      "cell_type": "code",
      "metadata": {
        "id": "gytRH8aXmozQ",
        "outputId": "c8aaf2c2-ddbf-4c61-cc8a-32e2ffab728c",
        "colab": {
          "base_uri": "https://localhost:8080/"
        }
      },
      "source": [
        "!apt-get install python3-openslide\n",
        "from openslide import open_slide"
      ],
      "execution_count": 3,
      "outputs": [
        {
          "output_type": "stream",
          "name": "stdout",
          "text": [
            "Reading package lists... Done\n",
            "Building dependency tree       \n",
            "Reading state information... Done\n",
            "python3-openslide is already the newest version (1.1.1-2ubuntu4).\n",
            "0 upgraded, 0 newly installed, 0 to remove and 37 not upgraded.\n"
          ]
        }
      ]
    },
    {
      "cell_type": "code",
      "metadata": {
        "id": "tC_Bhdaxm32K"
      },
      "source": [
        "image_folder = midog_folder / \"images\"\n",
        "\n",
        "hamamatsu_rx_ids = list(range(0, 51))\n",
        "hamamatsu_360_ids = list(range(51, 101))\n",
        "aperio_ids = list(range(101, 151))\n",
        "leica_ids = list(range(151, 201))\n",
        "\n",
        "\n",
        "annotation_file = midog_folder / \"MIDOG.json\"\n",
        "rows = []\n",
        "with open(annotation_file) as f:\n",
        "    data = json.load(f)\n",
        "\n",
        "    categories = {1: 'mitotic figure', 2: 'hard negative'}\n",
        "\n",
        "    for row in data[\"images\"]:\n",
        "        file_name = row[\"file_name\"]\n",
        "        image_id = row[\"id\"]\n",
        "        width = row[\"width\"]\n",
        "        height = row[\"height\"]\n",
        "\n",
        "        scanner  = \"Hamamatsu XR\"\n",
        "        if image_id in hamamatsu_360_ids:\n",
        "            scanner  = \"Hamamatsu S360\"\n",
        "        if image_id in aperio_ids:\n",
        "            scanner  = \"Aperio CS\"\n",
        "        if image_id in leica_ids:\n",
        "            scanner  = \"Leica GT450\"\n",
        "         \n",
        "        for annotation in [anno for anno in data['annotations'] if anno[\"image_id\"] == image_id]:\n",
        "            box = annotation[\"bbox\"]\n",
        "            cat = categories[annotation[\"category_id\"]]\n",
        "\n",
        "            rows.append([file_name, image_id, width, height, box, cat, scanner])\n",
        "\n",
        "df = pd.DataFrame(rows, columns=[\"file_name\", \"image_id\", \"width\", \"height\", \"box\", \"cat\", \"scanner\"])"
      ],
      "execution_count": 4,
      "outputs": []
    },
    {
      "cell_type": "code",
      "metadata": {
        "id": "sCFhmdrmsBHp",
        "outputId": "2a3cec9c-57eb-4d1a-eade-50ce1a766ae0",
        "colab": {
          "base_uri": "https://localhost:8080/"
        }
      },
      "source": [
        "!pip install -U object-detection-fastai\n",
        "\n",
        "from object_detection_fastai.helper.wsi_loader import *"
      ],
      "execution_count": 5,
      "outputs": [
        {
          "output_type": "stream",
          "name": "stdout",
          "text": [
            "Requirement already satisfied: object-detection-fastai in /usr/local/lib/python3.7/dist-packages (0.0.10)\n",
            "Requirement already satisfied: opencv-python>=4.5.1.48 in /usr/local/lib/python3.7/dist-packages (from object-detection-fastai) (4.5.4.58)\n",
            "Requirement already satisfied: torch>=1.5.0 in /usr/local/lib/python3.7/dist-packages (from object-detection-fastai) (1.10.0+cu111)\n",
            "Requirement already satisfied: fastai==1.0.61 in /usr/local/lib/python3.7/dist-packages (from object-detection-fastai) (1.0.61)\n",
            "Requirement already satisfied: numpy in /usr/local/lib/python3.7/dist-packages (from object-detection-fastai) (1.19.5)\n",
            "Requirement already satisfied: torchvision>=0.6.0 in /usr/local/lib/python3.7/dist-packages (from object-detection-fastai) (0.11.1+cu111)\n",
            "Requirement already satisfied: openslide-python>=1.1.1 in /usr/lib/python3/dist-packages (from object-detection-fastai) (1.1.1)\n",
            "Requirement already satisfied: scikit-learn in /usr/local/lib/python3.7/dist-packages (from object-detection-fastai) (0.22.2.post1)\n",
            "Requirement already satisfied: nvidia-ml-py3 in /usr/local/lib/python3.7/dist-packages (from fastai==1.0.61->object-detection-fastai) (7.352.0)\n",
            "Requirement already satisfied: pyyaml in /usr/local/lib/python3.7/dist-packages (from fastai==1.0.61->object-detection-fastai) (3.13)\n",
            "Requirement already satisfied: fastprogress>=0.2.1 in /usr/local/lib/python3.7/dist-packages (from fastai==1.0.61->object-detection-fastai) (1.0.0)\n",
            "Requirement already satisfied: packaging in /usr/local/lib/python3.7/dist-packages (from fastai==1.0.61->object-detection-fastai) (21.2)\n",
            "Requirement already satisfied: requests in /usr/local/lib/python3.7/dist-packages (from fastai==1.0.61->object-detection-fastai) (2.23.0)\n",
            "Requirement already satisfied: numexpr in /usr/local/lib/python3.7/dist-packages (from fastai==1.0.61->object-detection-fastai) (2.7.3)\n",
            "Requirement already satisfied: bottleneck in /usr/local/lib/python3.7/dist-packages (from fastai==1.0.61->object-detection-fastai) (1.3.2)\n",
            "Requirement already satisfied: beautifulsoup4 in /usr/local/lib/python3.7/dist-packages (from fastai==1.0.61->object-detection-fastai) (4.6.3)\n",
            "Requirement already satisfied: scipy in /usr/local/lib/python3.7/dist-packages (from fastai==1.0.61->object-detection-fastai) (1.4.1)\n",
            "Requirement already satisfied: spacy>=2.0.18 in /usr/local/lib/python3.7/dist-packages (from fastai==1.0.61->object-detection-fastai) (2.2.4)\n",
            "Requirement already satisfied: Pillow in /usr/local/lib/python3.7/dist-packages (from fastai==1.0.61->object-detection-fastai) (7.1.2)\n",
            "Requirement already satisfied: pandas in /usr/local/lib/python3.7/dist-packages (from fastai==1.0.61->object-detection-fastai) (1.1.5)\n",
            "Requirement already satisfied: matplotlib in /usr/local/lib/python3.7/dist-packages (from fastai==1.0.61->object-detection-fastai) (3.2.2)\n",
            "Requirement already satisfied: thinc==7.4.0 in /usr/local/lib/python3.7/dist-packages (from spacy>=2.0.18->fastai==1.0.61->object-detection-fastai) (7.4.0)\n",
            "Requirement already satisfied: tqdm<5.0.0,>=4.38.0 in /usr/local/lib/python3.7/dist-packages (from spacy>=2.0.18->fastai==1.0.61->object-detection-fastai) (4.62.3)\n",
            "Requirement already satisfied: preshed<3.1.0,>=3.0.2 in /usr/local/lib/python3.7/dist-packages (from spacy>=2.0.18->fastai==1.0.61->object-detection-fastai) (3.0.6)\n",
            "Requirement already satisfied: blis<0.5.0,>=0.4.0 in /usr/local/lib/python3.7/dist-packages (from spacy>=2.0.18->fastai==1.0.61->object-detection-fastai) (0.4.1)\n",
            "Requirement already satisfied: srsly<1.1.0,>=1.0.2 in /usr/local/lib/python3.7/dist-packages (from spacy>=2.0.18->fastai==1.0.61->object-detection-fastai) (1.0.5)\n",
            "Requirement already satisfied: setuptools in /usr/local/lib/python3.7/dist-packages (from spacy>=2.0.18->fastai==1.0.61->object-detection-fastai) (57.4.0)\n",
            "Requirement already satisfied: catalogue<1.1.0,>=0.0.7 in /usr/local/lib/python3.7/dist-packages (from spacy>=2.0.18->fastai==1.0.61->object-detection-fastai) (1.0.0)\n",
            "Requirement already satisfied: cymem<2.1.0,>=2.0.2 in /usr/local/lib/python3.7/dist-packages (from spacy>=2.0.18->fastai==1.0.61->object-detection-fastai) (2.0.6)\n",
            "Requirement already satisfied: plac<1.2.0,>=0.9.6 in /usr/local/lib/python3.7/dist-packages (from spacy>=2.0.18->fastai==1.0.61->object-detection-fastai) (1.1.3)\n",
            "Requirement already satisfied: murmurhash<1.1.0,>=0.28.0 in /usr/local/lib/python3.7/dist-packages (from spacy>=2.0.18->fastai==1.0.61->object-detection-fastai) (1.0.6)\n",
            "Requirement already satisfied: wasabi<1.1.0,>=0.4.0 in /usr/local/lib/python3.7/dist-packages (from spacy>=2.0.18->fastai==1.0.61->object-detection-fastai) (0.8.2)\n",
            "Requirement already satisfied: importlib-metadata>=0.20 in /usr/local/lib/python3.7/dist-packages (from catalogue<1.1.0,>=0.0.7->spacy>=2.0.18->fastai==1.0.61->object-detection-fastai) (4.8.2)\n",
            "Requirement already satisfied: typing-extensions>=3.6.4 in /usr/local/lib/python3.7/dist-packages (from importlib-metadata>=0.20->catalogue<1.1.0,>=0.0.7->spacy>=2.0.18->fastai==1.0.61->object-detection-fastai) (3.10.0.2)\n",
            "Requirement already satisfied: zipp>=0.5 in /usr/local/lib/python3.7/dist-packages (from importlib-metadata>=0.20->catalogue<1.1.0,>=0.0.7->spacy>=2.0.18->fastai==1.0.61->object-detection-fastai) (3.6.0)\n",
            "Requirement already satisfied: urllib3!=1.25.0,!=1.25.1,<1.26,>=1.21.1 in /usr/local/lib/python3.7/dist-packages (from requests->fastai==1.0.61->object-detection-fastai) (1.24.3)\n",
            "Requirement already satisfied: certifi>=2017.4.17 in /usr/local/lib/python3.7/dist-packages (from requests->fastai==1.0.61->object-detection-fastai) (2021.10.8)\n",
            "Requirement already satisfied: idna<3,>=2.5 in /usr/local/lib/python3.7/dist-packages (from requests->fastai==1.0.61->object-detection-fastai) (2.10)\n",
            "Requirement already satisfied: chardet<4,>=3.0.2 in /usr/local/lib/python3.7/dist-packages (from requests->fastai==1.0.61->object-detection-fastai) (3.0.4)\n",
            "Requirement already satisfied: python-dateutil>=2.1 in /usr/local/lib/python3.7/dist-packages (from matplotlib->fastai==1.0.61->object-detection-fastai) (2.8.2)\n",
            "Requirement already satisfied: kiwisolver>=1.0.1 in /usr/local/lib/python3.7/dist-packages (from matplotlib->fastai==1.0.61->object-detection-fastai) (1.3.2)\n",
            "Requirement already satisfied: pyparsing!=2.0.4,!=2.1.2,!=2.1.6,>=2.0.1 in /usr/local/lib/python3.7/dist-packages (from matplotlib->fastai==1.0.61->object-detection-fastai) (2.4.7)\n",
            "Requirement already satisfied: cycler>=0.10 in /usr/local/lib/python3.7/dist-packages (from matplotlib->fastai==1.0.61->object-detection-fastai) (0.11.0)\n",
            "Requirement already satisfied: six>=1.5 in /usr/local/lib/python3.7/dist-packages (from python-dateutil>=2.1->matplotlib->fastai==1.0.61->object-detection-fastai) (1.15.0)\n",
            "Requirement already satisfied: pytz>=2017.2 in /usr/local/lib/python3.7/dist-packages (from pandas->fastai==1.0.61->object-detection-fastai) (2018.9)\n",
            "Requirement already satisfied: joblib>=0.11 in /usr/local/lib/python3.7/dist-packages (from scikit-learn->object-detection-fastai) (1.1.0)\n"
          ]
        }
      ]
    },
    {
      "cell_type": "code",
      "metadata": {
        "id": "hmtC7JGGqA-6",
        "colab": {
          "base_uri": "https://localhost:8080/"
        },
        "outputId": "7af9e8c8-c15f-4e6b-814e-ab3f5362d50c"
      },
      "source": [
        "def sample_function(y, classes, size, level_dimensions, level):\n",
        "    width, height = level_dimensions[level]\n",
        "    if len(y[0]) == 0:\n",
        "        return randint(0, width - size[0]), randint(0, height -size[1])\n",
        "    else:\n",
        "        #if randint(0, 5) < 2:\n",
        "        if True:\n",
        "            class_id = np.random.choice(classes, 1)[0] # select a random class\n",
        "            ids = np.array(y[1]) == class_id # filter the annotations according to the selected class\n",
        "            xmin, ymin, _, _ = np.array(y[0])[ids][randint(0, np.count_nonzero(ids) - 1)] # randomly select one of the filtered annotatons as seed for the training patch\n",
        "            \n",
        "            # To have the selected annotation not in the center of the patch and an random offset.\n",
        "            xmin += random.randint(-size[0]/2, size[0]/2) \n",
        "            ymin += random.randint(-size[1]/2, size[1]/2)\n",
        "            xmin, ymin = max(0, int(xmin - size[0] / 2)), max(0, int(ymin -size[1] / 2))\n",
        "            xmin, ymin = min(xmin, width - size[0]), min(ymin, height - size[1])\n",
        "            return xmin, ymin\n",
        "        else:\n",
        "            return randint(0, width - size[0]), randint(0, height -size[1])\n",
        "\n",
        "            \n",
        "def create_wsi_container(annotations_df: pd.DataFrame):\n",
        "    container = []\n",
        "\n",
        "    for image_name in tqdm(annotations_df[\"file_name\"].unique()):\n",
        "        image_annos = annotations_df[annotations_df[\"file_name\"] == image_name]\n",
        "\n",
        "        bboxes = [box   for box   in image_annos[\"box\"]]\n",
        "        labels = [label for label in image_annos[\"cat\"]]\n",
        "\n",
        "        container.append(SlideContainer(image_folder/image_name, y=[bboxes, labels], level=res_level,width=patch_size, height=patch_size, sample_func=sample_function))\n",
        "    return container\n",
        "\n",
        "train_scanner = \"Hamamatsu XR\" #@param [\"Hamamatsu XR\", \"Hamamatsu S360\", \"Aperio CS\"]  {allow-input: true}\n",
        "val_scanner = \"Hamamatsu S360\" #@param [\"Hamamatsu XR\", \"Hamamatsu S360\", \"Aperio CS\"]  {allow-input: true}\n",
        "\n",
        "patch_size = 256 #@param [256, 512, 1024]\n",
        "res_level = 0\n",
        "\n",
        "train_annos = df[df[\"scanner\"].isin(train_scanner.split(\",\"))]\n",
        "train_container = create_wsi_container(train_annos)\n",
        "\n",
        "val_annos = df[df[\"scanner\"].isin(val_scanner.split(\",\"))]\n",
        "valid_container = create_wsi_container(val_annos)\n",
        "\n",
        "f\"Created: {len(train_container)} training WSI container and {len(valid_container)} validation WSI container\"\n",
        "\n",
        "\n",
        "train_samples_per_scanner = 50 #@param {type:\"integer\"}\n",
        "val_samples_per_scanner = 10 #@param {type:\"integer\"}\n",
        "\n",
        "train_images = list(np.random.choice(train_container, train_samples_per_scanner))\n",
        "valid_images = list(np.random.choice(valid_container, val_samples_per_scanner))"
      ],
      "execution_count": 8,
      "outputs": [
        {
          "output_type": "stream",
          "name": "stderr",
          "text": [
            "100%|██████████| 50/50 [00:23<00:00,  2.09it/s]\n",
            "100%|██████████| 50/50 [00:28<00:00,  1.78it/s]\n"
          ]
        }
      ]
    },
    {
      "cell_type": "code",
      "metadata": {
        "id": "0iL5abfiuBgI",
        "outputId": "a3f15f73-75b1-460d-c1e0-6fe9afa5a118",
        "colab": {
          "base_uri": "https://localhost:8080/"
        }
      },
      "source": [
        ""
      ],
      "execution_count": 9,
      "outputs": [
        {
          "output_type": "execute_result",
          "data": {
            "text/plain": [
              "[<object_detection_fastai.helper.wsi_loader.SlideContainer at 0x7fab0a7e8d50>,\n",
              " <object_detection_fastai.helper.wsi_loader.SlideContainer at 0x7fab0a775f50>,\n",
              " <object_detection_fastai.helper.wsi_loader.SlideContainer at 0x7fab0a7e8bd0>,\n",
              " <object_detection_fastai.helper.wsi_loader.SlideContainer at 0x7fab0a7e8bd0>,\n",
              " <object_detection_fastai.helper.wsi_loader.SlideContainer at 0x7fab0a717b90>,\n",
              " <object_detection_fastai.helper.wsi_loader.SlideContainer at 0x7fab0a728590>,\n",
              " <object_detection_fastai.helper.wsi_loader.SlideContainer at 0x7fab0a764fd0>,\n",
              " <object_detection_fastai.helper.wsi_loader.SlideContainer at 0x7fab0a70e710>,\n",
              " <object_detection_fastai.helper.wsi_loader.SlideContainer at 0x7fab0a764990>,\n",
              " <object_detection_fastai.helper.wsi_loader.SlideContainer at 0x7fab0a70e710>,\n",
              " <object_detection_fastai.helper.wsi_loader.SlideContainer at 0x7fab0a70ead0>,\n",
              " <object_detection_fastai.helper.wsi_loader.SlideContainer at 0x7fab0a728590>,\n",
              " <object_detection_fastai.helper.wsi_loader.SlideContainer at 0x7fab0a733a90>,\n",
              " <object_detection_fastai.helper.wsi_loader.SlideContainer at 0x7fab0a7e8cd0>,\n",
              " <object_detection_fastai.helper.wsi_loader.SlideContainer at 0x7fab0a70e6d0>,\n",
              " <object_detection_fastai.helper.wsi_loader.SlideContainer at 0x7fab0a717b90>,\n",
              " <object_detection_fastai.helper.wsi_loader.SlideContainer at 0x7fab0a7e8cd0>,\n",
              " <object_detection_fastai.helper.wsi_loader.SlideContainer at 0x7fab0a72f710>,\n",
              " <object_detection_fastai.helper.wsi_loader.SlideContainer at 0x7fab0a77b9d0>,\n",
              " <object_detection_fastai.helper.wsi_loader.SlideContainer at 0x7fab0a7e8cd0>,\n",
              " <object_detection_fastai.helper.wsi_loader.SlideContainer at 0x7fab0a70e990>,\n",
              " <object_detection_fastai.helper.wsi_loader.SlideContainer at 0x7fab0a70e710>,\n",
              " <object_detection_fastai.helper.wsi_loader.SlideContainer at 0x7fab0a728dd0>,\n",
              " <object_detection_fastai.helper.wsi_loader.SlideContainer at 0x7fab0a70e990>,\n",
              " <object_detection_fastai.helper.wsi_loader.SlideContainer at 0x7fab0a71e710>,\n",
              " <object_detection_fastai.helper.wsi_loader.SlideContainer at 0x7fab0a77b550>,\n",
              " <object_detection_fastai.helper.wsi_loader.SlideContainer at 0x7fab0a733350>,\n",
              " <object_detection_fastai.helper.wsi_loader.SlideContainer at 0x7fab0a7758d0>,\n",
              " <object_detection_fastai.helper.wsi_loader.SlideContainer at 0x7fab0a7758d0>,\n",
              " <object_detection_fastai.helper.wsi_loader.SlideContainer at 0x7fab0a7e8850>,\n",
              " <object_detection_fastai.helper.wsi_loader.SlideContainer at 0x7fab0a71ec10>,\n",
              " <object_detection_fastai.helper.wsi_loader.SlideContainer at 0x7fab0a7e8d50>,\n",
              " <object_detection_fastai.helper.wsi_loader.SlideContainer at 0x7fab0a728c10>,\n",
              " <object_detection_fastai.helper.wsi_loader.SlideContainer at 0x7fab0a764fd0>,\n",
              " <object_detection_fastai.helper.wsi_loader.SlideContainer at 0x7fab0a70ee10>,\n",
              " <object_detection_fastai.helper.wsi_loader.SlideContainer at 0x7fab0a77ba90>,\n",
              " <object_detection_fastai.helper.wsi_loader.SlideContainer at 0x7fab0a717a50>,\n",
              " <object_detection_fastai.helper.wsi_loader.SlideContainer at 0x7fab0a70e6d0>,\n",
              " <object_detection_fastai.helper.wsi_loader.SlideContainer at 0x7fab0a764c50>,\n",
              " <object_detection_fastai.helper.wsi_loader.SlideContainer at 0x7fab0a764990>,\n",
              " <object_detection_fastai.helper.wsi_loader.SlideContainer at 0x7fab0a71ee10>,\n",
              " <object_detection_fastai.helper.wsi_loader.SlideContainer at 0x7fab0a733350>,\n",
              " <object_detection_fastai.helper.wsi_loader.SlideContainer at 0x7fab0a717250>,\n",
              " <object_detection_fastai.helper.wsi_loader.SlideContainer at 0x7fab0a72fa10>,\n",
              " <object_detection_fastai.helper.wsi_loader.SlideContainer at 0x7fab0a728590>,\n",
              " <object_detection_fastai.helper.wsi_loader.SlideContainer at 0x7fab0a775510>,\n",
              " <object_detection_fastai.helper.wsi_loader.SlideContainer at 0x7fab0a764fd0>,\n",
              " <object_detection_fastai.helper.wsi_loader.SlideContainer at 0x7fab0a764990>,\n",
              " <object_detection_fastai.helper.wsi_loader.SlideContainer at 0x7fab0a71ec10>,\n",
              " <object_detection_fastai.helper.wsi_loader.SlideContainer at 0x7fab0a7e8c90>]"
            ]
          },
          "metadata": {},
          "execution_count": 9
        }
      ]
    },
    {
      "cell_type": "code",
      "metadata": {
        "id": "SWhzR9nduCZn"
      },
      "source": [
        ""
      ],
      "execution_count": null,
      "outputs": []
    }
  ]
}