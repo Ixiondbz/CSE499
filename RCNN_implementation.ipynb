{
  "nbformat": 4,
  "nbformat_minor": 0,
  "metadata": {
    "colab": {
      "name": "RCNN implementation.ipynb",
      "provenance": [],
      "mount_file_id": "https://github.com/Ixiondbz/CSE499/blob/main/RCNN_implementation.ipynb",
      "authorship_tag": "ABX9TyOH5wk6Dt/MkMJ0D9it5kgK",
      "include_colab_link": true
    },
    "kernelspec": {
      "name": "python3",
      "display_name": "Python 3"
    },
    "language_info": {
      "name": "python"
    }
  },
  "cells": [
    {
      "cell_type": "markdown",
      "metadata": {
        "id": "view-in-github",
        "colab_type": "text"
      },
      "source": [
        "<a href=\"https://colab.research.google.com/github/Ixiondbz/CSE499/blob/main/RCNN_implementation.ipynb\" target=\"_parent\"><img src=\"https://colab.research.google.com/assets/colab-badge.svg\" alt=\"Open In Colab\"/></a>"
      ]
    },
    {
      "cell_type": "code",
      "metadata": {
        "colab": {
          "base_uri": "https://localhost:8080/"
        },
        "id": "nBK6o0bPmh6L",
        "outputId": "4f63001a-ea5b-4baa-86b7-e4b4d651eb99"
      },
      "source": [
        "%reload_ext autoreload\n",
        "%autoreload 2\n",
        "%matplotlib inline\n",
        "!pip install tensorflow==2.7.0\n",
        "!pip install -U plotly\n",
        "\n",
        "import json\n",
        "from pathlib import Path\n",
        "import plotly\n",
        "import plotly.graph_objects as go\n",
        "import plotly.express as px\n",
        "from plotly.subplots import make_subplots\n",
        "from tqdm import tqdm\n",
        "import pandas as pd\n",
        "import random\n",
        "import cv2\n",
        "\n",
        "import random\n",
        "import pprint\n",
        "import sys\n",
        "import time\n",
        "import numpy as np\n",
        "from optparse import OptionParser\n",
        "import pickle\n",
        "import math\n",
        "import cv2\n",
        "import copy\n",
        "from matplotlib import pyplot as plt\n",
        "import tensorflow as tf\n",
        "import pandas as pd\n",
        "import os\n",
        "\n",
        "from sklearn.metrics import average_precision_score\n",
        "\n",
        "from keras import backend as K\n",
        "from tensorflow.keras.optimizers import SGD, RMSprop\n",
        "from keras.layers import Flatten, Dense, Input, Conv2D, MaxPooling2D, Dropout\n",
        "from keras.layers import GlobalAveragePooling2D, GlobalMaxPooling2D, TimeDistributed\n",
        "from keras.utils.layer_utils import get_source_inputs\n",
        "#from keras.engine.topology import get_source_inputs\n",
        "from keras.utils import layer_utils\n",
        "from keras.utils.data_utils import get_file\n",
        "from tensorflow.keras.metrics import categorical_crossentropy\n",
        "\n",
        "from keras.models import Model\n",
        "from keras.utils import generic_utils\n",
        "#tf.keras.layers.InputSpec\n",
        "from tensorflow.keras.layers import Layer, InputSpec\n",
        "from keras import initializers, regularizers"
      ],
      "execution_count": 2,
      "outputs": [
        {
          "output_type": "stream",
          "name": "stdout",
          "text": [
            "Requirement already satisfied: tensorflow==2.7.0 in /usr/local/lib/python3.7/dist-packages (2.7.0)\n",
            "Requirement already satisfied: numpy>=1.14.5 in /usr/local/lib/python3.7/dist-packages (from tensorflow==2.7.0) (1.19.5)\n",
            "Requirement already satisfied: wheel<1.0,>=0.32.0 in /usr/local/lib/python3.7/dist-packages (from tensorflow==2.7.0) (0.37.0)\n",
            "Requirement already satisfied: termcolor>=1.1.0 in /usr/local/lib/python3.7/dist-packages (from tensorflow==2.7.0) (1.1.0)\n",
            "Requirement already satisfied: keras<2.8,>=2.7.0rc0 in /usr/local/lib/python3.7/dist-packages (from tensorflow==2.7.0) (2.7.0)\n",
            "Requirement already satisfied: six>=1.12.0 in /usr/local/lib/python3.7/dist-packages (from tensorflow==2.7.0) (1.15.0)\n",
            "Requirement already satisfied: flatbuffers<3.0,>=1.12 in /usr/local/lib/python3.7/dist-packages (from tensorflow==2.7.0) (2.0)\n",
            "Requirement already satisfied: tensorboard~=2.6 in /usr/local/lib/python3.7/dist-packages (from tensorflow==2.7.0) (2.7.0)\n",
            "Requirement already satisfied: h5py>=2.9.0 in /usr/local/lib/python3.7/dist-packages (from tensorflow==2.7.0) (3.1.0)\n",
            "Requirement already satisfied: protobuf>=3.9.2 in /usr/local/lib/python3.7/dist-packages (from tensorflow==2.7.0) (3.17.3)\n",
            "Requirement already satisfied: absl-py>=0.4.0 in /usr/local/lib/python3.7/dist-packages (from tensorflow==2.7.0) (0.12.0)\n",
            "Requirement already satisfied: google-pasta>=0.1.1 in /usr/local/lib/python3.7/dist-packages (from tensorflow==2.7.0) (0.2.0)\n",
            "Requirement already satisfied: tensorflow-estimator<2.8,~=2.7.0rc0 in /usr/local/lib/python3.7/dist-packages (from tensorflow==2.7.0) (2.7.0)\n",
            "Requirement already satisfied: gast<0.5.0,>=0.2.1 in /usr/local/lib/python3.7/dist-packages (from tensorflow==2.7.0) (0.4.0)\n",
            "Requirement already satisfied: astunparse>=1.6.0 in /usr/local/lib/python3.7/dist-packages (from tensorflow==2.7.0) (1.6.3)\n",
            "Requirement already satisfied: keras-preprocessing>=1.1.1 in /usr/local/lib/python3.7/dist-packages (from tensorflow==2.7.0) (1.1.2)\n",
            "Requirement already satisfied: grpcio<2.0,>=1.24.3 in /usr/local/lib/python3.7/dist-packages (from tensorflow==2.7.0) (1.42.0)\n",
            "Requirement already satisfied: opt-einsum>=2.3.2 in /usr/local/lib/python3.7/dist-packages (from tensorflow==2.7.0) (3.3.0)\n",
            "Requirement already satisfied: typing-extensions>=3.6.6 in /usr/local/lib/python3.7/dist-packages (from tensorflow==2.7.0) (3.10.0.2)\n",
            "Requirement already satisfied: wrapt>=1.11.0 in /usr/local/lib/python3.7/dist-packages (from tensorflow==2.7.0) (1.13.3)\n",
            "Requirement already satisfied: tensorflow-io-gcs-filesystem>=0.21.0 in /usr/local/lib/python3.7/dist-packages (from tensorflow==2.7.0) (0.22.0)\n",
            "Requirement already satisfied: libclang>=9.0.1 in /usr/local/lib/python3.7/dist-packages (from tensorflow==2.7.0) (12.0.0)\n",
            "Requirement already satisfied: cached-property in /usr/local/lib/python3.7/dist-packages (from h5py>=2.9.0->tensorflow==2.7.0) (1.5.2)\n",
            "Requirement already satisfied: tensorboard-plugin-wit>=1.6.0 in /usr/local/lib/python3.7/dist-packages (from tensorboard~=2.6->tensorflow==2.7.0) (1.8.0)\n",
            "Requirement already satisfied: google-auth-oauthlib<0.5,>=0.4.1 in /usr/local/lib/python3.7/dist-packages (from tensorboard~=2.6->tensorflow==2.7.0) (0.4.6)\n",
            "Requirement already satisfied: tensorboard-data-server<0.7.0,>=0.6.0 in /usr/local/lib/python3.7/dist-packages (from tensorboard~=2.6->tensorflow==2.7.0) (0.6.1)\n",
            "Requirement already satisfied: requests<3,>=2.21.0 in /usr/local/lib/python3.7/dist-packages (from tensorboard~=2.6->tensorflow==2.7.0) (2.23.0)\n",
            "Requirement already satisfied: werkzeug>=0.11.15 in /usr/local/lib/python3.7/dist-packages (from tensorboard~=2.6->tensorflow==2.7.0) (1.0.1)\n",
            "Requirement already satisfied: markdown>=2.6.8 in /usr/local/lib/python3.7/dist-packages (from tensorboard~=2.6->tensorflow==2.7.0) (3.3.6)\n",
            "Requirement already satisfied: setuptools>=41.0.0 in /usr/local/lib/python3.7/dist-packages (from tensorboard~=2.6->tensorflow==2.7.0) (57.4.0)\n",
            "Requirement already satisfied: google-auth<3,>=1.6.3 in /usr/local/lib/python3.7/dist-packages (from tensorboard~=2.6->tensorflow==2.7.0) (1.35.0)\n",
            "Requirement already satisfied: rsa<5,>=3.1.4 in /usr/local/lib/python3.7/dist-packages (from google-auth<3,>=1.6.3->tensorboard~=2.6->tensorflow==2.7.0) (4.8)\n",
            "Requirement already satisfied: cachetools<5.0,>=2.0.0 in /usr/local/lib/python3.7/dist-packages (from google-auth<3,>=1.6.3->tensorboard~=2.6->tensorflow==2.7.0) (4.2.4)\n",
            "Requirement already satisfied: pyasn1-modules>=0.2.1 in /usr/local/lib/python3.7/dist-packages (from google-auth<3,>=1.6.3->tensorboard~=2.6->tensorflow==2.7.0) (0.2.8)\n",
            "Requirement already satisfied: requests-oauthlib>=0.7.0 in /usr/local/lib/python3.7/dist-packages (from google-auth-oauthlib<0.5,>=0.4.1->tensorboard~=2.6->tensorflow==2.7.0) (1.3.0)\n",
            "Requirement already satisfied: importlib-metadata>=4.4 in /usr/local/lib/python3.7/dist-packages (from markdown>=2.6.8->tensorboard~=2.6->tensorflow==2.7.0) (4.8.2)\n",
            "Requirement already satisfied: zipp>=0.5 in /usr/local/lib/python3.7/dist-packages (from importlib-metadata>=4.4->markdown>=2.6.8->tensorboard~=2.6->tensorflow==2.7.0) (3.6.0)\n",
            "Requirement already satisfied: pyasn1<0.5.0,>=0.4.6 in /usr/local/lib/python3.7/dist-packages (from pyasn1-modules>=0.2.1->google-auth<3,>=1.6.3->tensorboard~=2.6->tensorflow==2.7.0) (0.4.8)\n",
            "Requirement already satisfied: idna<3,>=2.5 in /usr/local/lib/python3.7/dist-packages (from requests<3,>=2.21.0->tensorboard~=2.6->tensorflow==2.7.0) (2.10)\n",
            "Requirement already satisfied: certifi>=2017.4.17 in /usr/local/lib/python3.7/dist-packages (from requests<3,>=2.21.0->tensorboard~=2.6->tensorflow==2.7.0) (2021.10.8)\n",
            "Requirement already satisfied: urllib3!=1.25.0,!=1.25.1,<1.26,>=1.21.1 in /usr/local/lib/python3.7/dist-packages (from requests<3,>=2.21.0->tensorboard~=2.6->tensorflow==2.7.0) (1.24.3)\n",
            "Requirement already satisfied: chardet<4,>=3.0.2 in /usr/local/lib/python3.7/dist-packages (from requests<3,>=2.21.0->tensorboard~=2.6->tensorflow==2.7.0) (3.0.4)\n",
            "Requirement already satisfied: oauthlib>=3.0.0 in /usr/local/lib/python3.7/dist-packages (from requests-oauthlib>=0.7.0->google-auth-oauthlib<0.5,>=0.4.1->tensorboard~=2.6->tensorflow==2.7.0) (3.1.1)\n",
            "Requirement already satisfied: plotly in /usr/local/lib/python3.7/dist-packages (4.4.1)\n",
            "Collecting plotly\n",
            "  Downloading plotly-5.4.0-py2.py3-none-any.whl (25.3 MB)\n",
            "\u001b[K     |████████████████████████████████| 25.3 MB 1.3 MB/s \n",
            "\u001b[?25hCollecting tenacity>=6.2.0\n",
            "  Downloading tenacity-8.0.1-py3-none-any.whl (24 kB)\n",
            "Requirement already satisfied: six in /usr/local/lib/python3.7/dist-packages (from plotly) (1.15.0)\n",
            "Installing collected packages: tenacity, plotly\n",
            "  Attempting uninstall: plotly\n",
            "    Found existing installation: plotly 4.4.1\n",
            "    Uninstalling plotly-4.4.1:\n",
            "      Successfully uninstalled plotly-4.4.1\n",
            "Successfully installed plotly-5.4.0 tenacity-8.0.1\n"
          ]
        }
      ]
    },
    {
      "cell_type": "code",
      "metadata": {
        "colab": {
          "base_uri": "https://localhost:8080/"
        },
        "id": "XDNPG5s0mnM5",
        "outputId": "7dec8aa5-ce92-48db-ba12-114b3363e522"
      },
      "source": [
        "from google.colab import drive\n",
        "drive.mount('/drive')\n",
        "\n",
        "folder = \"MyDrive/MIDOG_Challenge\" #@param {type:\"string\"}\n",
        "midog_folder = Path(\"/drive\") / Path(folder)\n",
        "\n",
        "print(list(midog_folder.glob(\"*.*\")))"
      ],
      "execution_count": 3,
      "outputs": [
        {
          "output_type": "stream",
          "name": "stdout",
          "text": [
            "Mounted at /drive\n",
            "[PosixPath('/drive/MyDrive/MIDOG_Challenge/MIDOG.sqlite'), PosixPath('/drive/MyDrive/MIDOG_Challenge/MIDOG.json')]\n"
          ]
        }
      ]
    },
    {
      "cell_type": "code",
      "metadata": {
        "id": "gytRH8aXmozQ",
        "colab": {
          "base_uri": "https://localhost:8080/"
        },
        "outputId": "1c067889-85e6-4598-d52a-49933dda82c7"
      },
      "source": [
        "!apt-get install python3-openslide\n",
        "from openslide import open_slide"
      ],
      "execution_count": 4,
      "outputs": [
        {
          "output_type": "stream",
          "name": "stdout",
          "text": [
            "Selecting previously unselected package javascript-common.\n",
            "(Reading database ... 155222 files and directories currently installed.)\n",
            "Preparing to unpack .../00-javascript-common_11_all.deb ...\n",
            "Unpacking javascript-common (11) ...\n",
            "Selecting previously unselected package libjs-jquery.\n",
            "Preparing to unpack .../01-libjs-jquery_3.2.1-1_all.deb ...\n",
            "Unpacking libjs-jquery (3.2.1-1) ...\n",
            "Selecting previously unselected package libopenslide0.\n",
            "Preparing to unpack .../02-libopenslide0_3.4.1+dfsg-2_amd64.deb ...\n",
            "Unpacking libopenslide0 (3.4.1+dfsg-2) ...\n",
            "Selecting previously unselected package python-asn1crypto.\n",
            "Preparing to unpack .../03-python-asn1crypto_0.24.0-1_all.deb ...\n",
            "Unpacking python-asn1crypto (0.24.0-1) ...\n",
            "Selecting previously unselected package python-blinker.\n",
            "Preparing to unpack .../04-python-blinker_1.4+dfsg1-0.1_all.deb ...\n",
            "Unpacking python-blinker (1.4+dfsg1-0.1) ...\n",
            "Selecting previously unselected package python-cffi-backend.\n",
            "Preparing to unpack .../05-python-cffi-backend_1.11.5-1_amd64.deb ...\n",
            "Unpacking python-cffi-backend (1.11.5-1) ...\n",
            "Selecting previously unselected package python-colorama.\n",
            "Preparing to unpack .../06-python-colorama_0.3.7-1_all.deb ...\n",
            "Unpacking python-colorama (0.3.7-1) ...\n",
            "Selecting previously unselected package python-click.\n",
            "Preparing to unpack .../07-python-click_6.7-3_all.deb ...\n",
            "Unpacking python-click (6.7-3) ...\n",
            "Selecting previously unselected package python-enum34.\n",
            "Preparing to unpack .../08-python-enum34_1.1.6-2_all.deb ...\n",
            "Unpacking python-enum34 (1.1.6-2) ...\n",
            "Selecting previously unselected package python-idna.\n",
            "Preparing to unpack .../09-python-idna_2.6-1_all.deb ...\n",
            "Unpacking python-idna (2.6-1) ...\n",
            "Selecting previously unselected package python-ipaddress.\n",
            "Preparing to unpack .../10-python-ipaddress_1.0.17-1_all.deb ...\n",
            "Unpacking python-ipaddress (1.0.17-1) ...\n",
            "Selecting previously unselected package python-six.\n",
            "Preparing to unpack .../11-python-six_1.11.0-2_all.deb ...\n",
            "Unpacking python-six (1.11.0-2) ...\n",
            "Selecting previously unselected package python-cryptography.\n",
            "Preparing to unpack .../12-python-cryptography_2.1.4-1ubuntu1.4_amd64.deb ...\n",
            "Unpacking python-cryptography (2.1.4-1ubuntu1.4) ...\n",
            "Selecting previously unselected package python-itsdangerous.\n",
            "Preparing to unpack .../13-python-itsdangerous_0.24+dfsg1-2_all.deb ...\n",
            "Unpacking python-itsdangerous (0.24+dfsg1-2) ...\n",
            "Selecting previously unselected package python-markupsafe.\n",
            "Preparing to unpack .../14-python-markupsafe_1.0-1build1_amd64.deb ...\n",
            "Unpacking python-markupsafe (1.0-1build1) ...\n",
            "Selecting previously unselected package python-jinja2.\n",
            "Preparing to unpack .../15-python-jinja2_2.10-1ubuntu0.18.04.1_all.deb ...\n",
            "Unpacking python-jinja2 (2.10-1ubuntu0.18.04.1) ...\n",
            "Selecting previously unselected package python-werkzeug.\n",
            "Preparing to unpack .../16-python-werkzeug_0.14.1+dfsg1-1ubuntu0.1_all.deb ...\n",
            "Unpacking python-werkzeug (0.14.1+dfsg1-1ubuntu0.1) ...\n",
            "Selecting previously unselected package python-flask.\n",
            "Preparing to unpack .../17-python-flask_0.12.2-3ubuntu0.1_all.deb ...\n",
            "Unpacking python-flask (0.12.2-3ubuntu0.1) ...\n",
            "Selecting previously unselected package python3-pil:amd64.\n",
            "Preparing to unpack .../18-python3-pil_5.1.0-1ubuntu0.6_amd64.deb ...\n",
            "Unpacking python3-pil:amd64 (5.1.0-1ubuntu0.6) ...\n",
            "Selecting previously unselected package python3-openslide.\n",
            "Preparing to unpack .../19-python3-openslide_1.1.1-2ubuntu4_amd64.deb ...\n",
            "Unpacking python3-openslide (1.1.1-2ubuntu4) ...\n",
            "Selecting previously unselected package python-openslide-examples.\n",
            "Preparing to unpack .../20-python-openslide-examples_1.1.1-2ubuntu4_all.deb ...\n",
            "Unpacking python-openslide-examples (1.1.1-2ubuntu4) ...\n",
            "Selecting previously unselected package python-openssl.\n",
            "Preparing to unpack .../21-python-openssl_17.5.0-1ubuntu1_all.deb ...\n",
            "Unpacking python-openssl (17.5.0-1ubuntu1) ...\n",
            "Selecting previously unselected package python-pkg-resources.\n",
            "Preparing to unpack .../22-python-pkg-resources_39.0.1-2_all.deb ...\n",
            "Unpacking python-pkg-resources (39.0.1-2) ...\n",
            "Selecting previously unselected package python-pyinotify.\n",
            "Preparing to unpack .../23-python-pyinotify_0.9.6-1_all.deb ...\n",
            "Unpacking python-pyinotify (0.9.6-1) ...\n",
            "Selecting previously unselected package python-simplejson.\n",
            "Preparing to unpack .../24-python-simplejson_3.13.2-1_amd64.deb ...\n",
            "Unpacking python-simplejson (3.13.2-1) ...\n",
            "Selecting previously unselected package python3-olefile.\n",
            "Preparing to unpack .../25-python3-olefile_0.45.1-1_all.deb ...\n",
            "Unpacking python3-olefile (0.45.1-1) ...\n",
            "Setting up python-idna (2.6-1) ...\n",
            "Setting up python-simplejson (3.13.2-1) ...\n",
            "Setting up libjs-jquery (3.2.1-1) ...\n",
            "Setting up python-asn1crypto (0.24.0-1) ...\n",
            "Setting up python3-pil:amd64 (5.1.0-1ubuntu0.6) ...\n",
            "Setting up python-blinker (1.4+dfsg1-0.1) ...\n",
            "Setting up python3-olefile (0.45.1-1) ...\n",
            "Setting up python-colorama (0.3.7-1) ...\n",
            "Setting up python-pkg-resources (39.0.1-2) ...\n",
            "Setting up python-markupsafe (1.0-1build1) ...\n",
            "Setting up python-werkzeug (0.14.1+dfsg1-1ubuntu0.1) ...\n",
            "Setting up python-pyinotify (0.9.6-1) ...\n",
            "Setting up python-cffi-backend (1.11.5-1) ...\n",
            "Setting up python-six (1.11.0-2) ...\n",
            "Setting up libopenslide0 (3.4.1+dfsg-2) ...\n",
            "Setting up python-enum34 (1.1.6-2) ...\n",
            "Setting up javascript-common (11) ...\n",
            "Setting up python-itsdangerous (0.24+dfsg1-2) ...\n",
            "Setting up python-ipaddress (1.0.17-1) ...\n",
            "Setting up python-jinja2 (2.10-1ubuntu0.18.04.1) ...\n",
            "Setting up python-click (6.7-3) ...\n",
            "Setting up python3-openslide (1.1.1-2ubuntu4) ...\n",
            "Setting up python-cryptography (2.1.4-1ubuntu1.4) ...\n",
            "Setting up python-flask (0.12.2-3ubuntu0.1) ...\n",
            "Setting up python-openssl (17.5.0-1ubuntu1) ...\n",
            "Setting up python-openslide-examples (1.1.1-2ubuntu4) ...\n",
            "Processing triggers for libc-bin (2.27-3ubuntu1.3) ...\n",
            "/sbin/ldconfig.real: /usr/local/lib/python3.7/dist-packages/ideep4py/lib/libmkldnn.so.0 is not a symbolic link\n",
            "\n"
          ]
        }
      ]
    },
    {
      "cell_type": "code",
      "metadata": {
        "id": "tC_Bhdaxm32K"
      },
      "source": [
        "image_folder = midog_folder / \"images\"\n",
        "\n",
        "hamamatsu_rx_ids = list(range(0, 51))\n",
        "hamamatsu_360_ids = list(range(51, 101))\n",
        "aperio_ids = list(range(101, 151))\n",
        "leica_ids = list(range(151, 201))\n",
        "\n",
        "\n",
        "annotation_file = midog_folder / \"MIDOG.json\"\n",
        "rows = []\n",
        "with open(annotation_file) as f:\n",
        "    data = json.load(f)\n",
        "\n",
        "    categories = {1: 'mitotic figure', 2: 'hard negative'}\n",
        "\n",
        "    for row in data[\"images\"]:\n",
        "        file_name = row[\"file_name\"]\n",
        "        image_id = row[\"id\"]\n",
        "        width = row[\"width\"]\n",
        "        height = row[\"height\"]\n",
        "\n",
        "        scanner  = \"Hamamatsu XR\"\n",
        "        if image_id in hamamatsu_360_ids:\n",
        "            scanner  = \"Hamamatsu S360\"\n",
        "        if image_id in aperio_ids:\n",
        "            scanner  = \"Aperio CS\"\n",
        "        if image_id in leica_ids:\n",
        "            scanner  = \"Leica GT450\"\n",
        "         \n",
        "        for annotation in [anno for anno in data['annotations'] if anno[\"image_id\"] == image_id]:\n",
        "            box = annotation[\"bbox\"]\n",
        "            cat = categories[annotation[\"category_id\"]]\n",
        "\n",
        "            rows.append([file_name, image_id, width, height, box, cat, scanner])\n",
        "\n",
        "df = pd.DataFrame(rows, columns=[\"file_name\", \"image_id\", \"width\", \"height\", \"box\", \"cat\", \"scanner\"])"
      ],
      "execution_count": 5,
      "outputs": []
    },
    {
      "cell_type": "code",
      "metadata": {
        "id": "RseohjwGfjJA"
      },
      "source": [
        "train = df"
      ],
      "execution_count": 6,
      "outputs": []
    },
    {
      "cell_type": "code",
      "metadata": {
        "id": "qeRdWBYBflqZ",
        "colab": {
          "base_uri": "https://localhost:8080/",
          "height": 200
        },
        "outputId": "6238a385-871c-4f7a-8d3b-b7574d509970"
      },
      "source": [
        "train.head()"
      ],
      "execution_count": 7,
      "outputs": [
        {
          "output_type": "execute_result",
          "data": {
            "text/html": [
              "<div>\n",
              "<style scoped>\n",
              "    .dataframe tbody tr th:only-of-type {\n",
              "        vertical-align: middle;\n",
              "    }\n",
              "\n",
              "    .dataframe tbody tr th {\n",
              "        vertical-align: top;\n",
              "    }\n",
              "\n",
              "    .dataframe thead th {\n",
              "        text-align: right;\n",
              "    }\n",
              "</style>\n",
              "<table border=\"1\" class=\"dataframe\">\n",
              "  <thead>\n",
              "    <tr style=\"text-align: right;\">\n",
              "      <th></th>\n",
              "      <th>file_name</th>\n",
              "      <th>image_id</th>\n",
              "      <th>width</th>\n",
              "      <th>height</th>\n",
              "      <th>box</th>\n",
              "      <th>cat</th>\n",
              "      <th>scanner</th>\n",
              "    </tr>\n",
              "  </thead>\n",
              "  <tbody>\n",
              "    <tr>\n",
              "      <th>0</th>\n",
              "      <td>001.tiff</td>\n",
              "      <td>1</td>\n",
              "      <td>7215</td>\n",
              "      <td>5412</td>\n",
              "      <td>[4336, 346, 4386, 396]</td>\n",
              "      <td>hard negative</td>\n",
              "      <td>Hamamatsu XR</td>\n",
              "    </tr>\n",
              "    <tr>\n",
              "      <th>1</th>\n",
              "      <td>001.tiff</td>\n",
              "      <td>1</td>\n",
              "      <td>7215</td>\n",
              "      <td>5412</td>\n",
              "      <td>[756, 872, 806, 922]</td>\n",
              "      <td>hard negative</td>\n",
              "      <td>Hamamatsu XR</td>\n",
              "    </tr>\n",
              "    <tr>\n",
              "      <th>2</th>\n",
              "      <td>001.tiff</td>\n",
              "      <td>1</td>\n",
              "      <td>7215</td>\n",
              "      <td>5412</td>\n",
              "      <td>[270, 4044, 320, 4094]</td>\n",
              "      <td>hard negative</td>\n",
              "      <td>Hamamatsu XR</td>\n",
              "    </tr>\n",
              "    <tr>\n",
              "      <th>3</th>\n",
              "      <td>001.tiff</td>\n",
              "      <td>1</td>\n",
              "      <td>7215</td>\n",
              "      <td>5412</td>\n",
              "      <td>[6672.5, 706.5, 6722.5, 756.5]</td>\n",
              "      <td>hard negative</td>\n",
              "      <td>Hamamatsu XR</td>\n",
              "    </tr>\n",
              "    <tr>\n",
              "      <th>4</th>\n",
              "      <td>002.tiff</td>\n",
              "      <td>2</td>\n",
              "      <td>7215</td>\n",
              "      <td>5412</td>\n",
              "      <td>[1872, 319, 1922, 369]</td>\n",
              "      <td>hard negative</td>\n",
              "      <td>Hamamatsu XR</td>\n",
              "    </tr>\n",
              "  </tbody>\n",
              "</table>\n",
              "</div>"
            ],
            "text/plain": [
              "  file_name  image_id  ...            cat       scanner\n",
              "0  001.tiff         1  ...  hard negative  Hamamatsu XR\n",
              "1  001.tiff         1  ...  hard negative  Hamamatsu XR\n",
              "2  001.tiff         1  ...  hard negative  Hamamatsu XR\n",
              "3  001.tiff         1  ...  hard negative  Hamamatsu XR\n",
              "4  002.tiff         2  ...  hard negative  Hamamatsu XR\n",
              "\n",
              "[5 rows x 7 columns]"
            ]
          },
          "metadata": {},
          "execution_count": 7
        }
      ]
    },
    {
      "cell_type": "code",
      "metadata": {
        "id": "iucAyHYJzmr4",
        "outputId": "705d72e4-a844-4275-ba2d-d6e7d98e7ce3",
        "colab": {
          "base_uri": "https://localhost:8080/",
          "height": 170
        }
      },
      "source": [
        "train[train['file_name']=='001.tiff']"
      ],
      "execution_count": 26,
      "outputs": [
        {
          "output_type": "execute_result",
          "data": {
            "text/html": [
              "<div>\n",
              "<style scoped>\n",
              "    .dataframe tbody tr th:only-of-type {\n",
              "        vertical-align: middle;\n",
              "    }\n",
              "\n",
              "    .dataframe tbody tr th {\n",
              "        vertical-align: top;\n",
              "    }\n",
              "\n",
              "    .dataframe thead th {\n",
              "        text-align: right;\n",
              "    }\n",
              "</style>\n",
              "<table border=\"1\" class=\"dataframe\">\n",
              "  <thead>\n",
              "    <tr style=\"text-align: right;\">\n",
              "      <th></th>\n",
              "      <th>file_name</th>\n",
              "      <th>image_id</th>\n",
              "      <th>width</th>\n",
              "      <th>height</th>\n",
              "      <th>box</th>\n",
              "      <th>cat</th>\n",
              "      <th>scanner</th>\n",
              "    </tr>\n",
              "  </thead>\n",
              "  <tbody>\n",
              "    <tr>\n",
              "      <th>0</th>\n",
              "      <td>001.tiff</td>\n",
              "      <td>1</td>\n",
              "      <td>7215</td>\n",
              "      <td>5412</td>\n",
              "      <td>[4336, 346, 4386, 396]</td>\n",
              "      <td>hard negative</td>\n",
              "      <td>Hamamatsu XR</td>\n",
              "    </tr>\n",
              "    <tr>\n",
              "      <th>1</th>\n",
              "      <td>001.tiff</td>\n",
              "      <td>1</td>\n",
              "      <td>7215</td>\n",
              "      <td>5412</td>\n",
              "      <td>[756, 872, 806, 922]</td>\n",
              "      <td>hard negative</td>\n",
              "      <td>Hamamatsu XR</td>\n",
              "    </tr>\n",
              "    <tr>\n",
              "      <th>2</th>\n",
              "      <td>001.tiff</td>\n",
              "      <td>1</td>\n",
              "      <td>7215</td>\n",
              "      <td>5412</td>\n",
              "      <td>[270, 4044, 320, 4094]</td>\n",
              "      <td>hard negative</td>\n",
              "      <td>Hamamatsu XR</td>\n",
              "    </tr>\n",
              "    <tr>\n",
              "      <th>3</th>\n",
              "      <td>001.tiff</td>\n",
              "      <td>1</td>\n",
              "      <td>7215</td>\n",
              "      <td>5412</td>\n",
              "      <td>[6672.5, 706.5, 6722.5, 756.5]</td>\n",
              "      <td>hard negative</td>\n",
              "      <td>Hamamatsu XR</td>\n",
              "    </tr>\n",
              "  </tbody>\n",
              "</table>\n",
              "</div>"
            ],
            "text/plain": [
              "  file_name  image_id  ...            cat       scanner\n",
              "0  001.tiff         1  ...  hard negative  Hamamatsu XR\n",
              "1  001.tiff         1  ...  hard negative  Hamamatsu XR\n",
              "2  001.tiff         1  ...  hard negative  Hamamatsu XR\n",
              "3  001.tiff         1  ...  hard negative  Hamamatsu XR\n",
              "\n",
              "[4 rows x 7 columns]"
            ]
          },
          "metadata": {},
          "execution_count": 26
        }
      ]
    },
    {
      "cell_type": "code",
      "metadata": {
        "id": "Noaw_FeL6VAM",
        "colab": {
          "base_uri": "https://localhost:8080/"
        },
        "outputId": "51442b97-274b-4530-cee2-a70f5c20621c"
      },
      "source": [
        "train['cat'].unique()"
      ],
      "execution_count": 8,
      "outputs": [
        {
          "output_type": "execute_result",
          "data": {
            "text/plain": [
              "array(['hard negative', 'mitotic figure'], dtype=object)"
            ]
          },
          "metadata": {},
          "execution_count": 8
        }
      ]
    },
    {
      "cell_type": "code",
      "metadata": {
        "colab": {
          "base_uri": "https://localhost:8080/"
        },
        "id": "nATeQaHhAZTs",
        "outputId": "5b33e00e-d005-4d69-9a3d-0e83bad3ca06"
      },
      "source": [
        "train.dtypes"
      ],
      "execution_count": 9,
      "outputs": [
        {
          "output_type": "execute_result",
          "data": {
            "text/plain": [
              "file_name    object\n",
              "image_id      int64\n",
              "width         int64\n",
              "height        int64\n",
              "box          object\n",
              "cat          object\n",
              "scanner      object\n",
              "dtype: object"
            ]
          },
          "metadata": {},
          "execution_count": 9
        }
      ]
    },
    {
      "cell_type": "code",
      "metadata": {
        "colab": {
          "base_uri": "https://localhost:8080/"
        },
        "id": "i6fNXOz5A9tj",
        "outputId": "96a484b0-12c1-42dd-c7c5-c3aa664c083d"
      },
      "source": [
        "train['box']"
      ],
      "execution_count": 10,
      "outputs": [
        {
          "output_type": "execute_result",
          "data": {
            "text/plain": [
              "0               [4336, 346, 4386, 396]\n",
              "1                 [756, 872, 806, 922]\n",
              "2               [270, 4044, 320, 4094]\n",
              "3       [6672.5, 706.5, 6722.5, 756.5]\n",
              "4               [1872, 319, 1922, 369]\n",
              "                     ...              \n",
              "4430            [569, 4276, 619, 4326]\n",
              "4431          [3730, 4538, 3780, 4588]\n",
              "4432          [4318, 4138, 4368, 4188]\n",
              "4433          [5643, 1318, 5693, 1368]\n",
              "4434      [2681.5, 2846, 2731.5, 2896]\n",
              "Name: box, Length: 4435, dtype: object"
            ]
          },
          "metadata": {},
          "execution_count": 10
        }
      ]
    },
    {
      "cell_type": "code",
      "metadata": {
        "id": "vXoEEAYolBQr"
      },
      "source": [
        "box_dataframe = train.copy(deep=True)"
      ],
      "execution_count": 11,
      "outputs": []
    },
    {
      "cell_type": "code",
      "metadata": {
        "id": "vjRcdRyopxLR"
      },
      "source": [
        "box_dataframe.drop(['file_name','width','height','cat','scanner'], axis=1, inplace=True)"
      ],
      "execution_count": 12,
      "outputs": []
    },
    {
      "cell_type": "code",
      "metadata": {
        "id": "3Zz2nCRpq-Ra",
        "outputId": "a049be4d-acf9-4c49-f962-a5be0ab4263a",
        "colab": {
          "base_uri": "https://localhost:8080/",
          "height": 200
        }
      },
      "source": [
        "box_dataframe.head()"
      ],
      "execution_count": 13,
      "outputs": [
        {
          "output_type": "execute_result",
          "data": {
            "text/html": [
              "<div>\n",
              "<style scoped>\n",
              "    .dataframe tbody tr th:only-of-type {\n",
              "        vertical-align: middle;\n",
              "    }\n",
              "\n",
              "    .dataframe tbody tr th {\n",
              "        vertical-align: top;\n",
              "    }\n",
              "\n",
              "    .dataframe thead th {\n",
              "        text-align: right;\n",
              "    }\n",
              "</style>\n",
              "<table border=\"1\" class=\"dataframe\">\n",
              "  <thead>\n",
              "    <tr style=\"text-align: right;\">\n",
              "      <th></th>\n",
              "      <th>image_id</th>\n",
              "      <th>box</th>\n",
              "    </tr>\n",
              "  </thead>\n",
              "  <tbody>\n",
              "    <tr>\n",
              "      <th>0</th>\n",
              "      <td>1</td>\n",
              "      <td>[4336, 346, 4386, 396]</td>\n",
              "    </tr>\n",
              "    <tr>\n",
              "      <th>1</th>\n",
              "      <td>1</td>\n",
              "      <td>[756, 872, 806, 922]</td>\n",
              "    </tr>\n",
              "    <tr>\n",
              "      <th>2</th>\n",
              "      <td>1</td>\n",
              "      <td>[270, 4044, 320, 4094]</td>\n",
              "    </tr>\n",
              "    <tr>\n",
              "      <th>3</th>\n",
              "      <td>1</td>\n",
              "      <td>[6672.5, 706.5, 6722.5, 756.5]</td>\n",
              "    </tr>\n",
              "    <tr>\n",
              "      <th>4</th>\n",
              "      <td>2</td>\n",
              "      <td>[1872, 319, 1922, 369]</td>\n",
              "    </tr>\n",
              "  </tbody>\n",
              "</table>\n",
              "</div>"
            ],
            "text/plain": [
              "   image_id                             box\n",
              "0         1          [4336, 346, 4386, 396]\n",
              "1         1            [756, 872, 806, 922]\n",
              "2         1          [270, 4044, 320, 4094]\n",
              "3         1  [6672.5, 706.5, 6722.5, 756.5]\n",
              "4         2          [1872, 319, 1922, 369]"
            ]
          },
          "metadata": {},
          "execution_count": 13
        }
      ]
    },
    {
      "cell_type": "code",
      "metadata": {
        "id": "1q8uIe_orIbR"
      },
      "source": [
        "size = box_dataframe.shape[0]"
      ],
      "execution_count": 14,
      "outputs": []
    },
    {
      "cell_type": "code",
      "metadata": {
        "id": "wCCGIeiMrR55"
      },
      "source": [
        "List = box_dataframe[box_dataframe['image_id']==57]['box']\n",
        "List "
      ],
      "execution_count": null,
      "outputs": []
    },
    {
      "cell_type": "code",
      "metadata": {
        "id": "ebagQgl9ruIT"
      },
      "source": [
        "for i in range(size):\n",
        "  FileName = str(i+1)+\".tiff\"\n",
        "  File = open(\"sample.txt\", \"w\")\n",
        "   \n",
        "integer = 10\n",
        "File.write(str(integer))\n",
        "File.close()"
      ],
      "execution_count": 15,
      "outputs": []
    }
  ]
}